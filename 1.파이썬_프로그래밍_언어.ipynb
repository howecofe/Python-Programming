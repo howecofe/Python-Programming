{
  "nbformat": 4,
  "nbformat_minor": 0,
  "metadata": {
    "colab": {
      "name": "Jiyun Lee - _01 파이썬 프로그래밍 언어.ipynb",
      "provenance": [],
      "collapsed_sections": [],
      "toc_visible": true
    },
    "kernelspec": {
      "name": "python3",
      "display_name": "Python 3"
    }
  },
  "cells": [
    {
      "cell_type": "markdown",
      "metadata": {
        "id": "bg5ZXMV2sn1M"
      },
      "source": [
        "# 파이썬 프로그래밍 언어(Python Programming Language)"
      ]
    },
    {
      "cell_type": "markdown",
      "metadata": {
        "id": "Lj_iZPKnCRP0"
      },
      "source": [
        "\n",
        "\n",
        "---\n",
        "\n"
      ]
    },
    {
      "cell_type": "markdown",
      "metadata": {
        "id": "qHumj4Amv_r0"
      },
      "source": [
        "## 파이썬 시작하기\n",
        "\n",
        "* 프로그래밍 언어를 배울 때 보통 가장 먼저 하는 것은 인사\n",
        "* 가장 기본이 되는 화면 출력 함수인 `print()`를 이용해서 문자열 \"Hello Python\"을 출력"
      ]
    },
    {
      "cell_type": "code",
      "metadata": {
        "id": "wGQsH_uNlSbS",
        "colab": {
          "base_uri": "https://localhost:8080/",
          "height": 36
        },
        "outputId": "2c451dcb-4166-4b5e-eee2-c415b24198af"
      },
      "source": [
        "print(\"Hi Python\")"
      ],
      "execution_count": null,
      "outputs": [
        {
          "output_type": "stream",
          "text": [
            "Hi Python\n"
          ],
          "name": "stdout"
        }
      ]
    },
    {
      "cell_type": "markdown",
      "metadata": {
        "id": "6LUMthH9Lf9Z"
      },
      "source": [
        "## 파이썬으로 계산하기"
      ]
    },
    {
      "cell_type": "markdown",
      "metadata": {
        "id": "zImoFsf6T4U9"
      },
      "source": [
        "### 사칙연산\n",
        "\n",
        "* 파이썬에서는 기본적인 산술 연산을 바로 수행 가능\n",
        "* 더하기, 빼기, 곱하기, 나누기 같은 간단한 산술연산 예제"
      ]
    },
    {
      "cell_type": "code",
      "metadata": {
        "id": "VaRaodRLF6N_",
        "colab": {
          "base_uri": "https://localhost:8080/",
          "height": 36
        },
        "outputId": "9157556e-2939-4cbb-b21c-fa5bb3457870"
      },
      "source": [
        "1 + 1"
      ],
      "execution_count": null,
      "outputs": [
        {
          "output_type": "execute_result",
          "data": {
            "text/plain": [
              "2"
            ]
          },
          "metadata": {
            "tags": []
          },
          "execution_count": 2
        }
      ]
    },
    {
      "cell_type": "code",
      "metadata": {
        "id": "zpBz_0y9H_7I",
        "colab": {
          "base_uri": "https://localhost:8080/",
          "height": 36
        },
        "outputId": "d4628522-6e3c-4109-e79a-773414a60298"
      },
      "source": [
        "5 - 1"
      ],
      "execution_count": null,
      "outputs": [
        {
          "output_type": "execute_result",
          "data": {
            "text/plain": [
              "4"
            ]
          },
          "metadata": {
            "tags": []
          },
          "execution_count": 3
        }
      ]
    },
    {
      "cell_type": "code",
      "metadata": {
        "id": "PLTZwXWFHPmv",
        "colab": {
          "base_uri": "https://localhost:8080/",
          "height": 36
        },
        "outputId": "a8678cdc-3d6f-4a57-e63e-0d69a8e10e3b"
      },
      "source": [
        "4 * 3"
      ],
      "execution_count": null,
      "outputs": [
        {
          "output_type": "execute_result",
          "data": {
            "text/plain": [
              "12"
            ]
          },
          "metadata": {
            "tags": []
          },
          "execution_count": 4
        }
      ]
    },
    {
      "cell_type": "code",
      "metadata": {
        "id": "8BFrh9HmHVkz",
        "colab": {
          "base_uri": "https://localhost:8080/",
          "height": 36
        },
        "outputId": "9f1a9a07-4a3a-4fa8-d3b7-8b305adba766"
      },
      "source": [
        "3 / 5"
      ],
      "execution_count": null,
      "outputs": [
        {
          "output_type": "execute_result",
          "data": {
            "text/plain": [
              "0.6"
            ]
          },
          "metadata": {
            "tags": []
          },
          "execution_count": 5
        }
      ]
    },
    {
      "cell_type": "markdown",
      "metadata": {
        "id": "G3WJblW4KKLh"
      },
      "source": [
        "### 실수 사칙연산\n",
        "\n",
        "* 실수에 대해서도 사칙연산 가능"
      ]
    },
    {
      "cell_type": "code",
      "metadata": {
        "id": "SUWi_GcFKSH5",
        "colab": {
          "base_uri": "https://localhost:8080/",
          "height": 36
        },
        "outputId": "e2cbd5db-a5d7-4ea0-9b68-b45bf5632221"
      },
      "source": [
        "1.1 + 2.4"
      ],
      "execution_count": null,
      "outputs": [
        {
          "output_type": "execute_result",
          "data": {
            "text/plain": [
              "3.5"
            ]
          },
          "metadata": {
            "tags": []
          },
          "execution_count": 6
        }
      ]
    },
    {
      "cell_type": "code",
      "metadata": {
        "id": "CqBZeD9oKU72",
        "colab": {
          "base_uri": "https://localhost:8080/",
          "height": 36
        },
        "outputId": "724222a0-ad8f-4413-dada-d62f144a50ab"
      },
      "source": [
        "4.2 - 1.2"
      ],
      "execution_count": null,
      "outputs": [
        {
          "output_type": "execute_result",
          "data": {
            "text/plain": [
              "3.0"
            ]
          },
          "metadata": {
            "tags": []
          },
          "execution_count": 7
        }
      ]
    },
    {
      "cell_type": "code",
      "metadata": {
        "id": "s1xyEhRJKXZL",
        "colab": {
          "base_uri": "https://localhost:8080/",
          "height": 36
        },
        "outputId": "18109ba2-cd90-4e89-ae36-573e63bc60cf"
      },
      "source": [
        "1.2 * 2.2"
      ],
      "execution_count": null,
      "outputs": [
        {
          "output_type": "execute_result",
          "data": {
            "text/plain": [
              "2.64"
            ]
          },
          "metadata": {
            "tags": []
          },
          "execution_count": 8
        }
      ]
    },
    {
      "cell_type": "code",
      "metadata": {
        "id": "XKz3Ahc6KZwu",
        "colab": {
          "base_uri": "https://localhost:8080/",
          "height": 36
        },
        "outputId": "e8f8becd-55ad-4f46-8c73-24be254fc8c8"
      },
      "source": [
        "5.4 / 2.7"
      ],
      "execution_count": null,
      "outputs": [
        {
          "output_type": "execute_result",
          "data": {
            "text/plain": [
              "2.0"
            ]
          },
          "metadata": {
            "tags": []
          },
          "execution_count": 9
        }
      ]
    },
    {
      "cell_type": "markdown",
      "metadata": {
        "id": "2g1kd0ReKnvh"
      },
      "source": [
        "### 복잡한 연산\n",
        "\n",
        "* 여러 산술연산들이 포함된 복잡한 연산들도 가능"
      ]
    },
    {
      "cell_type": "code",
      "metadata": {
        "id": "06Tq0A94KvqH",
        "colab": {
          "base_uri": "https://localhost:8080/",
          "height": 36
        },
        "outputId": "ff9d709b-c7a9-456b-97b0-baba6b9c03b9"
      },
      "source": [
        "1 + 2 + 3 / 3 * 2"
      ],
      "execution_count": null,
      "outputs": [
        {
          "output_type": "execute_result",
          "data": {
            "text/plain": [
              "5.0"
            ]
          },
          "metadata": {
            "tags": []
          },
          "execution_count": 10
        }
      ]
    },
    {
      "cell_type": "code",
      "metadata": {
        "id": "zODjpBPxKyKy",
        "colab": {
          "base_uri": "https://localhost:8080/",
          "height": 36
        },
        "outputId": "51e3c8a2-9968-42be-c28c-9720f4b3ffc3"
      },
      "source": [
        "4 / 2 * 2 - 10 / 4"
      ],
      "execution_count": null,
      "outputs": [
        {
          "output_type": "execute_result",
          "data": {
            "text/plain": [
              "1.5"
            ]
          },
          "metadata": {
            "tags": []
          },
          "execution_count": 11
        }
      ]
    },
    {
      "cell_type": "code",
      "metadata": {
        "id": "yCDpG51AK6Vm",
        "colab": {
          "base_uri": "https://localhost:8080/",
          "height": 36
        },
        "outputId": "2f9a77f6-9121-478f-e7ea-f26c3ee303b5"
      },
      "source": [
        "(10 - 2 * 4) / (1 + 2) * (10 - 4)"
      ],
      "execution_count": null,
      "outputs": [
        {
          "output_type": "execute_result",
          "data": {
            "text/plain": [
              "4.0"
            ]
          },
          "metadata": {
            "tags": []
          },
          "execution_count": 12
        }
      ]
    },
    {
      "cell_type": "markdown",
      "metadata": {
        "id": "dI2C7NDyQ_Uq"
      },
      "source": [
        "\n",
        "\n",
        "---\n",
        "\n"
      ]
    },
    {
      "cell_type": "markdown",
      "metadata": {
        "id": "FiUzzSZOVuIK"
      },
      "source": [
        "## 파이썬 문법(Python Syntax)\n"
      ]
    },
    {
      "cell_type": "markdown",
      "metadata": {
        "id": "Ia0eyXfzV5b7"
      },
      "source": [
        "### 들여쓰기(Indentation)\n",
        "\n",
        "* 코드 라인의 시작 부분에 들여쓰기\n",
        "* 파이썬은 들여쓰기로 코드의 블록을 표시"
      ]
    },
    {
      "cell_type": "code",
      "metadata": {
        "id": "jDZmAkxVV32c",
        "colab": {
          "base_uri": "https://localhost:8080/",
          "height": 36
        },
        "outputId": "3fc8987c-c931-4f44-9b88-a91cb36ae19b"
      },
      "source": [
        "if 2 > 1:\n",
        "  print(2)"
      ],
      "execution_count": null,
      "outputs": [
        {
          "output_type": "stream",
          "text": [
            "2\n"
          ],
          "name": "stdout"
        }
      ]
    },
    {
      "cell_type": "code",
      "metadata": {
        "id": "Hffc6CB4b8F6",
        "colab": {
          "base_uri": "https://localhost:8080/",
          "height": 36
        },
        "outputId": "fc74e180-2a92-45a1-8dcd-2c1078cef31e"
      },
      "source": [
        "if 2 > 1:\n",
        "  print(2)"
      ],
      "execution_count": null,
      "outputs": [
        {
          "output_type": "stream",
          "text": [
            "2\n"
          ],
          "name": "stdout"
        }
      ]
    },
    {
      "cell_type": "markdown",
      "metadata": {
        "id": "XmkeU7cUWy2A"
      },
      "source": [
        "### 주석(Comments)\n",
        "\n",
        "* 코드에 대해 설명하는데 사용하고 가독성 증가\n",
        "* 일부 코드를 주석처리하여 실행 방지 가능"
      ]
    },
    {
      "cell_type": "code",
      "metadata": {
        "id": "qw9MLmHrW16P",
        "colab": {
          "base_uri": "https://localhost:8080/",
          "height": 36
        },
        "outputId": "c168f750-9eab-4802-8787-9c4b26ff8c86"
      },
      "source": [
        "# 주석 부분\n",
        "print(\"주석문\") # 출력\n",
        "#print(\"Comment\")"
      ],
      "execution_count": null,
      "outputs": [
        {
          "output_type": "stream",
          "text": [
            "주석문\n"
          ],
          "name": "stdout"
        }
      ]
    }
  ]
}