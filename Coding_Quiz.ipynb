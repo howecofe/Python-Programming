{
  "nbformat": 4,
  "nbformat_minor": 0,
  "metadata": {
    "colab": {
      "name": "Jiyun Lee - Coding Quiz #1.ipynb",
      "provenance": [],
      "collapsed_sections": []
    },
    "kernelspec": {
      "name": "python3",
      "display_name": "Python 3"
    }
  },
  "cells": [
    {
      "cell_type": "markdown",
      "metadata": {
        "id": "xNP769bx9vfC"
      },
      "source": [
        "# Coding Quiz #1"
      ]
    },
    {
      "cell_type": "markdown",
      "metadata": {
        "id": "31ATM9vUxJQ0"
      },
      "source": [
        "## 1부터 100 사이의 홀수와 짝수의 누적합을 구하시오. (10점)"
      ]
    },
    {
      "cell_type": "code",
      "metadata": {
        "id": "ZVXTJT-J9p_n",
        "colab": {
          "base_uri": "https://localhost:8080/",
          "height": 55
        },
        "outputId": "fd950280-a4ea-434a-e4e5-f3282adcff99"
      },
      "source": [
        "even_sum = 0\n",
        "odd_sum = 0\n",
        "\n",
        "for i in range(1, 101):\n",
        "  if i % 2  == 0:\n",
        "    even_sum += i\n",
        "  else:\n",
        "    odd_sum += i\n",
        "\n",
        "print(\"1~100 홀수 누적합:\", odd_sum)\n",
        "print(\"1~100 짝수 누적합:\", even_sum)\n"
      ],
      "execution_count": null,
      "outputs": [
        {
          "output_type": "stream",
          "text": [
            "1~100 홀수 누적합: 2500\n",
            "1~100 짝수 누적합: 2550\n"
          ],
          "name": "stdout"
        }
      ]
    },
    {
      "cell_type": "markdown",
      "metadata": {
        "id": "tl6BsWC-7OOI"
      },
      "source": [
        "## 2부터 100 사이의 소수를 구하는 코드를 작성하시오. (30점)"
      ]
    },
    {
      "cell_type": "code",
      "metadata": {
        "id": "pGmfIij77QoI",
        "colab": {
          "base_uri": "https://localhost:8080/",
          "height": 484
        },
        "outputId": "20b2e2ad-f1af-47be-e5e8-339aa3aa6892"
      },
      "source": [
        "for i in range(2, 101):\n",
        "  for j in range(2, 101):\n",
        "    if i % j == 0:\n",
        "      if i != j:\n",
        "        break\n",
        "      else:\n",
        "        print(i)\n",
        "    else:\n",
        "      pass"
      ],
      "execution_count": null,
      "outputs": [
        {
          "output_type": "stream",
          "text": [
            "2\n",
            "3\n",
            "5\n",
            "7\n",
            "11\n",
            "13\n",
            "17\n",
            "19\n",
            "23\n",
            "29\n",
            "31\n",
            "37\n",
            "41\n",
            "43\n",
            "47\n",
            "53\n",
            "59\n",
            "61\n",
            "67\n",
            "71\n",
            "73\n",
            "79\n",
            "83\n",
            "89\n",
            "97\n"
          ],
          "name": "stdout"
        }
      ]
    },
    {
      "cell_type": "markdown",
      "metadata": {
        "id": "oCvySvayxyC_"
      },
      "source": [
        "## 가장 짧은 도시 이름을 출력하는 코드를 작성하시오. (30점)"
      ]
    },
    {
      "cell_type": "code",
      "metadata": {
        "id": "aazKycs4yImx",
        "colab": {
          "base_uri": "https://localhost:8080/",
          "height": 36
        },
        "outputId": "93414904-1073-4ccb-eccb-25416864c9ab"
      },
      "source": [
        "cities = ['daejeon', 'seoul', 'daegu', 'busan', 'chuncheon', 'uijeongbu']\n",
        "\n",
        "shortlist = []\n",
        "shortword = cities[0]\n",
        "for i in cities:\n",
        "  if len(i) < len(shortword):\n",
        "    shortlist.clear()\n",
        "    shortword = i\n",
        "    shortlist.append(i)\n",
        "  elif len(i) == len(shortword):\n",
        "    shortword = i\n",
        "    shortlist.append(i)\n",
        "  else:\n",
        "    pass\n",
        "\n",
        "print(shortlist)"
      ],
      "execution_count": null,
      "outputs": [
        {
          "output_type": "stream",
          "text": [
            "['seoul', 'daegu', 'busan']\n"
          ],
          "name": "stdout"
        }
      ]
    },
    {
      "cell_type": "markdown",
      "metadata": {
        "id": "vNZR8EPUyn2R"
      },
      "source": [
        "## 나이에 따른 입장료를 계산하는 코드를 작성하시오. (30점)\n",
        "\n",
        "* 1~7세: 1000원\n",
        "* 8~20세: 2000원\n",
        "* 21~40세: 3000원\n",
        "* 41~세: 1500원"
      ]
    },
    {
      "cell_type": "code",
      "metadata": {
        "id": "O41hi254yrqG",
        "colab": {
          "base_uri": "https://localhost:8080/",
          "height": 36
        },
        "outputId": "2459d7b7-a877-4457-84be-3297792545dc"
      },
      "source": [
        "age = 30\n",
        "pay = 0\n",
        "\n",
        "if age < 8:\n",
        "  pay = 1000\n",
        "elif age < 21:\n",
        "  pay = 2000\n",
        "elif age < 41:\n",
        "  pay = 3000\n",
        "else:\n",
        "  pay = 1500\n",
        "\n",
        "print(\"나이: {0}, 입장료: {1}\".format(age, pay))"
      ],
      "execution_count": null,
      "outputs": [
        {
          "output_type": "stream",
          "text": [
            "나이: 30, 입장료: 3000\n"
          ],
          "name": "stdout"
        }
      ]
    }
  ]
}