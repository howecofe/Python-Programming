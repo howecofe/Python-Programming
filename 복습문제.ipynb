{
  "nbformat": 4,
  "nbformat_minor": 0,
  "metadata": {
    "colab": {
      "name": "Jiyun Lee - [과제] 복습 1.ipynb",
      "provenance": [],
      "collapsed_sections": []
    },
    "kernelspec": {
      "name": "python3",
      "display_name": "Python 3"
    }
  },
  "cells": [
    {
      "cell_type": "markdown",
      "metadata": {
        "id": "cEStQW4zEY1P"
      },
      "source": [
        "## 입력값이 양수, 음수, 0인지 구분하는 코드를 작성하시오. (20점)"
      ]
    },
    {
      "cell_type": "code",
      "metadata": {
        "id": "_n49K81yEZUq",
        "colab": {
          "base_uri": "https://localhost:8080/",
          "height": 55
        },
        "outputId": "1cf93c4c-4c64-4096-f1d9-491ad15e2060"
      },
      "source": [
        "n = int(input(\"정수 입력:\"))\n",
        "\n",
        "if n > 0:\n",
        "  print(f\"입력값 {n}은(는) 양수입니다.\")\n",
        "elif n < 0:\n",
        "  print(f\"입력값 {n}은(는) 음수입니다.\")\n",
        "else:\n",
        "  print(\"입력값은 0입니다.\")"
      ],
      "execution_count": null,
      "outputs": [
        {
          "output_type": "stream",
          "text": [
            "정수 입력:-98\n",
            "입력값 -98은(는) 음수입니다.\n"
          ],
          "name": "stdout"
        }
      ]
    },
    {
      "cell_type": "markdown",
      "metadata": {
        "id": "Y7Tsxss0GsRO"
      },
      "source": [
        "## 주민등록번호를 입력받아 남성과 여성을 구분하는 코드를 작성하시오. (20점)"
      ]
    },
    {
      "cell_type": "code",
      "metadata": {
        "id": "C6kvxWkZGsnA",
        "colab": {
          "base_uri": "https://localhost:8080/",
          "height": 92
        },
        "outputId": "b4d4498d-b62d-426e-8669-9fda20d36bf5"
      },
      "source": [
        "while True:\n",
        "  reg_num = input(\"주민등록번호(숫자만 입력하세요.):\")\n",
        "  if int(reg_num[6]) == 2 or int(reg_num[6]) == 4:\n",
        "    print(\"여성입니다.\")\n",
        "    break\n",
        "  elif int(reg_num[6]) == 1 or int(reg_num[6]) == 3:\n",
        "    print(\"남성입니다.\")\n",
        "    break\n",
        "  else:\n",
        "    print(\"다시 입력하세요.\")"
      ],
      "execution_count": null,
      "outputs": [
        {
          "output_type": "stream",
          "text": [
            "주민등록번호(숫자만 입력하세요.):9876547985243\n",
            "다시 입력하세요.\n",
            "주민등록번호(숫자만 입력하세요.):9876542345678\n",
            "여성입니다.\n"
          ],
          "name": "stdout"
        }
      ]
    },
    {
      "cell_type": "markdown",
      "metadata": {
        "id": "31ATM9vUxJQ0"
      },
      "source": [
        "## 삼각형과 사각형의 넓이는 구하는 함수를 작성하시오. (20점)"
      ]
    },
    {
      "cell_type": "code",
      "metadata": {
        "id": "ZVXTJT-J9p_n",
        "colab": {
          "base_uri": "https://localhost:8080/",
          "height": 92
        },
        "outputId": "3d328b07-e7bb-4791-8564-c12387dd92ed"
      },
      "source": [
        "def triangle(w, h):\n",
        "  return w * h * 1/2\n",
        "\n",
        "def rectangle(w, h):\n",
        "  return w * h\n",
        "\n",
        "width = int(input('너비 입력:'))\n",
        "height = int(input('높이 입력:'))\n",
        "\n",
        "print(\"삼각형의 넓이:\", triangle(width, height))\n",
        "print(\"사각형의 넓이:\", rectangle(width, height))"
      ],
      "execution_count": null,
      "outputs": [
        {
          "output_type": "stream",
          "text": [
            "너비 입력:5\n",
            "높이 입력:8\n",
            "삼각형의 넓이: 20.0\n",
            "사각형의 넓이: 40\n"
          ],
          "name": "stdout"
        }
      ]
    },
    {
      "cell_type": "markdown",
      "metadata": {
        "id": "tl6BsWC-7OOI"
      },
      "source": [
        "## 두 수를 입력받아 계산하는 함수들을 작성하시오. (20점)"
      ]
    },
    {
      "cell_type": "code",
      "metadata": {
        "id": "pGmfIij77QoI",
        "colab": {
          "base_uri": "https://localhost:8080/",
          "height": 129
        },
        "outputId": "966e6349-65fc-45d4-eea6-71a3c0c926b1"
      },
      "source": [
        "def add(a, b) :\n",
        "\treturn a + b\n",
        "\n",
        "def sub(a, b) :\n",
        "\treturn a - b\n",
        "\n",
        "def mult(a, b) :\n",
        "\treturn a * b\n",
        "\n",
        "def div(a, b) :\n",
        "\treturn a / b\n",
        "\n",
        "x = int(input('정수 x: '))\n",
        "y = int(input('정수 y: '))\n",
        "\n",
        "print('두 수의 덧셈 : %d' % add(x, y))\n",
        "print('두 수의 뺄셈 : %d' % sub(x, y))\n",
        "print('두 수의 곱셈 : %d' % mult(x, y))\n",
        "print('두 수의 나눗셈 : %d' % div(x, y))"
      ],
      "execution_count": null,
      "outputs": [
        {
          "output_type": "stream",
          "text": [
            "정수 x: 10\n",
            "정수 y: 5\n",
            "두 수의 덧셈 : 15\n",
            "두 수의 뺄셈 : 5\n",
            "두 수의 곱셈 : 50\n",
            "두 수의 나눗셈 : 2\n"
          ],
          "name": "stdout"
        }
      ]
    },
    {
      "cell_type": "markdown",
      "metadata": {
        "id": "ZtmVFUlSHVxH"
      },
      "source": [
        "## 타자 게임 코드를 발전시켜 보세요. (20점)"
      ]
    },
    {
      "cell_type": "code",
      "metadata": {
        "id": "raevf66bzOzY",
        "colab": {
          "base_uri": "https://localhost:8080/",
          "height": 1000
        },
        "outputId": "155cb93f-ab57-49ef-841c-7b124471814e"
      },
      "source": [
        "import random\n",
        "import time\n",
        "\n",
        "# 단어 리스트 w 선언과 초기화!!\n",
        "w = ['cat', 'bird','dog', 'fox', 'monkey', 'lion', 'tiger', 'mouse', 'panda', 'frog', 'snake', 'wolf', 'horse']\n",
        "\n",
        "n = 1 # 문제 번호로 사용될 변수\n",
        "total_count = 0 #총 시도 횟수\n",
        "failure_count = 0 #오답 횟수\n",
        "\n",
        "print('[타자 게임] 준비되면 엔터를 누르세요.')\n",
        "input()\n",
        "\n",
        "start = time.time() # 엔터 누르고 나서의 현재 시간을 start에 대입!\n",
        "\n",
        "q = random.choice(w) # 리스트 w에서 임의의 단어 선택\n",
        "\n",
        "while n <= 5 : # 문제는 5번까지만\n",
        "    print('** 문제', n, '번 **')\n",
        "    print(q)\n",
        "    x = input()\n",
        " \n",
        "    if q == x :\n",
        "        print('통과')\n",
        "        n = n + 1\n",
        "        q = random.choice(w) # 리스트 w의 다른 내용으로 q에 대입\n",
        "        total_count += 1\n",
        "    else :\n",
        "        print('오타~ 다시 도전!')\n",
        "        failure_count += 1\n",
        "        total_count += 1\n",
        "\n",
        "end = time.time()\n",
        "\n",
        "et = end - start\n",
        "et = format(et, '.2f') # et의 값을 소수점 2자리 실수로 표현!\n",
        "prob = (failure_count / total_count) * 100 if failure_count != 0 else 0 #오답율\n",
        "\n",
        "print('타자 시간 :', et, '초')\n",
        "print('오답율: %.1f (%%)' % prob)"
      ],
      "execution_count": null,
      "outputs": [
        {
          "output_type": "stream",
          "text": [
            "[타자 게임] 준비되면 엔터를 누르세요.\n",
            "\n",
            "** 문제 1 번 **\n",
            "frog\n",
            "frogggg\n",
            "오타~ 다시 도전!\n",
            "** 문제 1 번 **\n",
            "frog\n",
            "fffffffrog\n",
            "오타~ 다시 도전!\n",
            "** 문제 1 번 **\n",
            "frog\n",
            "feg\n",
            "오타~ 다시 도전!\n",
            "** 문제 1 번 **\n",
            "frog\n",
            "freg\n",
            "오타~ 다시 도전!\n",
            "** 문제 1 번 **\n",
            "frog\n",
            "frog\n",
            "통과\n",
            "** 문제 2 번 **\n",
            "fox\n",
            "fox\n",
            "통과\n",
            "** 문제 3 번 **\n",
            "cat\n",
            "cet\n",
            "오타~ 다시 도전!\n",
            "** 문제 3 번 **\n",
            "cat\n",
            "caaaaaat\n",
            "오타~ 다시 도전!\n",
            "** 문제 3 번 **\n",
            "cat\n",
            "cat\n",
            "통과\n",
            "** 문제 4 번 **\n",
            "mouse\n",
            "mouse\n",
            "통과\n",
            "** 문제 5 번 **\n",
            "tiger\n",
            "tiigiei\n",
            "오타~ 다시 도전!\n",
            "** 문제 5 번 **\n",
            "tiger\n",
            "tijer\n",
            "오타~ 다시 도전!\n",
            "** 문제 5 번 **\n",
            "tiger\n",
            "tigr\n",
            "오타~ 다시 도전!\n",
            "** 문제 5 번 **\n",
            "tiger\n",
            "tigerr\n",
            "오타~ 다시 도전!\n",
            "** 문제 5 번 **\n",
            "tiger\n",
            "tiger\n",
            "통과\n",
            "타자 시간 : 35.80 초\n",
            "오답율: 66.7 (%)\n"
          ],
          "name": "stdout"
        }
      ]
    }
  ]
}