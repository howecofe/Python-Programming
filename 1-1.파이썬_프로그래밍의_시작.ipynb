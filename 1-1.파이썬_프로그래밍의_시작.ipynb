{
  "nbformat": 4,
  "nbformat_minor": 0,
  "metadata": {
    "colab": {
      "name": "Jiyun Lee - 1. 파이썬 프로그래밍의 시작.ipynb",
      "provenance": [],
      "collapsed_sections": []
    },
    "kernelspec": {
      "name": "python3",
      "display_name": "Python 3"
    }
  },
  "cells": [
    {
      "cell_type": "markdown",
      "metadata": {
        "id": "UJU45JKZWOTk"
      },
      "source": [
        "### 1. 다음 코드를 각각 실행하고 결과를 보이시오.\n",
        "`>>>` print(\"Hello\" + \"Python\")  \n",
        "\n",
        "`>>>` print(\"반갑습니다 \" * 10)\n",
        "\n",
        "`>>>` print(\"123\" + \"456\")\n",
        "\n",
        "`>>>` print(123+456)\n"
      ]
    },
    {
      "cell_type": "code",
      "metadata": {
        "id": "CoLKrW-YJzSg",
        "colab": {
          "base_uri": "https://localhost:8080/",
          "height": 36
        },
        "outputId": "29c747d0-a705-408e-98f5-c2174768ca23"
      },
      "source": [
        "print(\"Hello\" + \"Python\")"
      ],
      "execution_count": null,
      "outputs": [
        {
          "output_type": "stream",
          "text": [
            "HelloPython\n"
          ],
          "name": "stdout"
        }
      ]
    },
    {
      "cell_type": "code",
      "metadata": {
        "id": "ff7r1SiXJ9Sn",
        "colab": {
          "base_uri": "https://localhost:8080/",
          "height": 36
        },
        "outputId": "17ac0b21-0eef-4fb6-ee69-d615a413e0a0"
      },
      "source": [
        "print(\"반갑습니다\" * 10)"
      ],
      "execution_count": null,
      "outputs": [
        {
          "output_type": "stream",
          "text": [
            "반갑습니다반갑습니다반갑습니다반갑습니다반갑습니다반갑습니다반갑습니다반갑습니다반갑습니다반갑습니다\n"
          ],
          "name": "stdout"
        }
      ]
    },
    {
      "cell_type": "code",
      "metadata": {
        "id": "lddn6iTGJ9h4",
        "colab": {
          "base_uri": "https://localhost:8080/",
          "height": 36
        },
        "outputId": "cfbd0046-0cf2-4224-d5f8-1fdc5c16aeb6"
      },
      "source": [
        "print(\"123\" + \"456\")"
      ],
      "execution_count": null,
      "outputs": [
        {
          "output_type": "stream",
          "text": [
            "123456\n"
          ],
          "name": "stdout"
        }
      ]
    },
    {
      "cell_type": "code",
      "metadata": {
        "id": "Hxys8voPJ9xY",
        "colab": {
          "base_uri": "https://localhost:8080/",
          "height": 36
        },
        "outputId": "a6dd0a02-68a9-4ea6-babd-3146091a2f45"
      },
      "source": [
        "print(123 + 456)"
      ],
      "execution_count": null,
      "outputs": [
        {
          "output_type": "stream",
          "text": [
            "579\n"
          ],
          "name": "stdout"
        }
      ]
    },
    {
      "cell_type": "markdown",
      "metadata": {
        "id": "VbI9LgV7Ur3g"
      },
      "source": [
        "###2. print() 함수를 사용하여 다음과 같이 출력하는 코드를 작성하시오.\n",
        "\n",
        "-------\n",
        "3+8*4-6/3 은 [결과값] 입니다.\n",
        "\n",
        "*hint. print() 함수로 여러 개의 값을 출력할 때는 쉼표로 값들을 분리한다."
      ]
    },
    {
      "cell_type": "code",
      "metadata": {
        "id": "8ZbIVdGPKPfk",
        "colab": {
          "base_uri": "https://localhost:8080/",
          "height": 36
        },
        "outputId": "40405e0f-d81d-48c1-88f7-decf949c46f6"
      },
      "source": [
        "print(\"3+8*4-6/3 은\", 3+8*4-6/3, \"입니다.\")"
      ],
      "execution_count": null,
      "outputs": [
        {
          "output_type": "stream",
          "text": [
            "3+8*4-6/3 은 33.0 입니다.\n"
          ],
          "name": "stdout"
        }
      ]
    }
  ]
}