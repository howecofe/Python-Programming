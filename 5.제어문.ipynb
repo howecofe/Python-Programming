{
  "nbformat": 4,
  "nbformat_minor": 0,
  "metadata": {
    "colab": {
      "name": "Jiyun Lee - _05 제어문.ipynb",
      "provenance": [],
      "collapsed_sections": [],
      "toc_visible": true
    },
    "kernelspec": {
      "name": "python3",
      "display_name": "Python 3"
    }
  },
  "cells": [
    {
      "cell_type": "markdown",
      "metadata": {
        "id": "bg5ZXMV2sn1M"
      },
      "source": [
        "# 제어문(Control Statement)"
      ]
    },
    {
      "cell_type": "markdown",
      "metadata": {
        "id": "Lj_iZPKnCRP0"
      },
      "source": [
        "\n",
        "\n",
        "---\n",
        "\n"
      ]
    },
    {
      "cell_type": "markdown",
      "metadata": {
        "id": "zXbENjlMCrkU"
      },
      "source": [
        "## 조건문(Conditional Statement)\n"
      ]
    },
    {
      "cell_type": "markdown",
      "metadata": {
        "id": "QerabWfwCvtt"
      },
      "source": [
        "### if 문\n"
      ]
    },
    {
      "cell_type": "markdown",
      "metadata": {
        "id": "UkYuDgdYjW1p"
      },
      "source": [
        "* if 문을 이용한 미세먼지 측정\n",
        "  + 미세먼지 농도 pm\n",
        "  + 35 초과는 미세먼지 농도 나쁨"
      ]
    },
    {
      "cell_type": "code",
      "metadata": {
        "id": "22ALZ21LE60j",
        "colab": {
          "base_uri": "https://localhost:8080/",
          "height": 36
        },
        "outputId": "438a9e03-c8eb-447c-a68e-f8c33dc5367e"
      },
      "source": [
        "pm = 40\n",
        "if pm > 35:\n",
        "  print(\"미세먼지 농도: 나쁨\")"
      ],
      "execution_count": null,
      "outputs": [
        {
          "output_type": "stream",
          "text": [
            "미세먼지 농도: 나쁨\n"
          ],
          "name": "stdout"
        }
      ]
    },
    {
      "cell_type": "markdown",
      "metadata": {
        "id": "of4Jq8l-McX7"
      },
      "source": [
        "### if-else 문\n"
      ]
    },
    {
      "cell_type": "markdown",
      "metadata": {
        "id": "KBi_DsHtkj5R"
      },
      "source": [
        "* if-else 문을 이용한 미세먼지 측정\n",
        "  + 미세먼지 농도 pm\n",
        "  + 36 이상은 미세먼지 농도 나쁨\n",
        "  + 35 이하는 미세먼지 농도 좋음"
      ]
    },
    {
      "cell_type": "code",
      "metadata": {
        "id": "w4JB__zpL_BW",
        "colab": {
          "base_uri": "https://localhost:8080/",
          "height": 36
        },
        "outputId": "7aba7fae-3c68-4959-d0f6-8b7237c7502f"
      },
      "source": [
        "pm = 30\n",
        "if pm >= 36:\n",
        "  print(\"미세먼지 농도: 나쁨\")\n",
        "else:\n",
        "  print(\"미세먼지 농도: 좋음\")"
      ],
      "execution_count": null,
      "outputs": [
        {
          "output_type": "stream",
          "text": [
            "미세먼지 농도: 좋음\n"
          ],
          "name": "stdout"
        }
      ]
    },
    {
      "cell_type": "markdown",
      "metadata": {
        "id": "lcdJvb_vFiKf"
      },
      "source": [
        "### if-elif-else 문\n"
      ]
    },
    {
      "cell_type": "markdown",
      "metadata": {
        "id": "DV4n1qxhnFIV"
      },
      "source": [
        "* if-elif-else 문을 이용한 미세먼지 측정\n",
        "  + 미세먼지 농도 pm\n",
        "  + 미세먼지 농도 0~15: 좋음\n",
        "  + 미세먼지 농도 16~35: 보통\n",
        "  + 미세먼지 농도 36~75: 나쁨\n",
        "  + 미세먼지 농도 76~: 매우나쁨"
      ]
    },
    {
      "cell_type": "code",
      "metadata": {
        "id": "xlo8NoTeF0dV",
        "colab": {
          "base_uri": "https://localhost:8080/",
          "height": 36
        },
        "outputId": "fbf409b6-975d-4887-a760-caa4405b5203"
      },
      "source": [
        "pm = 40\n",
        "if pm < 16:\n",
        "  print(\"미세먼지 농도: 좋음\")\n",
        "elif pm < 36:\n",
        "  print(\"미세먼지 농도: 보통\")\n",
        "elif pm < 76:\n",
        "  print(\"미세먼지 농도: 나쁨\")\n",
        "else:\n",
        "  print(\"미세먼지 농도: 매우나쁨\")"
      ],
      "execution_count": null,
      "outputs": [
        {
          "output_type": "stream",
          "text": [
            "미세먼지 농도: 나쁨\n"
          ],
          "name": "stdout"
        }
      ]
    },
    {
      "cell_type": "markdown",
      "metadata": {
        "id": "PdkLJlqioT_b"
      },
      "source": [
        "### 중첩 if 문\n",
        "\n",
        "\n"
      ]
    },
    {
      "cell_type": "markdown",
      "metadata": {
        "id": "8JdYeATzowCy"
      },
      "source": [
        "* 중첩 if 문을 이용한 미세먼지 측정\n",
        "  + 미세먼지 농도 pm\n",
        "  + 미세먼지 농도 0~15: 좋음\n",
        "  + 미세먼지 농도 16~35: 보통\n",
        "  + 미세먼지 농도 36~75: 나쁨\n",
        "  + 미세먼지 농도 76~: 매우나쁨"
      ]
    },
    {
      "cell_type": "code",
      "metadata": {
        "id": "ZuYX5TCro3B9",
        "colab": {
          "base_uri": "https://localhost:8080/",
          "height": 36
        },
        "outputId": "d4081c19-bdd9-4edc-f567-caf03622f583"
      },
      "source": [
        "pm = 80\n",
        "if pm < 36:\n",
        "  if pm < 16:\n",
        "    print(\"미세먼지 농도: 좋음\")\n",
        "  else:\n",
        "    print(\"미세먼지 농도: 보통\")\n",
        "else:\n",
        "  if pm < 76:\n",
        "    print(\"미세먼지 농도: 나쁨\")\n",
        "  else:\n",
        "    print(\"미세먼지 농도: 매우나쁨\")"
      ],
      "execution_count": null,
      "outputs": [
        {
          "output_type": "stream",
          "text": [
            "미세먼지 농도: 매우나쁨\n"
          ],
          "name": "stdout"
        }
      ]
    },
    {
      "cell_type": "markdown",
      "metadata": {
        "id": "sB6Li0FmU9eM"
      },
      "source": [
        "### if-pass 문\n",
        "\n",
        "* 조건문은 있지만 실행할 문장이 없는 경우, 오류가 발생하지 않도록 무시하고 넘어가는 기능"
      ]
    },
    {
      "cell_type": "code",
      "metadata": {
        "id": "iIOjo8LEVPqy",
        "colab": {
          "base_uri": "https://localhost:8080/",
          "height": 36
        },
        "outputId": "7c4bdae8-280f-42c4-bd8f-9c5bf0c717f4"
      },
      "source": [
        "if 10 > 5:\n",
        "  print(10)\n",
        "else:\n",
        "  pass"
      ],
      "execution_count": null,
      "outputs": [
        {
          "output_type": "stream",
          "text": [
            "10\n"
          ],
          "name": "stdout"
        }
      ]
    },
    {
      "cell_type": "markdown",
      "metadata": {
        "id": "ERFC5XXnqTab"
      },
      "source": [
        "### if 조건 연산자\n",
        "\n",
        "* 비교연산자: <, >, ==, !=, >=, <=\n"
      ]
    },
    {
      "cell_type": "code",
      "metadata": {
        "id": "oON1NgdYvSVj",
        "colab": {
          "base_uri": "https://localhost:8080/",
          "height": 73
        },
        "outputId": "6d7fe7c1-0022-48c4-f03e-238769727a00"
      },
      "source": [
        "if 2 > 1:\n",
        "  print(2)\n",
        "\n",
        "if 3 == 3:\n",
        "  print(3)\n",
        "\n",
        "if 1 != 2:\n",
        "  print(1)"
      ],
      "execution_count": null,
      "outputs": [
        {
          "output_type": "stream",
          "text": [
            "2\n",
            "3\n",
            "1\n"
          ],
          "name": "stdout"
        }
      ]
    },
    {
      "cell_type": "markdown",
      "metadata": {
        "id": "tsZNODf8vMdM"
      },
      "source": [
        "* 논리연산자: and, or, not"
      ]
    },
    {
      "cell_type": "code",
      "metadata": {
        "id": "xbhbbC_urU5t",
        "colab": {
          "base_uri": "https://localhost:8080/",
          "height": 55
        },
        "outputId": "821388f3-8834-4b1b-81db-27c8112fa7e2"
      },
      "source": [
        "rain = True\n",
        "snow = True\n",
        "sun = False\n",
        "\n",
        "if rain and snow:\n",
        "  print(\"진눈깨비\")\n",
        "\n",
        "if not sun:\n",
        "  print(\"흐림\")\n",
        "else:\n",
        "  print(\"맑음\")"
      ],
      "execution_count": null,
      "outputs": [
        {
          "output_type": "stream",
          "text": [
            "진눈깨비\n",
            "흐림\n"
          ],
          "name": "stdout"
        }
      ]
    },
    {
      "cell_type": "markdown",
      "metadata": {
        "id": "neifpa1BvNya"
      },
      "source": [
        "* 멤버연산자: in, not in\n"
      ]
    },
    {
      "cell_type": "code",
      "metadata": {
        "id": "WWu4uaX5rcTb",
        "colab": {
          "base_uri": "https://localhost:8080/",
          "height": 55
        },
        "outputId": "2e13d555-e6bd-4939-e7f5-5de2f7b9935e"
      },
      "source": [
        "list = ['One', 'Two', 'Three']\n",
        "\n",
        "if 'One' in list:\n",
        "  print('One')\n",
        "\n",
        "if 'Four' not in list:\n",
        "  print('No')"
      ],
      "execution_count": null,
      "outputs": [
        {
          "output_type": "stream",
          "text": [
            "One\n",
            "No\n"
          ],
          "name": "stdout"
        }
      ]
    },
    {
      "cell_type": "markdown",
      "metadata": {
        "id": "0V1ky9ZMucnL"
      },
      "source": [
        "* 식별연산자: is, is not"
      ]
    },
    {
      "cell_type": "code",
      "metadata": {
        "id": "puETQb28t3ua",
        "colab": {
          "base_uri": "https://localhost:8080/",
          "height": 55
        },
        "outputId": "55b7845c-3219-4f71-ab13-2e94657a677e"
      },
      "source": [
        "if 'One' is 'One':\n",
        "  print('One')\n",
        "\n",
        "if 'One' is not 'Two':\n",
        "  print('One is not Two')"
      ],
      "execution_count": null,
      "outputs": [
        {
          "output_type": "stream",
          "text": [
            "One\n",
            "One is not Two\n"
          ],
          "name": "stdout"
        }
      ]
    },
    {
      "cell_type": "markdown",
      "metadata": {
        "id": "9iV-FsBWzZ0k"
      },
      "source": [
        "### 조건부 표현식(Conditional Expression)\n",
        "\n",
        "* 한 라인으로 조건식을 사용한 표현"
      ]
    },
    {
      "cell_type": "code",
      "metadata": {
        "id": "_oS5aQybzfxw",
        "colab": {
          "base_uri": "https://localhost:8080/",
          "height": 36
        },
        "outputId": "013cd0bc-0cd3-4fdc-98d0-85335351c5db"
      },
      "source": [
        "score = 75\n",
        "msg = \"통과\" if score >= 70 else \"탈락\"\n",
        "print(msg)"
      ],
      "execution_count": null,
      "outputs": [
        {
          "output_type": "stream",
          "text": [
            "통과\n"
          ],
          "name": "stdout"
        }
      ]
    },
    {
      "cell_type": "markdown",
      "metadata": {
        "id": "iaXO0nIe4IsM"
      },
      "source": [
        "### [Lab] 학생 종류\n",
        "\n",
        "* 8세 미만 \"학생 아님\"\n",
        "* 14세 미만 \"초등학생\"\n",
        "* 17세 미만 \"중학생\"\n",
        "* 20세 미만 \"고등학생\"\n",
        "* 26세 미만 \"대학생\"\n",
        "* 그 외에 \"학생 아님\""
      ]
    },
    {
      "cell_type": "code",
      "metadata": {
        "id": "tiSoSbvB4yZa",
        "colab": {
          "base_uri": "https://localhost:8080/",
          "height": 36
        },
        "outputId": "5a4d3b57-3812-4885-8815-ade2ed973d6a"
      },
      "source": [
        "age = 22\n",
        "if age < 8:\n",
        "  print(\"학생 아님\")\n",
        "elif age < 14:\n",
        "  print(\"초등학생\")\n",
        "elif age < 17:\n",
        "  print(\"중학생\")\n",
        "elif age < 20:\n",
        "  print(\"고등학생\")\n",
        "elif age < 26:\n",
        "  print(\"대학생\")\n",
        "else:\n",
        "  print(\"학생 아님\")"
      ],
      "execution_count": null,
      "outputs": [
        {
          "output_type": "stream",
          "text": [
            "대학생\n"
          ],
          "name": "stdout"
        }
      ]
    },
    {
      "cell_type": "markdown",
      "metadata": {
        "id": "Xaqknnv_5weC"
      },
      "source": [
        "### [Lab] 학점 계산\n",
        "\n",
        "* 95점 이상 \"A+\"\n",
        "* 90점 이상 \"A\"\n",
        "* 85점 이상 \"B+\"\n",
        "* 80점 이상 \"B\"\n",
        "* 75점 이상 \"C+\"\n",
        "* 70점 이상 \"C\"\n",
        "* 65점 이상 \"D+\"\n",
        "* 60점 이상 \"D\"\n",
        "* 그 외 \"F\""
      ]
    },
    {
      "cell_type": "code",
      "metadata": {
        "id": "4fn4sB6a6BUL",
        "colab": {
          "base_uri": "https://localhost:8080/",
          "height": 36
        },
        "outputId": "8051bfdd-5a54-41fc-b080-dca010b1ae51"
      },
      "source": [
        "score = 78\n",
        "if score >= 95:\n",
        "  print(\"A+\")\n",
        "elif score >= 90:\n",
        "  print(\"A\")\n",
        "elif score >= 85:\n",
        "  print(\"B+\")\n",
        "elif score >= 80:\n",
        "  print(\"B\")\n",
        "elif score >= 75:\n",
        "  print(\"C+\")\n",
        "elif score >= 70:\n",
        "  print(\"C\")\n",
        "elif score >= 65:\n",
        "  print(\"D+\")\n",
        "elif score >= 60:\n",
        "  print(\"D\")\n",
        "else:\n",
        "  print(\"F\")"
      ],
      "execution_count": null,
      "outputs": [
        {
          "output_type": "stream",
          "text": [
            "C+\n"
          ],
          "name": "stdout"
        }
      ]
    },
    {
      "cell_type": "markdown",
      "metadata": {
        "id": "0BWIlqrPCr__"
      },
      "source": [
        "\n",
        "\n",
        "---\n",
        "\n"
      ]
    },
    {
      "cell_type": "markdown",
      "metadata": {
        "id": "ZfKg8LniN113"
      },
      "source": [
        "## 반복문(Repetitive Statement)\n"
      ]
    },
    {
      "cell_type": "markdown",
      "metadata": {
        "id": "tsxOiKAD7Lfw"
      },
      "source": [
        "### while 문\n"
      ]
    },
    {
      "cell_type": "markdown",
      "metadata": {
        "id": "q9SCeICMB32o"
      },
      "source": [
        "* while 문 예제: 1부터 10까지 반복"
      ]
    },
    {
      "cell_type": "code",
      "metadata": {
        "id": "zjBqbHUhPjUX",
        "colab": {
          "base_uri": "https://localhost:8080/",
          "height": 204
        },
        "outputId": "9bf5d671-4d29-4d14-ec3c-537e5cd7e7c4"
      },
      "source": [
        "i = 1\n",
        "while i <= 10:\n",
        "  print(i)\n",
        "  i += 1"
      ],
      "execution_count": null,
      "outputs": [
        {
          "output_type": "stream",
          "text": [
            "1\n",
            "2\n",
            "3\n",
            "4\n",
            "5\n",
            "6\n",
            "7\n",
            "8\n",
            "9\n",
            "10\n"
          ],
          "name": "stdout"
        }
      ]
    },
    {
      "cell_type": "markdown",
      "metadata": {
        "id": "GWKxC-EyB-ou"
      },
      "source": [
        "* while 문 예제: 1부터 10까지 더하기"
      ]
    },
    {
      "cell_type": "code",
      "metadata": {
        "id": "KamhbhLtBjyu",
        "colab": {
          "base_uri": "https://localhost:8080/",
          "height": 36
        },
        "outputId": "a9c52aa8-ffe0-4d66-9ab0-a468703c42d7"
      },
      "source": [
        "i = 1\n",
        "sum = 0\n",
        "while i <= 10:\n",
        "  sum += i\n",
        "  i += 1\n",
        "  \n",
        "print(sum)"
      ],
      "execution_count": null,
      "outputs": [
        {
          "output_type": "stream",
          "text": [
            "55\n"
          ],
          "name": "stdout"
        }
      ]
    },
    {
      "cell_type": "markdown",
      "metadata": {
        "id": "fE4el4w8CVnn"
      },
      "source": [
        "### for 문\n"
      ]
    },
    {
      "cell_type": "markdown",
      "metadata": {
        "id": "Szg_RE0dDVUI"
      },
      "source": [
        "* 리스트 요소 반복"
      ]
    },
    {
      "cell_type": "code",
      "metadata": {
        "id": "q-6XmZ7pCKfu",
        "colab": {
          "base_uri": "https://localhost:8080/",
          "height": 73
        },
        "outputId": "e8af3996-a0c8-4d67-f201-41db482af6db"
      },
      "source": [
        "list = ['One', 'Two', 'Three']\n",
        "for i in list:\n",
        "  print(i)"
      ],
      "execution_count": null,
      "outputs": [
        {
          "output_type": "stream",
          "text": [
            "One\n",
            "Two\n",
            "Three\n"
          ],
          "name": "stdout"
        }
      ]
    },
    {
      "cell_type": "markdown",
      "metadata": {
        "id": "Jxy-YCKaJy6U"
      },
      "source": [
        "* 튜플 요소 반복"
      ]
    },
    {
      "cell_type": "code",
      "metadata": {
        "id": "bPTK1Da9DifT",
        "colab": {
          "base_uri": "https://localhost:8080/",
          "height": 73
        },
        "outputId": "cc823b1d-f4d6-4689-92b6-84aee9ee0499"
      },
      "source": [
        "tuple = ('One', 'Two', 'Three')\n",
        "for i in tuple:\n",
        "  print(i)"
      ],
      "execution_count": null,
      "outputs": [
        {
          "output_type": "stream",
          "text": [
            "One\n",
            "Two\n",
            "Three\n"
          ],
          "name": "stdout"
        }
      ]
    },
    {
      "cell_type": "markdown",
      "metadata": {
        "id": "-a5BBmWHJ08e"
      },
      "source": [
        "* 문자열 요소 반복"
      ]
    },
    {
      "cell_type": "code",
      "metadata": {
        "id": "sg2jzObGDk5u",
        "colab": {
          "base_uri": "https://localhost:8080/",
          "height": 148
        },
        "outputId": "98f8ce7e-1ea9-4cc8-801e-669d083a6ffb"
      },
      "source": [
        "string = \"SuanLab\"\n",
        "for i in string:\n",
        "  print(i)"
      ],
      "execution_count": null,
      "outputs": [
        {
          "output_type": "stream",
          "text": [
            "S\n",
            "u\n",
            "a\n",
            "n\n",
            "L\n",
            "a\n",
            "b\n"
          ],
          "name": "stdout"
        }
      ]
    },
    {
      "cell_type": "markdown",
      "metadata": {
        "id": "6bel7wU6EFp4"
      },
      "source": [
        "#### range()\n"
      ]
    },
    {
      "cell_type": "code",
      "metadata": {
        "id": "sIV6ouO3D1Pj",
        "colab": {
          "base_uri": "https://localhost:8080/",
          "height": 36
        },
        "outputId": "a3e128c7-77f7-4d59-c9e1-34bb3d88b481"
      },
      "source": [
        "sum = 0\n",
        "for i in range(101):\n",
        "  sum += i\n",
        "\n",
        "print(sum)"
      ],
      "execution_count": null,
      "outputs": [
        {
          "output_type": "stream",
          "text": [
            "5050\n"
          ],
          "name": "stdout"
        }
      ]
    },
    {
      "cell_type": "code",
      "metadata": {
        "id": "VtCQOfDpGG59",
        "colab": {
          "base_uri": "https://localhost:8080/",
          "height": 111
        },
        "outputId": "fdabdbe1-0817-47cf-d0d4-3dc1ea77a6b9"
      },
      "source": [
        "for i in range(1, 10, 2):\n",
        "  print(i)"
      ],
      "execution_count": null,
      "outputs": [
        {
          "output_type": "stream",
          "text": [
            "1\n",
            "3\n",
            "5\n",
            "7\n",
            "9\n"
          ],
          "name": "stdout"
        }
      ]
    },
    {
      "cell_type": "markdown",
      "metadata": {
        "id": "1otcwtcWGU-Z"
      },
      "source": [
        "* 범위 반복 range를 이용한 구구단"
      ]
    },
    {
      "cell_type": "code",
      "metadata": {
        "id": "0AgNJV5LGJLf",
        "colab": {
          "base_uri": "https://localhost:8080/",
          "height": 1000
        },
        "outputId": "e9ee55c9-00e7-4b29-8c67-d9f8d67a86b3"
      },
      "source": [
        "for i in range(2, 10):\n",
        "  for j in range(1, 10):\n",
        "    print('{0} x {1} = {2}'.format(i, j, i * j))"
      ],
      "execution_count": null,
      "outputs": [
        {
          "output_type": "stream",
          "text": [
            "2 x 1 = 2\n",
            "2 x 2 = 4\n",
            "2 x 3 = 6\n",
            "2 x 4 = 8\n",
            "2 x 5 = 10\n",
            "2 x 6 = 12\n",
            "2 x 7 = 14\n",
            "2 x 8 = 16\n",
            "2 x 9 = 18\n",
            "3 x 1 = 3\n",
            "3 x 2 = 6\n",
            "3 x 3 = 9\n",
            "3 x 4 = 12\n",
            "3 x 5 = 15\n",
            "3 x 6 = 18\n",
            "3 x 7 = 21\n",
            "3 x 8 = 24\n",
            "3 x 9 = 27\n",
            "4 x 1 = 4\n",
            "4 x 2 = 8\n",
            "4 x 3 = 12\n",
            "4 x 4 = 16\n",
            "4 x 5 = 20\n",
            "4 x 6 = 24\n",
            "4 x 7 = 28\n",
            "4 x 8 = 32\n",
            "4 x 9 = 36\n",
            "5 x 1 = 5\n",
            "5 x 2 = 10\n",
            "5 x 3 = 15\n",
            "5 x 4 = 20\n",
            "5 x 5 = 25\n",
            "5 x 6 = 30\n",
            "5 x 7 = 35\n",
            "5 x 8 = 40\n",
            "5 x 9 = 45\n",
            "6 x 1 = 6\n",
            "6 x 2 = 12\n",
            "6 x 3 = 18\n",
            "6 x 4 = 24\n",
            "6 x 5 = 30\n",
            "6 x 6 = 36\n",
            "6 x 7 = 42\n",
            "6 x 8 = 48\n",
            "6 x 9 = 54\n",
            "7 x 1 = 7\n",
            "7 x 2 = 14\n",
            "7 x 3 = 21\n",
            "7 x 4 = 28\n",
            "7 x 5 = 35\n",
            "7 x 6 = 42\n",
            "7 x 7 = 49\n",
            "7 x 8 = 56\n",
            "7 x 9 = 63\n",
            "8 x 1 = 8\n",
            "8 x 2 = 16\n",
            "8 x 3 = 24\n",
            "8 x 4 = 32\n",
            "8 x 5 = 40\n",
            "8 x 6 = 48\n",
            "8 x 7 = 56\n",
            "8 x 8 = 64\n",
            "8 x 9 = 72\n",
            "9 x 1 = 9\n",
            "9 x 2 = 18\n",
            "9 x 3 = 27\n",
            "9 x 4 = 36\n",
            "9 x 5 = 45\n",
            "9 x 6 = 54\n",
            "9 x 7 = 63\n",
            "9 x 8 = 72\n",
            "9 x 9 = 81\n"
          ],
          "name": "stdout"
        }
      ]
    },
    {
      "cell_type": "markdown",
      "metadata": {
        "id": "y9DVAjy0r5Ty"
      },
      "source": [
        "#### _ 기능\n"
      ]
    },
    {
      "cell_type": "code",
      "metadata": {
        "id": "qv8HZNCTsDFf",
        "colab": {
          "base_uri": "https://localhost:8080/",
          "height": 111
        },
        "outputId": "b1b524b9-f9e1-4586-9371-39a4a3a8fd05"
      },
      "source": [
        "for i in range(5):\n",
        "  print(\"SuanLab\")"
      ],
      "execution_count": null,
      "outputs": [
        {
          "output_type": "stream",
          "text": [
            "SuanLab\n",
            "SuanLab\n",
            "SuanLab\n",
            "SuanLab\n",
            "SuanLab\n"
          ],
          "name": "stdout"
        }
      ]
    },
    {
      "cell_type": "code",
      "metadata": {
        "id": "pf8fIpSBsHZL",
        "colab": {
          "base_uri": "https://localhost:8080/",
          "height": 111
        },
        "outputId": "c3a4e6b5-7d8d-4297-c924-27022f3076d5"
      },
      "source": [
        "for _ in range(5):\n",
        "  print(\"SuanLab\")"
      ],
      "execution_count": null,
      "outputs": [
        {
          "output_type": "stream",
          "text": [
            "SuanLab\n",
            "SuanLab\n",
            "SuanLab\n",
            "SuanLab\n",
            "SuanLab\n"
          ],
          "name": "stdout"
        }
      ]
    },
    {
      "cell_type": "markdown",
      "metadata": {
        "id": "-t7UubcSKJHY"
      },
      "source": [
        "### else 문\n",
        "\n",
        "* 반복이 종료된 후에 한번 더 실행되는 문장"
      ]
    },
    {
      "cell_type": "code",
      "metadata": {
        "id": "clXMvxeyMFj_",
        "colab": {
          "base_uri": "https://localhost:8080/",
          "height": 36
        },
        "outputId": "0bf2cd4f-a9dc-4e42-bf43-99caf77a2e96"
      },
      "source": [
        "i = 1\n",
        "sum = 0\n",
        "while i <= 10:\n",
        "  sum += i\n",
        "  i += 1\n",
        "else:\n",
        "  print(sum)"
      ],
      "execution_count": null,
      "outputs": [
        {
          "output_type": "stream",
          "text": [
            "55\n"
          ],
          "name": "stdout"
        }
      ]
    },
    {
      "cell_type": "code",
      "metadata": {
        "id": "4B6-nPWEGjvG",
        "colab": {
          "base_uri": "https://localhost:8080/",
          "height": 36
        },
        "outputId": "606dd512-2135-45e8-ce38-50d67890f5f7"
      },
      "source": [
        "sum = 0\n",
        "for i in range(11):\n",
        "  sum += i\n",
        "else:\n",
        "  print(sum)"
      ],
      "execution_count": null,
      "outputs": [
        {
          "output_type": "stream",
          "text": [
            "55\n"
          ],
          "name": "stdout"
        }
      ]
    },
    {
      "cell_type": "markdown",
      "metadata": {
        "id": "BlF9QvR5LTar"
      },
      "source": [
        "### break 문\n",
        "\n",
        "* 반복문 종료"
      ]
    },
    {
      "cell_type": "code",
      "metadata": {
        "id": "u0HvxKWvKSou",
        "colab": {
          "base_uri": "https://localhost:8080/",
          "height": 223
        },
        "outputId": "e21fc254-b286-4656-d1e0-fa17fa0b16aa"
      },
      "source": [
        "i = 0\n",
        "while i < 100:\n",
        "  print(i)\n",
        "  if i == 10:\n",
        "    break\n",
        "  i += 1"
      ],
      "execution_count": null,
      "outputs": [
        {
          "output_type": "stream",
          "text": [
            "0\n",
            "1\n",
            "2\n",
            "3\n",
            "4\n",
            "5\n",
            "6\n",
            "7\n",
            "8\n",
            "9\n",
            "10\n"
          ],
          "name": "stdout"
        }
      ]
    },
    {
      "cell_type": "code",
      "metadata": {
        "id": "TJyNX_deMUvq",
        "colab": {
          "base_uri": "https://localhost:8080/",
          "height": 223
        },
        "outputId": "00c008a1-c4be-48d2-fdcd-5ae2e58682f5"
      },
      "source": [
        "for i in range(100):\n",
        "  print(i)\n",
        "  if i == 10:\n",
        "    break"
      ],
      "execution_count": null,
      "outputs": [
        {
          "output_type": "stream",
          "text": [
            "0\n",
            "1\n",
            "2\n",
            "3\n",
            "4\n",
            "5\n",
            "6\n",
            "7\n",
            "8\n",
            "9\n",
            "10\n"
          ],
          "name": "stdout"
        }
      ]
    },
    {
      "cell_type": "markdown",
      "metadata": {
        "id": "m7jZ8oc8Mezu"
      },
      "source": [
        "### continue 문\n",
        "\n",
        "* 반복 조건문으로 이동"
      ]
    },
    {
      "cell_type": "code",
      "metadata": {
        "id": "MpTJ5WtPMbYm",
        "colab": {
          "base_uri": "https://localhost:8080/",
          "height": 111
        },
        "outputId": "b3db077d-2bfd-4289-eaac-2c62c65bbb45"
      },
      "source": [
        "i = 0\n",
        "while i < 10:\n",
        "  i += 1\n",
        "  if i % 2 == 0:\n",
        "    continue\n",
        "  print(i)"
      ],
      "execution_count": null,
      "outputs": [
        {
          "output_type": "stream",
          "text": [
            "1\n",
            "3\n",
            "5\n",
            "7\n",
            "9\n"
          ],
          "name": "stdout"
        }
      ]
    },
    {
      "cell_type": "code",
      "metadata": {
        "id": "2oWKM2NDMqJ4",
        "colab": {
          "base_uri": "https://localhost:8080/",
          "height": 111
        },
        "outputId": "276c10da-4d26-4227-99fb-2d199ce6d9a8"
      },
      "source": [
        "for i in range(10):\n",
        "  if i % 2 == 0:\n",
        "    continue\n",
        "  print(i)"
      ],
      "execution_count": null,
      "outputs": [
        {
          "output_type": "stream",
          "text": [
            "1\n",
            "3\n",
            "5\n",
            "7\n",
            "9\n"
          ],
          "name": "stdout"
        }
      ]
    },
    {
      "cell_type": "markdown",
      "metadata": {
        "id": "qQoq1VqQMxdR"
      },
      "source": [
        "### 리스트 내포(List Comprehension)\n",
        "\n",
        "* 리스트 안에 for 문과 if 문 사용"
      ]
    },
    {
      "cell_type": "code",
      "metadata": {
        "id": "dYS40UmTMuHf",
        "colab": {
          "base_uri": "https://localhost:8080/",
          "height": 55
        },
        "outputId": "6f2b530e-1ec8-4d51-bff2-744b2004da1a"
      },
      "source": [
        "list = [1, 2, 3, 4, 5]\n",
        "print([i * 2 for i in list])\n",
        "print([i * 2 for i in range(10) if i % 2 == 0])"
      ],
      "execution_count": null,
      "outputs": [
        {
          "output_type": "stream",
          "text": [
            "[2, 4, 6, 8, 10]\n",
            "[0, 4, 8, 12, 16]\n"
          ],
          "name": "stdout"
        }
      ]
    },
    {
      "cell_type": "markdown",
      "metadata": {
        "id": "BNJU3Dz8NEtW"
      },
      "source": [
        "### [Lab] 문자열 반전\n",
        "\n",
        "* 문자열을 역순으로 만들기"
      ]
    },
    {
      "cell_type": "code",
      "metadata": {
        "id": "vtOOAlwBM7Ls",
        "colab": {
          "base_uri": "https://localhost:8080/",
          "height": 92
        },
        "outputId": "0eac5586-268b-4542-e3bc-13c852ab0b9e"
      },
      "source": [
        "# 1 내 풀이\n",
        "string = \"SuanLab\"\n",
        "reverse = \"\"\n",
        "count = len(string) - 1\n",
        "for c in string:\n",
        "  reverse += string[count]\n",
        "  count -= 1\n",
        "\n",
        "print(string)\n",
        "print(reverse)\n",
        "\n",
        "# 2 강의 풀이\n",
        "string = \"SuanLab\"\n",
        "reverse = \"\"\n",
        "for c in string:\n",
        "  reverse = c + reverse\n",
        "\n",
        "print(string)\n",
        "print(reverse)"
      ],
      "execution_count": null,
      "outputs": [
        {
          "output_type": "stream",
          "text": [
            "SuanLab\n",
            "baLnauS\n",
            "SuanLab\n",
            "baLnauS\n"
          ],
          "name": "stdout"
        }
      ]
    },
    {
      "cell_type": "markdown",
      "metadata": {
        "id": "e-5QZsGNXsrz"
      },
      "source": [
        "\n",
        "\n",
        "---\n",
        "\n"
      ]
    },
    {
      "cell_type": "markdown",
      "metadata": {
        "id": "9ygGlaKjKZRs"
      },
      "source": [
        "## 에러와 예외(Errors and Exceptions)\n",
        "\n",
        "* 프로그램에서는 에러가 발생\n",
        "* 에러에 대한 예외 처리가 필요"
      ]
    },
    {
      "cell_type": "markdown",
      "metadata": {
        "id": "Sem87gmsXux8"
      },
      "source": [
        "### 에러 예제\n",
        "\n",
        "* ZeroDivisionError"
      ]
    },
    {
      "cell_type": "code",
      "metadata": {
        "id": "nea-tg6gNSQB",
        "colab": {
          "base_uri": "https://localhost:8080/",
          "height": 176
        },
        "outputId": "de5ce068-5388-4019-a5ef-c724c90ac346"
      },
      "source": [
        "10 / 0"
      ],
      "execution_count": null,
      "outputs": [
        {
          "output_type": "error",
          "ename": "ZeroDivisionError",
          "evalue": "ignored",
          "traceback": [
            "\u001b[0;31m---------------------------------------------------------------------------\u001b[0m",
            "\u001b[0;31mZeroDivisionError\u001b[0m                         Traceback (most recent call last)",
            "\u001b[0;32m<ipython-input-102-cd759d3fcf39>\u001b[0m in \u001b[0;36m<module>\u001b[0;34m()\u001b[0m\n\u001b[0;32m----> 1\u001b[0;31m \u001b[0;36m10\u001b[0m \u001b[0;34m/\u001b[0m \u001b[0;36m0\u001b[0m\u001b[0;34m\u001b[0m\u001b[0;34m\u001b[0m\u001b[0m\n\u001b[0m",
            "\u001b[0;31mZeroDivisionError\u001b[0m: division by zero"
          ]
        }
      ]
    },
    {
      "cell_type": "markdown",
      "metadata": {
        "id": "5Ape-cL37GWg"
      },
      "source": [
        "* NameError"
      ]
    },
    {
      "cell_type": "code",
      "metadata": {
        "id": "rX3x3eE_6zcJ",
        "colab": {
          "base_uri": "https://localhost:8080/",
          "height": 176
        },
        "outputId": "5806153a-61d5-4a52-b384-3d3f7b8ec380"
      },
      "source": [
        "noname + 3"
      ],
      "execution_count": null,
      "outputs": [
        {
          "output_type": "error",
          "ename": "NameError",
          "evalue": "ignored",
          "traceback": [
            "\u001b[0;31m---------------------------------------------------------------------------\u001b[0m",
            "\u001b[0;31mNameError\u001b[0m                                 Traceback (most recent call last)",
            "\u001b[0;32m<ipython-input-103-e253214df6f7>\u001b[0m in \u001b[0;36m<module>\u001b[0;34m()\u001b[0m\n\u001b[0;32m----> 1\u001b[0;31m \u001b[0mnoname\u001b[0m \u001b[0;34m+\u001b[0m \u001b[0;36m3\u001b[0m\u001b[0;34m\u001b[0m\u001b[0;34m\u001b[0m\u001b[0m\n\u001b[0m",
            "\u001b[0;31mNameError\u001b[0m: name 'noname' is not defined"
          ]
        }
      ]
    },
    {
      "cell_type": "markdown",
      "metadata": {
        "id": "Ij6ieZ6v7JXo"
      },
      "source": [
        "* TypeError"
      ]
    },
    {
      "cell_type": "code",
      "metadata": {
        "id": "EwuWO4tP68OT",
        "colab": {
          "base_uri": "https://localhost:8080/",
          "height": 176
        },
        "outputId": "690e91ed-50f2-4e04-afbe-42bc652e0943"
      },
      "source": [
        "'1' + 1"
      ],
      "execution_count": null,
      "outputs": [
        {
          "output_type": "error",
          "ename": "TypeError",
          "evalue": "ignored",
          "traceback": [
            "\u001b[0;31m---------------------------------------------------------------------------\u001b[0m",
            "\u001b[0;31mTypeError\u001b[0m                                 Traceback (most recent call last)",
            "\u001b[0;32m<ipython-input-104-cc892b1f57d5>\u001b[0m in \u001b[0;36m<module>\u001b[0;34m()\u001b[0m\n\u001b[0;32m----> 1\u001b[0;31m \u001b[0;34m'1'\u001b[0m \u001b[0;34m+\u001b[0m \u001b[0;36m1\u001b[0m\u001b[0;34m\u001b[0m\u001b[0;34m\u001b[0m\u001b[0m\n\u001b[0m",
            "\u001b[0;31mTypeError\u001b[0m: must be str, not int"
          ]
        }
      ]
    },
    {
      "cell_type": "markdown",
      "metadata": {
        "id": "TSahjFWRNFSY"
      },
      "source": [
        "* ValueError"
      ]
    },
    {
      "cell_type": "code",
      "metadata": {
        "id": "QkZGJiqcNElu",
        "colab": {
          "base_uri": "https://localhost:8080/",
          "height": 176
        },
        "outputId": "17d27603-f712-4ad5-ecd5-2a55ef3fe9bc"
      },
      "source": [
        "int(\"String\")"
      ],
      "execution_count": null,
      "outputs": [
        {
          "output_type": "error",
          "ename": "ValueError",
          "evalue": "ignored",
          "traceback": [
            "\u001b[0;31m---------------------------------------------------------------------------\u001b[0m",
            "\u001b[0;31mValueError\u001b[0m                                Traceback (most recent call last)",
            "\u001b[0;32m<ipython-input-105-7bf3cc52d08f>\u001b[0m in \u001b[0;36m<module>\u001b[0;34m()\u001b[0m\n\u001b[0;32m----> 1\u001b[0;31m \u001b[0mint\u001b[0m\u001b[0;34m(\u001b[0m\u001b[0;34m\"String\"\u001b[0m\u001b[0;34m)\u001b[0m\u001b[0;34m\u001b[0m\u001b[0;34m\u001b[0m\u001b[0m\n\u001b[0m",
            "\u001b[0;31mValueError\u001b[0m: invalid literal for int() with base 10: 'String'"
          ]
        }
      ]
    },
    {
      "cell_type": "markdown",
      "metadata": {
        "id": "6gu37rq_AciU"
      },
      "source": [
        "### 예외 처리(Exception Handling)"
      ]
    },
    {
      "cell_type": "markdown",
      "metadata": {
        "id": "FYZUyQqgK5Z_"
      },
      "source": [
        "#### try, except 문\n",
        "\n",
        "* try 문을 통해 예외 발생 가능한 코드에 정의\n",
        "* except 문을 이용해 예외 처리 방법을 정의"
      ]
    },
    {
      "cell_type": "code",
      "metadata": {
        "id": "wfONldWmjWjI",
        "colab": {
          "base_uri": "https://localhost:8080/",
          "height": 36
        },
        "outputId": "1621489b-ccd6-4776-d934-6ae35db4c794"
      },
      "source": [
        "try:\n",
        "  print(2 / 0)\n",
        "except:\n",
        "  print(\"Error\")"
      ],
      "execution_count": null,
      "outputs": [
        {
          "output_type": "stream",
          "text": [
            "Error\n"
          ],
          "name": "stdout"
        }
      ]
    },
    {
      "cell_type": "markdown",
      "metadata": {
        "id": "wCZtKuol63ET"
      },
      "source": [
        "#### 에러 분류에 따른 except 문\n",
        "\n",
        "* `ZeroDivisionError`에 대한 except 처리"
      ]
    },
    {
      "cell_type": "code",
      "metadata": {
        "id": "iI9q62ukjhLI",
        "colab": {
          "base_uri": "https://localhost:8080/",
          "height": 36
        },
        "outputId": "5a86ee12-707e-470e-c274-b7a583ae50ee"
      },
      "source": [
        "try:\n",
        "  print(2 / 0)\n",
        "except ZeroDivisionError:\n",
        "  print(\"ZeroDivisionError\")"
      ],
      "execution_count": null,
      "outputs": [
        {
          "output_type": "stream",
          "text": [
            "ZeroDivisionError\n"
          ],
          "name": "stdout"
        }
      ]
    },
    {
      "cell_type": "markdown",
      "metadata": {
        "id": "5xb7qltz7EkZ"
      },
      "source": [
        "#### 에러 메시지가 포함된 except 문\n",
        "\n",
        "* `ZeroDivisionError`에 포함된 에러 메시지 `e`를 출력"
      ]
    },
    {
      "cell_type": "code",
      "metadata": {
        "id": "Hd8posBzjmQa",
        "colab": {
          "base_uri": "https://localhost:8080/",
          "height": 36
        },
        "outputId": "937c6089-0129-4433-da8f-ad438baa5742"
      },
      "source": [
        "try:\n",
        "  print(2 / 0)\n",
        "except ZeroDivisionError as e:\n",
        "  print(e)"
      ],
      "execution_count": null,
      "outputs": [
        {
          "output_type": "stream",
          "text": [
            "division by zero\n"
          ],
          "name": "stdout"
        }
      ]
    },
    {
      "cell_type": "markdown",
      "metadata": {
        "id": "JAasRBB0-BLK"
      },
      "source": [
        "#### 여러 에러 분류가 포함된 except 문"
      ]
    },
    {
      "cell_type": "code",
      "metadata": {
        "id": "IHqjg-lf6-SG",
        "colab": {
          "base_uri": "https://localhost:8080/",
          "height": 55
        },
        "outputId": "08fb6d5c-4d47-4998-86cb-094a39207c33"
      },
      "source": [
        "try:\n",
        "  n = int(input(\"입력: \"))\n",
        "  result = 1 / n\n",
        "except ZeroDivisionError as e:\n",
        "  print(e)\n",
        "except ValueError as e:\n",
        "  print(e)\n",
        "else:\n",
        "  print(\"결과: \", str(result))"
      ],
      "execution_count": null,
      "outputs": [
        {
          "output_type": "stream",
          "text": [
            "입력: 1\n",
            "결과:  1.0\n"
          ],
          "name": "stdout"
        }
      ]
    },
    {
      "cell_type": "markdown",
      "metadata": {
        "id": "1yvDiPGN9ko0"
      },
      "source": [
        "### 에러 발생"
      ]
    },
    {
      "cell_type": "markdown",
      "metadata": {
        "id": "UZVye8Ot9r3u"
      },
      "source": [
        "#### raise 문\n",
        "\n",
        "* 직접적으로 에러를 발생시킬 수 있음\n",
        "* 에러의 종류와 에러 상황을 정의하고 발생"
      ]
    },
    {
      "cell_type": "code",
      "metadata": {
        "id": "YhXCjSq-D0oX",
        "colab": {
          "base_uri": "https://localhost:8080/",
          "height": 176
        },
        "outputId": "1dec72ed-4949-4657-c858-8c5ebe5e0622"
      },
      "source": [
        "raise ZeroDivisionError(\"숫자를 0으로 나눔\")"
      ],
      "execution_count": null,
      "outputs": [
        {
          "output_type": "error",
          "ename": "ZeroDivisionError",
          "evalue": "ignored",
          "traceback": [
            "\u001b[0;31m---------------------------------------------------------------------------\u001b[0m",
            "\u001b[0;31mZeroDivisionError\u001b[0m                         Traceback (most recent call last)",
            "\u001b[0;32m<ipython-input-119-fb78988de7bc>\u001b[0m in \u001b[0;36m<module>\u001b[0;34m()\u001b[0m\n\u001b[0;32m----> 1\u001b[0;31m \u001b[0;32mraise\u001b[0m \u001b[0mZeroDivisionError\u001b[0m\u001b[0;34m(\u001b[0m\u001b[0;34m\"숫자를 0으로 나눔\"\u001b[0m\u001b[0;34m)\u001b[0m\u001b[0;34m\u001b[0m\u001b[0;34m\u001b[0m\u001b[0m\n\u001b[0m",
            "\u001b[0;31mZeroDivisionError\u001b[0m: 숫자를 0으로 나눔"
          ]
        }
      ]
    },
    {
      "cell_type": "code",
      "metadata": {
        "id": "seVpG5qoEDUL",
        "colab": {
          "base_uri": "https://localhost:8080/",
          "height": 176
        },
        "outputId": "320ad5ad-a8dd-4577-d6f1-c6e508634081"
      },
      "source": [
        "raise NameError(\"지역 또는 전역 이름을 찾을 수 없음\")"
      ],
      "execution_count": null,
      "outputs": [
        {
          "output_type": "error",
          "ename": "NameError",
          "evalue": "ignored",
          "traceback": [
            "\u001b[0;31m---------------------------------------------------------------------------\u001b[0m",
            "\u001b[0;31mNameError\u001b[0m                                 Traceback (most recent call last)",
            "\u001b[0;32m<ipython-input-120-e10ce1eb02bb>\u001b[0m in \u001b[0;36m<module>\u001b[0;34m()\u001b[0m\n\u001b[0;32m----> 1\u001b[0;31m \u001b[0;32mraise\u001b[0m \u001b[0mNameError\u001b[0m\u001b[0;34m(\u001b[0m\u001b[0;34m\"지역 또는 전역 이름을 찾을 수 없음\"\u001b[0m\u001b[0;34m)\u001b[0m\u001b[0;34m\u001b[0m\u001b[0;34m\u001b[0m\u001b[0m\n\u001b[0m",
            "\u001b[0;31mNameError\u001b[0m: 지역 또는 전역 이름을 찾을 수 없음"
          ]
        }
      ]
    },
    {
      "cell_type": "code",
      "metadata": {
        "id": "Sg6jO8soEFRQ",
        "colab": {
          "base_uri": "https://localhost:8080/",
          "height": 176
        },
        "outputId": "4102f486-3e8c-44f8-cb46-e052f8b6a9a1"
      },
      "source": [
        "raise TypeError(\"연산이나 함수가 부적절한 형의 객체에 적용\")"
      ],
      "execution_count": null,
      "outputs": [
        {
          "output_type": "error",
          "ename": "TypeError",
          "evalue": "ignored",
          "traceback": [
            "\u001b[0;31m---------------------------------------------------------------------------\u001b[0m",
            "\u001b[0;31mTypeError\u001b[0m                                 Traceback (most recent call last)",
            "\u001b[0;32m<ipython-input-121-90a278017362>\u001b[0m in \u001b[0;36m<module>\u001b[0;34m()\u001b[0m\n\u001b[0;32m----> 1\u001b[0;31m \u001b[0;32mraise\u001b[0m \u001b[0mTypeError\u001b[0m\u001b[0;34m(\u001b[0m\u001b[0;34m\"연산이나 함수가 부적절한 형의 객체에 적용\"\u001b[0m\u001b[0;34m)\u001b[0m\u001b[0;34m\u001b[0m\u001b[0;34m\u001b[0m\u001b[0m\n\u001b[0m",
            "\u001b[0;31mTypeError\u001b[0m: 연산이나 함수가 부적절한 형의 객체에 적용"
          ]
        }
      ]
    },
    {
      "cell_type": "code",
      "metadata": {
        "id": "44cMcYh6EGmQ",
        "colab": {
          "base_uri": "https://localhost:8080/",
          "height": 176
        },
        "outputId": "4b4ed31a-9792-4c69-e5e6-d23d996b8691"
      },
      "source": [
        "raise ValueError(\"연산이나 함수가 부적절한 값을 인자로 받음\")"
      ],
      "execution_count": null,
      "outputs": [
        {
          "output_type": "error",
          "ename": "ValueError",
          "evalue": "ignored",
          "traceback": [
            "\u001b[0;31m---------------------------------------------------------------------------\u001b[0m",
            "\u001b[0;31mValueError\u001b[0m                                Traceback (most recent call last)",
            "\u001b[0;32m<ipython-input-122-afc754670e9e>\u001b[0m in \u001b[0;36m<module>\u001b[0;34m()\u001b[0m\n\u001b[0;32m----> 1\u001b[0;31m \u001b[0;32mraise\u001b[0m \u001b[0mValueError\u001b[0m\u001b[0;34m(\u001b[0m\u001b[0;34m\"연산이나 함수가 부적절한 값을 인자로 받음\"\u001b[0m\u001b[0;34m)\u001b[0m\u001b[0;34m\u001b[0m\u001b[0;34m\u001b[0m\u001b[0m\n\u001b[0m",
            "\u001b[0;31mValueError\u001b[0m: 연산이나 함수가 부적절한 값을 인자로 받음"
          ]
        }
      ]
    },
    {
      "cell_type": "markdown",
      "metadata": {
        "id": "1tlN-WGZ9the"
      },
      "source": [
        "#### assert 문\n",
        "\n",
        "* raise 문과 달리 주로 검증을 위한 목적으로 작성\n",
        "* 상태를 검증하는 목적으로 작성되며 검증식이 포함됨\n",
        "* 검증식이 `False`일 경우 `AssertionErro` 발생"
      ]
    },
    {
      "cell_type": "code",
      "metadata": {
        "id": "RDT6GAzpMtFu"
      },
      "source": [
        "assert True"
      ],
      "execution_count": null,
      "outputs": []
    },
    {
      "cell_type": "code",
      "metadata": {
        "id": "Wi5Dhu2yFzfW",
        "colab": {
          "base_uri": "https://localhost:8080/",
          "height": 176
        },
        "outputId": "e06060c8-0d7d-4494-d0e7-8a859ccc9678"
      },
      "source": [
        "assert False"
      ],
      "execution_count": null,
      "outputs": [
        {
          "output_type": "error",
          "ename": "AssertionError",
          "evalue": "ignored",
          "traceback": [
            "\u001b[0;31m---------------------------------------------------------------------------\u001b[0m",
            "\u001b[0;31mAssertionError\u001b[0m                            Traceback (most recent call last)",
            "\u001b[0;32m<ipython-input-124-a871fdc9ebee>\u001b[0m in \u001b[0;36m<module>\u001b[0;34m()\u001b[0m\n\u001b[0;32m----> 1\u001b[0;31m \u001b[0;32massert\u001b[0m \u001b[0;32mFalse\u001b[0m\u001b[0;34m\u001b[0m\u001b[0;34m\u001b[0m\u001b[0m\n\u001b[0m",
            "\u001b[0;31mAssertionError\u001b[0m: "
          ]
        }
      ]
    },
    {
      "cell_type": "code",
      "metadata": {
        "id": "__lmGJw2G323",
        "colab": {
          "base_uri": "https://localhost:8080/",
          "height": 176
        },
        "outputId": "3e7ce0ba-5a72-43e3-fce3-7996349e2164"
      },
      "source": [
        "assert False, \"에러 메시지\""
      ],
      "execution_count": null,
      "outputs": [
        {
          "output_type": "error",
          "ename": "AssertionError",
          "evalue": "ignored",
          "traceback": [
            "\u001b[0;31m---------------------------------------------------------------------------\u001b[0m",
            "\u001b[0;31mAssertionError\u001b[0m                            Traceback (most recent call last)",
            "\u001b[0;32m<ipython-input-125-1796aa5b1c60>\u001b[0m in \u001b[0;36m<module>\u001b[0;34m()\u001b[0m\n\u001b[0;32m----> 1\u001b[0;31m \u001b[0;32massert\u001b[0m \u001b[0;32mFalse\u001b[0m\u001b[0;34m,\u001b[0m \u001b[0;34m\"에러 메시지\"\u001b[0m\u001b[0;34m\u001b[0m\u001b[0;34m\u001b[0m\u001b[0m\n\u001b[0m",
            "\u001b[0;31mAssertionError\u001b[0m: 에러 메시지"
          ]
        }
      ]
    },
    {
      "cell_type": "code",
      "metadata": {
        "id": "vmNwfDLcF0dm",
        "colab": {
          "base_uri": "https://localhost:8080/",
          "height": 195
        },
        "outputId": "12a815fb-e7b7-4b11-d568-8d4569c2a578"
      },
      "source": [
        "b = 0\n",
        "assert b != 0, \"상태에 따라서 발생\""
      ],
      "execution_count": null,
      "outputs": [
        {
          "output_type": "error",
          "ename": "AssertionError",
          "evalue": "ignored",
          "traceback": [
            "\u001b[0;31m---------------------------------------------------------------------------\u001b[0m",
            "\u001b[0;31mAssertionError\u001b[0m                            Traceback (most recent call last)",
            "\u001b[0;32m<ipython-input-130-91ab28e2d37f>\u001b[0m in \u001b[0;36m<module>\u001b[0;34m()\u001b[0m\n\u001b[1;32m      1\u001b[0m \u001b[0mb\u001b[0m \u001b[0;34m=\u001b[0m \u001b[0;36m0\u001b[0m\u001b[0;34m\u001b[0m\u001b[0;34m\u001b[0m\u001b[0m\n\u001b[0;32m----> 2\u001b[0;31m \u001b[0;32massert\u001b[0m \u001b[0mb\u001b[0m \u001b[0;34m!=\u001b[0m \u001b[0;36m0\u001b[0m\u001b[0;34m,\u001b[0m \u001b[0;34m\"상태에 따라서 발생\"\u001b[0m\u001b[0;34m\u001b[0m\u001b[0;34m\u001b[0m\u001b[0m\n\u001b[0m",
            "\u001b[0;31mAssertionError\u001b[0m: 상태에 따라서 발생"
          ]
        }
      ]
    }
  ]
}