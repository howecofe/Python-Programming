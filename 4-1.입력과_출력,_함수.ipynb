{
  "nbformat": 4,
  "nbformat_minor": 0,
  "metadata": {
    "colab": {
      "name": "Jiyun Lee - 4. 입력과 출력, 함수.ipynb",
      "provenance": [],
      "collapsed_sections": []
    },
    "kernelspec": {
      "name": "python3",
      "display_name": "Python 3"
    }
  },
  "cells": [
    {
      "cell_type": "markdown",
      "metadata": {
        "id": "HSg-KEAR0Xki"
      },
      "source": [
        "\n",
        "### 1. 세 개의 양의 정수를 입력받아 그 합이 짝수이면 가장 큰 수를 출력하고, 홀수이면 가장 작은 수를 출력하는 프로그램을 작성하시오."
      ]
    },
    {
      "cell_type": "code",
      "metadata": {
        "id": "Q8rj7aWMG0ac",
        "colab": {
          "base_uri": "https://localhost:8080/",
          "height": 92
        },
        "outputId": "fb327598-68ff-449e-e1f0-ee17837fbc6f"
      },
      "source": [
        "import functools\n",
        "\n",
        "li = []\n",
        "sum = 0\n",
        "for i in range (3):\n",
        "  num = int(input(\"양의 정수({}/3): \".format(i + 1)))\n",
        "  li.append(num)\n",
        "  sum += num\n",
        "if sum % 2 == 0:\n",
        "  max = functools.reduce(lambda x, y: x if x > y else y, li)\n",
        "  print(max)\n",
        "else:\n",
        "  min = functools.reduce(lambda x, y: x if x < y else y, li)\n",
        "  print(min)"
      ],
      "execution_count": null,
      "outputs": [
        {
          "output_type": "stream",
          "text": [
            "양의 정수(1/3): 3\n",
            "양의 정수(2/3): 5\n",
            "양의 정수(3/3): 7\n",
            "3\n"
          ],
          "name": "stdout"
        }
      ]
    },
    {
      "cell_type": "markdown",
      "metadata": {
        "id": "XFWLN7bz0l1I"
      },
      "source": [
        "### 2. 두 점 사이의 거리를 구하는 프로그램을 작성하시오.\n",
        "\n",
        "\n",
        "*   두 점의 x, y 좌표를 각각 입력 받는다.\n",
        "*   두 점 사이의 거리를 구하는 공식은 다음과 같다.\n",
        "$${\\sqrt{(x1-x2)^2 + (y1-y2)^2}}$$\n",
        "\n",
        "*   제곱근은 (~)**0.5 로 표현한다.\n",
        "\n",
        "\n",
        "\n"
      ]
    },
    {
      "cell_type": "code",
      "metadata": {
        "id": "BHsCKJv5G1PZ",
        "colab": {
          "base_uri": "https://localhost:8080/",
          "height": 111
        },
        "outputId": "cb7d8505-08b6-4c30-d40c-b2136807f88c"
      },
      "source": [
        "def ucl_dis():\n",
        "  x1, y1 = int(input(\"x1: \")), int(input(\"y1: \"))\n",
        "  x2, y2 = int(input(\"x2: \")), int(input(\"y2: \"))\n",
        "  distance = ((x1 - x2) ** 2 + (y1 - y2) ** 2) ** 0.5\n",
        "  return \"두 점 사이의 거리: \" + str(distance)\n",
        "\n",
        "print(ucl_dis())"
      ],
      "execution_count": null,
      "outputs": [
        {
          "output_type": "stream",
          "text": [
            "x1: 1\n",
            "y1: 4\n",
            "x2: 7\n",
            "y2: 9\n",
            "두 점 사이의 거리: 7.810249675906654\n"
          ],
          "name": "stdout"
        }
      ]
    },
    {
      "cell_type": "markdown",
      "metadata": {
        "id": "e-jMUe2h1w_i"
      },
      "source": [
        "### 3. 2~99 사이의 정수를 입력하면 그 수의 약수를 출력하는 프로그램을 작성하시오."
      ]
    },
    {
      "cell_type": "code",
      "metadata": {
        "id": "5kyX5jipG2Ca",
        "colab": {
          "base_uri": "https://localhost:8080/",
          "height": 55
        },
        "outputId": "8c8844a5-615c-4e77-981f-6ac641efd6a5"
      },
      "source": [
        "def aliquot(num):\n",
        "  li = []\n",
        "  if 2 <= num <= 99:\n",
        "    for i in range(1, 100):\n",
        "      if num >= i:\n",
        "        if num % i == 0:\n",
        "          li.append(i)\n",
        "      else: break\n",
        "    print(\"{}의 약수는 {} 입니다.\".format(num, li))\n",
        "  else:\n",
        "    print(\"2~99 사이의 정수가 아닙니다.\")\n",
        "\n",
        "num = int(input(\"2~99 사이의 정수: \"))\n",
        "aliquot(num)"
      ],
      "execution_count": null,
      "outputs": [
        {
          "output_type": "stream",
          "text": [
            "2~99 사이의 정수: 99\n",
            "99의 약수는 [1, 3, 9, 11, 33, 99] 입니다.\n"
          ],
          "name": "stdout"
        }
      ]
    },
    {
      "cell_type": "markdown",
      "metadata": {
        "id": "dhSKVgAo4z8-"
      },
      "source": [
        "### 4. 사각형의 둘레를 구하는 함수를 작성하고, 가로 세로의 길이가 각각 3, 6인 사각형의 둘레를 함수를 이용하여 구해 보시오."
      ]
    },
    {
      "cell_type": "code",
      "metadata": {
        "id": "L3NL7lHSHQ8J",
        "colab": {
          "base_uri": "https://localhost:8080/",
          "height": 73
        },
        "outputId": "0cd235e6-3f78-43a8-9307-ca330a4d1907"
      },
      "source": [
        "def square(w, h):\n",
        "  result = (w + h) * 2\n",
        "  return \"사각형의 둘레: \" + str(result)\n",
        "\n",
        "width = int(input(\"가로 길이: \"))\n",
        "height = int(input(\"세로 길이: \"))\n",
        "print(square(width, height))"
      ],
      "execution_count": null,
      "outputs": [
        {
          "output_type": "stream",
          "text": [
            "가로 길이: 3\n",
            "세로 길이: 6\n",
            "사각형의 둘레: 18\n"
          ],
          "name": "stdout"
        }
      ]
    },
    {
      "cell_type": "markdown",
      "metadata": {
        "id": "Q9YD6467HRd5"
      },
      "source": [
        "### 5. 리스트로 작성한 학생 점수를 입력하면 최고점을 구하는 함수 high_score를 정의하고, 이 함수를 이용하여 아래 점수 중 최고점을 구하는 프로그램을 작성하시오.\n",
        "\n",
        "score = [60, 72, 98, 48, 100, 86]"
      ]
    },
    {
      "cell_type": "code",
      "metadata": {
        "id": "fm7ir_VPJTKT",
        "colab": {
          "base_uri": "https://localhost:8080/",
          "height": 167
        },
        "outputId": "1daa1c2e-557e-4bc3-cfc9-01fc594246da"
      },
      "source": [
        "import functools\n",
        "\n",
        "def high_score():\n",
        "  max = functools.reduce(lambda x, y: x if x > y else y, score)\n",
        "  return \"최고점: \" + str(max)\n",
        "\n",
        "score = [int(input(\"학생 점수 입력: \")) for i in range(6)]\n",
        "print(\"score =\", score)\n",
        "print(high_score())"
      ],
      "execution_count": null,
      "outputs": [
        {
          "output_type": "stream",
          "text": [
            "학생 점수 입력: 60\n",
            "학생 점수 입력: 72\n",
            "학생 점수 입력: 98\n",
            "학생 점수 입력: 48\n",
            "학생 점수 입력: 100\n",
            "학생 점수 입력: 86\n",
            "score = [60, 72, 98, 48, 100, 86]\n",
            "최고점: 100\n"
          ],
          "name": "stdout"
        }
      ]
    }
  ]
}