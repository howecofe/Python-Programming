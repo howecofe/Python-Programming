{
  "nbformat": 4,
  "nbformat_minor": 0,
  "metadata": {
    "colab": {
      "name": "Jiyun Lee - _02 변수, 자료형, 연산자.ipynb",
      "provenance": [],
      "collapsed_sections": [],
      "toc_visible": true
    },
    "kernelspec": {
      "name": "python3",
      "display_name": "Python 3"
    }
  },
  "cells": [
    {
      "cell_type": "markdown",
      "metadata": {
        "id": "6XGDdKnJyGJF"
      },
      "source": [
        "# 변수, 자료형, 연산자\n",
        "\n"
      ]
    },
    {
      "cell_type": "markdown",
      "metadata": {
        "id": "HAstuUfPCTnB"
      },
      "source": [
        "\n",
        "\n",
        "---\n",
        "\n"
      ]
    },
    {
      "cell_type": "markdown",
      "metadata": {
        "id": "90qvtJp_yMg4"
      },
      "source": [
        "\n",
        "## 변수(Variables)"
      ]
    },
    {
      "cell_type": "code",
      "metadata": {
        "id": "Wnq3OFyHy3FV",
        "colab": {
          "base_uri": "https://localhost:8080/",
          "height": 55
        },
        "outputId": "09f5e4ad-5171-4e3d-f80b-7febae2ab361"
      },
      "source": [
        "name = \"Suan\"\n",
        "print(name)\n",
        "num = 123\n",
        "print(num)"
      ],
      "execution_count": null,
      "outputs": [
        {
          "output_type": "stream",
          "text": [
            "Suan\n",
            "123\n"
          ],
          "name": "stdout"
        }
      ]
    },
    {
      "cell_type": "markdown",
      "metadata": {
        "id": "RJfm_0kbyZih"
      },
      "source": [
        "### 변수명 규칙\n"
      ]
    },
    {
      "cell_type": "code",
      "metadata": {
        "id": "SPyXej-mys0A",
        "colab": {
          "base_uri": "https://localhost:8080/",
          "height": 73
        },
        "outputId": "2df8da3b-a994-4a99-ae41-a8cfee127b16"
      },
      "source": [
        "abc = \"abc\"\n",
        "abc_123 = 123\n",
        "Abc_123 = 123\n",
        "print(abc)\n",
        "print(abc_123)\n",
        "print(Abc_123)"
      ],
      "execution_count": null,
      "outputs": [
        {
          "output_type": "stream",
          "text": [
            "abc\n",
            "123\n",
            "123\n"
          ],
          "name": "stdout"
        }
      ]
    },
    {
      "cell_type": "markdown",
      "metadata": {
        "id": "IzVR_OF3CV7l"
      },
      "source": [
        "\n",
        "\n",
        "---\n",
        "\n"
      ]
    },
    {
      "cell_type": "markdown",
      "metadata": {
        "id": "UnmfTSSR7gI8"
      },
      "source": [
        "## 자료형(Data Types)\n",
        "\n"
      ]
    },
    {
      "cell_type": "markdown",
      "metadata": {
        "id": "E6w1S0AG7093"
      },
      "source": [
        "### 불리언형 자료형(Boolean Type)\n",
        "\n",
        "* 불리언은 `True`와 `False` 값으로만 표현할 때 사용하는 자료형\n",
        "* 예제 코드에서 변수 `b`에 `True` 값을 넣으면 불리언 자료형으로 결정\n",
        "* 자료형을 반환하는 내장함수 `type()` 함수를 이용하여 자료형을 확인하면 `bool`로 반환된 결과를 볼 수 있음"
      ]
    },
    {
      "cell_type": "code",
      "metadata": {
        "id": "VEmJO0Hl7uSL",
        "colab": {
          "base_uri": "https://localhost:8080/",
          "height": 55
        },
        "outputId": "a978a664-59e5-4905-cada-19d3d6af56f0"
      },
      "source": [
        "b = True\n",
        "print(b)\n",
        "print(type(b))"
      ],
      "execution_count": null,
      "outputs": [
        {
          "output_type": "stream",
          "text": [
            "True\n",
            "<class 'bool'>\n"
          ],
          "name": "stdout"
        }
      ]
    },
    {
      "cell_type": "markdown",
      "metadata": {
        "id": "zEQ7zJg8aafd"
      },
      "source": [
        "### 정수형 자료형(Integer Type)"
      ]
    },
    {
      "cell_type": "markdown",
      "metadata": {
        "id": "QyQdYV_If3kQ"
      },
      "source": [
        "#### 10진수(Decimal) \n",
        "\n",
        "* 10진수는 일반적인 숫자 표현을 그대로 사용\n",
        "* 변수 `i`에 10진수로 숫자 10을 값으로 넣고, `type()` 함수를 통해 자료형을 확인하기\n"
      ]
    },
    {
      "cell_type": "code",
      "metadata": {
        "id": "Mt5AV2bR8NFr",
        "colab": {
          "base_uri": "https://localhost:8080/",
          "height": 55
        },
        "outputId": "c72e1111-7894-4d58-bf70-d1d0ace8ab27"
      },
      "source": [
        "i = 10\n",
        "print(i)\n",
        "print(type(i))"
      ],
      "execution_count": null,
      "outputs": [
        {
          "output_type": "stream",
          "text": [
            "10\n",
            "<class 'int'>\n"
          ],
          "name": "stdout"
        }
      ]
    },
    {
      "cell_type": "markdown",
      "metadata": {
        "id": "oXUZbCF_z4ks"
      },
      "source": [
        "#### 2진수(Binary)\n",
        "\n",
        "* 2진수는 앞에 `0b`를 붙여서 표현\n",
        "* 변수 `b`에 2진수 표현으로 `0b010`을 넣고, `type()` 함수를 통해 자료형을 확인하기"
      ]
    },
    {
      "cell_type": "code",
      "metadata": {
        "id": "xxmW8Xp0u01Q",
        "colab": {
          "base_uri": "https://localhost:8080/",
          "height": 55
        },
        "outputId": "b3e6f12d-642d-4d46-b582-2341d754053d"
      },
      "source": [
        "b = 0b010\n",
        "print(b)\n",
        "print(type(b))"
      ],
      "execution_count": null,
      "outputs": [
        {
          "output_type": "stream",
          "text": [
            "2\n",
            "<class 'int'>\n"
          ],
          "name": "stdout"
        }
      ]
    },
    {
      "cell_type": "markdown",
      "metadata": {
        "id": "uWuYvhlMz-pL"
      },
      "source": [
        "#### 8진수(Octal)\n",
        "\n",
        "* 8진수는 앞에 `0o`를 붙여서 표현\n",
        "* 변수 `o`에 8진수 표현으로 `0o130`을 넣고 확인하기"
      ]
    },
    {
      "cell_type": "code",
      "metadata": {
        "id": "uS9NsK2ZYU8l",
        "colab": {
          "base_uri": "https://localhost:8080/",
          "height": 55
        },
        "outputId": "858fbeae-86c4-4f14-a970-501b645ca32c"
      },
      "source": [
        "o = 0o130\n",
        "print(o)\n",
        "print(type(o))"
      ],
      "execution_count": null,
      "outputs": [
        {
          "output_type": "stream",
          "text": [
            "88\n",
            "<class 'int'>\n"
          ],
          "name": "stdout"
        }
      ]
    },
    {
      "cell_type": "markdown",
      "metadata": {
        "id": "ObGeQFIA0CfR"
      },
      "source": [
        "#### 16진수(Hexadecimal)\n",
        "\n",
        "* 16진수은 앞에 `0x`를 붙여서 표현\n",
        "* 변수 `h`에 16진수 표현으로 `0xABC`를 넣고 확인하기\n",
        "* 16진수는 10진수와 달리 10부터 A에서 F까지 알파벳을 사용하여 표현"
      ]
    },
    {
      "cell_type": "code",
      "metadata": {
        "id": "t6AMAPRLYVHG",
        "colab": {
          "base_uri": "https://localhost:8080/",
          "height": 55
        },
        "outputId": "5a33bfcc-e198-4beb-bdd9-b8d4b3b106fb"
      },
      "source": [
        "h = 0xABC\n",
        "print(h)\n",
        "print(type(h))"
      ],
      "execution_count": null,
      "outputs": [
        {
          "output_type": "stream",
          "text": [
            "2748\n",
            "<class 'int'>\n"
          ],
          "name": "stdout"
        }
      ]
    },
    {
      "cell_type": "markdown",
      "metadata": {
        "id": "ExS5VLXYgC0K"
      },
      "source": [
        "### 실수형 자료형(Floating-Point Type)\n",
        "\n",
        "* 실수형 자료형 표현은 고정소수점과 부동소수점으로 구분"
      ]
    },
    {
      "cell_type": "markdown",
      "metadata": {
        "id": "o9wEy__Akh68"
      },
      "source": [
        "#### 고정소수점(Fixed-Point)\n",
        "\n",
        "* 기본적으로 고정된 자리수의 소수를 사용하는 고정소수점 방식\n",
        "* 실수형 변수 `f`에 소수점이 포함된 `12.34` 값을 넣고 확인하기\n",
        "* `type(f)`를 통해서 결과를 확인해보면 실수형(float) 자료형으로 출력\n",
        "* 파이썬에서는 소수에서 정수부가 0인 경우에는 제외해서 표현 가능\n",
        "* 코드에서 값 `.123`은 `0.123`을 의미"
      ]
    },
    {
      "cell_type": "code",
      "metadata": {
        "id": "zRx3Lg_soF-d",
        "colab": {
          "base_uri": "https://localhost:8080/",
          "height": 55
        },
        "outputId": "2db8dbcb-3d56-4a85-f6b4-8c2e7b8e33a4"
      },
      "source": [
        "f = 12.34\n",
        "print(f)\n",
        "print(type(f))"
      ],
      "execution_count": null,
      "outputs": [
        {
          "output_type": "stream",
          "text": [
            "12.34\n",
            "<class 'float'>\n"
          ],
          "name": "stdout"
        }
      ]
    },
    {
      "cell_type": "code",
      "metadata": {
        "id": "YLdTH0EtgupN",
        "colab": {
          "base_uri": "https://localhost:8080/",
          "height": 36
        },
        "outputId": "f680e3fd-eac9-434d-b901-b2dec1187d21"
      },
      "source": [
        "f = .123\n",
        "print(f)"
      ],
      "execution_count": null,
      "outputs": [
        {
          "output_type": "stream",
          "text": [
            "0.123\n"
          ],
          "name": "stdout"
        }
      ]
    },
    {
      "cell_type": "markdown",
      "metadata": {
        "id": "NSsefZL8hx83"
      },
      "source": [
        "#### 부동소수점(Floating-Point)\n",
        "\n",
        "* 컴퓨터에서 소수점의 위치가 고정되지 않고 넓은 범위의 값을 근사하여 표현하는 부동소수점 방식이 있음\n",
        "* 부동소수점에 대한 개념을 모르는 경우에는 [링크](https://ko.wikipedia.org/wiki/%EB%B6%80%EB%8F%99%EC%86%8C%EC%88%98%EC%A0%90)를 참고\n",
        "* 파이썬에서는 e 기호를 이용하여 지수에 대한 표현을 사용\n",
        "* `e` 변수에 할당한 `1234e-2` 라는 표현은 $1234 \\times 10^{-2}$를 의미하고 실제 결과 값은 12.34\n",
        "* `type(e)` 함수를 통해 타입을 확인해보면 실수형\n",
        "* 마찬가지로 `123e-3`은 $123 \\times 10^{-3}$를 의미하며 결과는 0.123"
      ]
    },
    {
      "cell_type": "code",
      "metadata": {
        "id": "VflCID3tgVrO",
        "colab": {
          "base_uri": "https://localhost:8080/",
          "height": 55
        },
        "outputId": "ecee0b74-03cd-407b-cbdc-a60df3605e46"
      },
      "source": [
        "e = 1234e-2\n",
        "print(e)\n",
        "print(type(e))"
      ],
      "execution_count": null,
      "outputs": [
        {
          "output_type": "stream",
          "text": [
            "12.34\n",
            "<class 'float'>\n"
          ],
          "name": "stdout"
        }
      ]
    },
    {
      "cell_type": "code",
      "metadata": {
        "id": "CmJN7I6EgVxT",
        "colab": {
          "base_uri": "https://localhost:8080/",
          "height": 36
        },
        "outputId": "bbf5cb9f-f7cf-401d-fa6a-943bebf1c227"
      },
      "source": [
        "e = 123e-3\n",
        "print(e)"
      ],
      "execution_count": null,
      "outputs": [
        {
          "output_type": "stream",
          "text": [
            "0.123\n"
          ],
          "name": "stdout"
        }
      ]
    },
    {
      "cell_type": "markdown",
      "metadata": {
        "id": "B6TXm4YJoGFF"
      },
      "source": [
        "###복소수형 자료형(Complex Type)\n",
        "\n",
        "* 복소수(complex number)는 임의의 실수 $a$, $b$에 대해 $a + bi$의 꼴로 나타내는 수를 의미\n",
        "* 여기서 $a$는 실수, $b$는 허수 부분\n",
        "* i는 제곱하여 -1이 되는 수로 허수(imaginary number) 단위라고 함\n",
        "* 복소수에 대한 개념을 모르는 경우에는 [링크](https://ko.wikipedia.org/wiki/%EB%B3%B5%EC%86%8C%EC%88%98) 참고\n",
        "* 파이썬에서는 i 대신에 j 또는 J로 표현\n",
        "* $1 + 23j$와 같이 복소수로 표현하기\n",
        "* `print()` 함수를 이용해 출력한 결과 `(1+23j)`\n",
        "* 실수부는 `c.real`로 허수부는 `c.imag`로 출력\n",
        "* 복소수의 경우에는 `type()` 함수로 타입을 살펴보면 결과는 'complex'"
      ]
    },
    {
      "cell_type": "code",
      "metadata": {
        "id": "0I7Dr_S1sp_a",
        "colab": {
          "base_uri": "https://localhost:8080/",
          "height": 92
        },
        "outputId": "a6e8d689-a8b7-41ff-9bb5-3a17f14ea4a3"
      },
      "source": [
        "c = 1 + 23j\n",
        "print(c)\n",
        "print(c.real)\n",
        "print(c.imag)\n",
        "print(type(c))"
      ],
      "execution_count": null,
      "outputs": [
        {
          "output_type": "stream",
          "text": [
            "(1+23j)\n",
            "1.0\n",
            "23.0\n",
            "<class 'complex'>\n"
          ],
          "name": "stdout"
        }
      ]
    },
    {
      "cell_type": "markdown",
      "metadata": {
        "id": "-KDyVNOYErfS"
      },
      "source": [
        "### 문자열 자료형(String Type)\n",
        "\n",
        "* 문자열(string)은 문자들의 집합을 의미\n",
        "* 문자열을 저장하는 변수를 문자열 변수라고 함"
      ]
    },
    {
      "cell_type": "code",
      "metadata": {
        "id": "vMbIM94dEq85",
        "colab": {
          "base_uri": "https://localhost:8080/",
          "height": 55
        },
        "outputId": "7dd3b459-5fce-45e9-cba5-6e8a8cfe6657"
      },
      "source": [
        "string = \"Suan\"\n",
        "print(string)\n",
        "print(type(string))"
      ],
      "execution_count": null,
      "outputs": [
        {
          "output_type": "stream",
          "text": [
            "Suan\n",
            "<class 'str'>\n"
          ],
          "name": "stdout"
        }
      ]
    },
    {
      "cell_type": "markdown",
      "metadata": {
        "id": "mCkLTLt_GkqB"
      },
      "source": [
        "### 리스트 자료형(List Type)\n",
        "\n",
        "* 리스트(list)는 여러 값을 하나의 변수에 담을 수 있는 자료형\n",
        "* 대괄호 안에 여러 값을 쉽표를 구분자로 표현하여 리스트 변수 생성\n",
        "* 간단하게 리스트 생성과 출력을 위해 변수 `l` 안에 값 1, 2, 3을 넣어보자\n",
        "* 자료형을 출력해보면 'list'라는 결과 값을 가지는 것을 알 수 있음"
      ]
    },
    {
      "cell_type": "code",
      "metadata": {
        "id": "Y_KxRefG_AlV",
        "colab": {
          "base_uri": "https://localhost:8080/",
          "height": 55
        },
        "outputId": "ca867d1a-6c36-46af-f705-115b93ba90db"
      },
      "source": [
        "l = [1, 2, 3]\n",
        "print(l)\n",
        "print(type(l))"
      ],
      "execution_count": null,
      "outputs": [
        {
          "output_type": "stream",
          "text": [
            "[1, 2, 3]\n",
            "<class 'list'>\n"
          ],
          "name": "stdout"
        }
      ]
    },
    {
      "cell_type": "markdown",
      "metadata": {
        "id": "YyMEboAsJA_f"
      },
      "source": [
        "* 리스트 자료형은 같은 자료형이 아니라 다른 자료형을 가지는 값들도 포함하여 구성 가능\n",
        "* 숫자와 문자열이 포함된 리스트 변수 사용하기"
      ]
    },
    {
      "cell_type": "code",
      "metadata": {
        "id": "_RxMxJkRILKq",
        "colab": {
          "base_uri": "https://localhost:8080/",
          "height": 55
        },
        "outputId": "8d997066-4f80-420b-f0a9-227877cc0753"
      },
      "source": [
        "l = [1, \"One\", 2, \"Two\", 3, \"Three\"]\n",
        "print(l)\n",
        "print(type(l))"
      ],
      "execution_count": null,
      "outputs": [
        {
          "output_type": "stream",
          "text": [
            "[1, 'One', 2, 'Two', 3, 'Three']\n",
            "<class 'list'>\n"
          ],
          "name": "stdout"
        }
      ]
    },
    {
      "cell_type": "markdown",
      "metadata": {
        "id": "NrO0CmiFJTet"
      },
      "source": [
        "### 튜플 자료형(Tuple Type)\n",
        "\n",
        "* 튜플 자료형은 리스트 자료형과 유사하지만 생성, 삭제, 수정이 불가\n",
        "* 튜플은 괄호 안에 여러 값을 쉼표로 구분하여 사용\n",
        "* 변수 `t` 안에 값 1, 2, 3을 저장하고, 변수와 변수의 타입을 출력하기"
      ]
    },
    {
      "cell_type": "code",
      "metadata": {
        "id": "_Wm3Q7k_JPaX",
        "colab": {
          "base_uri": "https://localhost:8080/",
          "height": 55
        },
        "outputId": "19f8833e-403e-44db-b1d8-7ad8fc1ada7a"
      },
      "source": [
        "t = (1, 2, 3)\n",
        "print(t)\n",
        "print(type(t))"
      ],
      "execution_count": null,
      "outputs": [
        {
          "output_type": "stream",
          "text": [
            "(1, 2, 3)\n",
            "<class 'tuple'>\n"
          ],
          "name": "stdout"
        }
      ]
    },
    {
      "cell_type": "markdown",
      "metadata": {
        "id": "xQJGvN1CVGST"
      },
      "source": [
        "### 범위 자료형(Range Type)\n",
        "\n",
        "* 불변한 숫자 시퀀스 자료형"
      ]
    },
    {
      "cell_type": "code",
      "metadata": {
        "id": "efGjqZz7VGqz",
        "colab": {
          "base_uri": "https://localhost:8080/",
          "height": 55
        },
        "outputId": "ac63b7b6-f311-4d5e-badb-c097b71a9d3a"
      },
      "source": [
        "r = range(10)\n",
        "print(r)\n",
        "print(type(r))"
      ],
      "execution_count": null,
      "outputs": [
        {
          "output_type": "stream",
          "text": [
            "range(0, 10)\n",
            "<class 'range'>\n"
          ],
          "name": "stdout"
        }
      ]
    },
    {
      "cell_type": "markdown",
      "metadata": {
        "id": "cjPLDAii4Oj7"
      },
      "source": [
        "### 집합 자료형(Set Type)\n",
        "\n",
        "* 집합 자료형은 중복과 순서가 없다는 특징을 가지며 집합 처리를 쉽게할 수 있음\n",
        "* 집합은 중괄호를 이용해서 값을 쉼표로 구분하여 넣음\n",
        "* 변수 `s` 안에 값 2, 3, 1을 넣고 변수 `s`의 값과 타입을 출력한 예제\n",
        "* 변경 불가능한 집합 자료형으로 fronzenset이 있음"
      ]
    },
    {
      "cell_type": "code",
      "metadata": {
        "id": "ZvEn8hlvKDaE",
        "colab": {
          "base_uri": "https://localhost:8080/",
          "height": 92
        },
        "outputId": "fa93fb72-61eb-451b-c79c-ab6fe7cb8769"
      },
      "source": [
        "s = {2, 3, 1}\n",
        "print(s)\n",
        "print(type(s))\n",
        "\n",
        "fs = frozenset(s)\n",
        "print(fs)\n",
        "print(type(fs))"
      ],
      "execution_count": null,
      "outputs": [
        {
          "output_type": "stream",
          "text": [
            "{1, 2, 3}\n",
            "<class 'set'>\n",
            "frozenset({1, 2, 3})\n",
            "<class 'frozenset'>\n"
          ],
          "name": "stdout"
        }
      ]
    },
    {
      "cell_type": "markdown",
      "metadata": {
        "id": "9O8GBpoTa1HO"
      },
      "source": [
        "### 딕셔너리 자료형(Dictionary Type)\n",
        "\n",
        "* 딕셔너리 자료형은 다른 자료형과 달리 키(key)와 값(value)를 한 쌍으로 갖는 자료형\n",
        "* 변수 `d`에 키와 값을 구분자 `:`를 이용해서 쌍으로 묶어서 `1: 'One', 2: 'Two'` 형태로 넣을 수 있음"
      ]
    },
    {
      "cell_type": "code",
      "metadata": {
        "id": "9R-eJj_ja1oD",
        "colab": {
          "base_uri": "https://localhost:8080/",
          "height": 55
        },
        "outputId": "cf74894b-a27c-4080-c326-c796a970c1d3"
      },
      "source": [
        "d = {1: 'One', 2 : 'Two'}\n",
        "print(d)\n",
        "print(type(d))"
      ],
      "execution_count": null,
      "outputs": [
        {
          "output_type": "stream",
          "text": [
            "{1: 'One', 2: 'Two'}\n",
            "<class 'dict'>\n"
          ],
          "name": "stdout"
        }
      ]
    },
    {
      "cell_type": "markdown",
      "metadata": {
        "id": "rbjYd180xOgd"
      },
      "source": [
        "### 바이트 시퀀스형(Byte Sequence Type)\n",
        "\n",
        "* 바이트 자료형은 1바이트 단위의 값을 연속적으로 저장하는 시퀀스 자료형\n",
        "* 1바이트는 8비트에 해당하며, 정수값 0 ~ 255(0x00~0xFF) 사용\n",
        "* 이진 데이터로 사용되어지거나 1바이트 문자로 고정을 위해 사용\n",
        "* 유니코드가 아닌 문자열을 사용하는 것과 유사\n",
        "* 바이트 자료형의 시퀀스 형태로 `bytearray` 자료형 사용\n",
        "* 바이트 자료형의 메모리 값의 표현으로 `memoryview` 자료형 사용\n"
      ]
    },
    {
      "cell_type": "code",
      "metadata": {
        "id": "N364DWyAuinp",
        "colab": {
          "base_uri": "https://localhost:8080/",
          "height": 167
        },
        "outputId": "d1d336ca-6274-415a-d792-aefed03fdc7c"
      },
      "source": [
        "byte = b'\\x00'\n",
        "print(byte)\n",
        "print(type(byte))\n",
        "\n",
        "byte = b\"Hello\"\n",
        "print(byte)\n",
        "print(type(byte))\n",
        "\n",
        "ba = bytearray(byte)\n",
        "print(ba)\n",
        "print(type(ba))\n",
        "\n",
        "mv = memoryview(ba)\n",
        "print(mv)\n",
        "print(type(mv))"
      ],
      "execution_count": null,
      "outputs": [
        {
          "output_type": "stream",
          "text": [
            "b'\\x00'\n",
            "<class 'bytes'>\n",
            "b'Hello'\n",
            "<class 'bytes'>\n",
            "bytearray(b'Hello')\n",
            "<class 'bytearray'>\n",
            "<memory at 0x7fd5cb6381c8>\n",
            "<class 'memoryview'>\n"
          ],
          "name": "stdout"
        }
      ]
    },
    {
      "cell_type": "markdown",
      "metadata": {
        "id": "aYEHLAuDCZcj"
      },
      "source": [
        "\n",
        "\n",
        "---\n",
        "\n"
      ]
    },
    {
      "cell_type": "markdown",
      "metadata": {
        "id": "RsSgmmjFXFAS"
      },
      "source": [
        "## 자료형 변환"
      ]
    },
    {
      "cell_type": "markdown",
      "metadata": {
        "id": "-FxX0V7IUgl9"
      },
      "source": [
        "#### bool()\n",
        "\n",
        "* `bool()` 함수는 다양한 자료형을 불리언형으로 변환\n",
        "* `0`이나 `False` 값이 아닌 경우는 모두 True로 변환"
      ]
    },
    {
      "cell_type": "code",
      "metadata": {
        "id": "levVjrt-UPGE",
        "colab": {
          "base_uri": "https://localhost:8080/",
          "height": 185
        },
        "outputId": "720b7601-7e82-4fb7-b3b4-2e7c09e195fa"
      },
      "source": [
        "print(bool(True))\n",
        "print(bool(False))\n",
        "print(bool(10))\n",
        "print(bool(0b010))\n",
        "print(bool(0o130))\n",
        "print(bool(0xABC))\n",
        "print(bool(12.34))\n",
        "print(bool(1234e-2))\n",
        "print(bool('10'))"
      ],
      "execution_count": null,
      "outputs": [
        {
          "output_type": "stream",
          "text": [
            "True\n",
            "False\n",
            "True\n",
            "True\n",
            "True\n",
            "True\n",
            "True\n",
            "True\n",
            "True\n"
          ],
          "name": "stdout"
        }
      ]
    },
    {
      "cell_type": "markdown",
      "metadata": {
        "id": "KpA7BboIHjok"
      },
      "source": [
        "### int()\n",
        "\n",
        "* `int()` 함수는 다양한 자료형을 정수형으로 변환\n",
        "* 복소수형은 정수로 `int()` 함수를 통해 변환이 되지 않음\n",
        "* 불리언 형은 값으로 `True`와 `False`만 가지고 `int()` 함수를 통해 정수로 변환되면 `True`는 1로 `False`는 0으로 변환\n",
        "* 정수값 10과 2진수 `0b010`, 8진수 `0o130`, 16진수 `0xABC`는 모두 같은 정수형이라서 그대로 값을 유지하고, 10진수 형태로 변환되어 출력\n",
        "* 실수형을 정수형으로 변환하는 경우에는 고정소수점이든 부동소수점이든지 소수점 이하를 제외하고 변환, 예를 들어, 12.34는 12로 소수점을 제외하고 변환\n",
        "* 문자형은 기본적으로는 문자열을 10진수 변환, 예를 들어, `int('10')`은 기본 10진수로 문자열 '10'을 정수형 10으로 변환\n",
        "* 2진수, 8진수, 16진수 등의 다른 진수로 된 문자열일 경우에는 몇 진수에 해당되는지를 입력해주면 그에 맞추어 변환\n",
        "* `int('010', 2)`와 같이 문자열 '010'을 2진수라고 알려주고 변환하기 위해서 2라고 입력하고, 8진수과 16진수도 마찬가지"
      ]
    },
    {
      "cell_type": "code",
      "metadata": {
        "id": "aFXT-t5qWRvX",
        "colab": {
          "base_uri": "https://localhost:8080/",
          "height": 241
        },
        "outputId": "9665e0ce-1d80-48de-9876-ec3dcb5da698"
      },
      "source": [
        "print(int(True))\n",
        "print(int(False))\n",
        "print(int(10))\n",
        "print(int(0b010))\n",
        "print(int(0o130))\n",
        "print(int(0xABC))\n",
        "print(int(12.34))\n",
        "print(int(1234e-2))\n",
        "print(int('10'))\n",
        "print(int('010', 2))\n",
        "print(int('130', 8))\n",
        "print(int('ABC', 16))"
      ],
      "execution_count": null,
      "outputs": [
        {
          "output_type": "stream",
          "text": [
            "1\n",
            "0\n",
            "10\n",
            "2\n",
            "88\n",
            "2748\n",
            "12\n",
            "12\n",
            "10\n",
            "2\n",
            "88\n",
            "2748\n"
          ],
          "name": "stdout"
        }
      ]
    },
    {
      "cell_type": "markdown",
      "metadata": {
        "id": "l1DTbBym3gb_"
      },
      "source": [
        "### float()\n",
        "\n",
        "* `float()` 함수는 자료형을 실수형으로 변환\n",
        "* 복소수형은 변환이 되지 않고, 문자열 형태의 2진수, 8진수, 16진수도 변환이 되지 않음\n",
        "* `int()` 함수를 사용한 결과와 유사하지만, 소수점 이하 값이 포함\n",
        "* 만약 소수점 이하 값이 없다면 .0으로 변환되고, 소수점 이하 값이 있는 실수형은 동일한 값으로 변환"
      ]
    },
    {
      "cell_type": "code",
      "metadata": {
        "id": "xKGdUbHXGnrt",
        "colab": {
          "base_uri": "https://localhost:8080/",
          "height": 185
        },
        "outputId": "742a52ec-5d0c-43f1-89c8-a65c8a5dc90f"
      },
      "source": [
        "print(float(True))\n",
        "print(float(False))\n",
        "print(float(10))\n",
        "print(float(0b010))\n",
        "print(float(0o130))\n",
        "print(float(0xABC))\n",
        "print(float(12.34))\n",
        "print(float(1234e-2))\n",
        "print(float('10'))"
      ],
      "execution_count": null,
      "outputs": [
        {
          "output_type": "stream",
          "text": [
            "1.0\n",
            "0.0\n",
            "10.0\n",
            "2.0\n",
            "88.0\n",
            "2748.0\n",
            "12.34\n",
            "12.34\n",
            "10.0\n"
          ],
          "name": "stdout"
        }
      ]
    },
    {
      "cell_type": "markdown",
      "metadata": {
        "id": "C4E7PyVIfjGp"
      },
      "source": [
        "### complex()\n",
        "\n",
        "* `complex()` 함수는 자료형을 복소수형으로 변환\n",
        "* 불리언형, 정수형, 실수형, 복소수형, 문자형 모두 복소수형으로 변환 가능\n",
        "* 허수가 있는 복소수형을 제외하고 다른 자료형은 허수 부분이 없어서 `OJ`로 변환"
      ]
    },
    {
      "cell_type": "code",
      "metadata": {
        "id": "2VkxG3V17t0Q",
        "colab": {
          "base_uri": "https://localhost:8080/",
          "height": 204
        },
        "outputId": "2de335bd-62a1-4b77-874b-9d27c16939fa"
      },
      "source": [
        "print(complex(True))\n",
        "print(complex(False))\n",
        "print(complex(10))\n",
        "print(complex(0b010))\n",
        "print(complex(0o130))\n",
        "print(complex(0xABC))\n",
        "print(complex(12.34))\n",
        "print(complex(1234e-2))\n",
        "print(complex(1 + 23j))\n",
        "print(complex('10'))"
      ],
      "execution_count": null,
      "outputs": [
        {
          "output_type": "stream",
          "text": [
            "(1+0j)\n",
            "0j\n",
            "(10+0j)\n",
            "(2+0j)\n",
            "(88+0j)\n",
            "(2748+0j)\n",
            "(12.34+0j)\n",
            "(12.34+0j)\n",
            "(1+23j)\n",
            "(10+0j)\n"
          ],
          "name": "stdout"
        }
      ]
    },
    {
      "cell_type": "markdown",
      "metadata": {
        "id": "4B6kUxK5dqaT"
      },
      "source": [
        "### str()\n",
        "\n",
        "* `str()` 함수는 파이썬의 모든 자료형을 문자열로 변환\n",
        "* 자료형의 값을 그대로 문자열 형태로 변환\n"
      ]
    },
    {
      "cell_type": "code",
      "metadata": {
        "id": "AWnqw88hfotE",
        "colab": {
          "base_uri": "https://localhost:8080/",
          "height": 279
        },
        "outputId": "5250e4ba-6b8b-4bdf-b256-a74ef88bc31a"
      },
      "source": [
        "print(str(True))\n",
        "print(str(False))\n",
        "print(str(10))\n",
        "print(str(0b010))\n",
        "print(str(0o130))\n",
        "print(str(0xABC))\n",
        "print(str(12.34))\n",
        "print(str(1234e-2))\n",
        "print(str(1 + 23j))\n",
        "print(str('10'))\n",
        "print(str([1, 2, 3]))\n",
        "print(str((1, 2, 3)))\n",
        "print(str({2, 3, 1}))\n",
        "print(str({1: 'One', 2: 'Two'}))"
      ],
      "execution_count": null,
      "outputs": [
        {
          "output_type": "stream",
          "text": [
            "True\n",
            "False\n",
            "10\n",
            "2\n",
            "88\n",
            "2748\n",
            "12.34\n",
            "12.34\n",
            "(1+23j)\n",
            "10\n",
            "[1, 2, 3]\n",
            "(1, 2, 3)\n",
            "{1, 2, 3}\n",
            "{1: 'One', 2: 'Two'}\n"
          ],
          "name": "stdout"
        }
      ]
    },
    {
      "cell_type": "markdown",
      "metadata": {
        "id": "XU9RZbXykzXt"
      },
      "source": [
        "### eval()\n",
        "\n",
        "* `eval()` 함수는 문자열에 포함된 수식을 계산하여 나온 결과를 반환\n",
        "* '1 + 2'라는 문자열에 대해서 그대로 출력하는 것과 달리 계산된 결과 값은 3을 출력\n",
        "* 그 밖에도 -, *, /와 같은 여러 수식들에 대해서도 계산 가능"
      ]
    },
    {
      "cell_type": "code",
      "metadata": {
        "id": "m3Fh1-2leEru",
        "colab": {
          "base_uri": "https://localhost:8080/",
          "height": 111
        },
        "outputId": "b1182247-3d45-42a2-d5bf-a59d760a0d8b"
      },
      "source": [
        "print(\"1 + 2\")\n",
        "print(eval(\"1 + 2\"))\n",
        "print(eval(\"10 + 20 - 30\"))\n",
        "print(eval(\"10 * 10\"))\n",
        "print(eval(\"100 / 10\"))"
      ],
      "execution_count": null,
      "outputs": [
        {
          "output_type": "stream",
          "text": [
            "1 + 2\n",
            "3\n",
            "0\n",
            "100\n",
            "10.0\n"
          ],
          "name": "stdout"
        }
      ]
    },
    {
      "cell_type": "markdown",
      "metadata": {
        "id": "nhChZjK3n9KE"
      },
      "source": [
        "### tuple()\n",
        "\n",
        "* `tuple()` 함수는 문자열, 리스트, 튜플 등의 자료형을 튜플 자료형으로 변환\n",
        "* 문자열 `'Suan'`을 문자 단위로 구분하여 튜플 자료형으로 변환\n",
        "* 리스트 자료형 `[1, 2, 3]`이나 튜플 자료형 `(1, 2, 3)`도 튜플 자료형으로 `(1, 2, 3)`으로 변환"
      ]
    },
    {
      "cell_type": "code",
      "metadata": {
        "id": "--4Db23Glh-5",
        "colab": {
          "base_uri": "https://localhost:8080/",
          "height": 73
        },
        "outputId": "33298a4a-0eef-4de2-fc4a-41f47f3a4675"
      },
      "source": [
        "print(tuple('Suan'))\n",
        "print(tuple([1, 2, 3]))\n",
        "print(tuple((1, 2, 3)))"
      ],
      "execution_count": null,
      "outputs": [
        {
          "output_type": "stream",
          "text": [
            "('S', 'u', 'a', 'n')\n",
            "(1, 2, 3)\n",
            "(1, 2, 3)\n"
          ],
          "name": "stdout"
        }
      ]
    },
    {
      "cell_type": "markdown",
      "metadata": {
        "id": "PStvlrGiaphP"
      },
      "source": [
        "### list()\n",
        "\n",
        "* `list()` 함수는 문자열, 리스트, 튜플 등의 자료형을 리스트 자료형으로 변환\n",
        "* 문자열 `'Suan'`, 리스트 `[1, 2, 3]`, 튜플 `(1, 2, 3)`에 대해서 리스트 자료형으로 변환"
      ]
    },
    {
      "cell_type": "code",
      "metadata": {
        "id": "OGUiqkOMaova",
        "colab": {
          "base_uri": "https://localhost:8080/",
          "height": 73
        },
        "outputId": "afc4a657-1a8a-444f-b993-578a8441a2a0"
      },
      "source": [
        "print(list('Suan'))\n",
        "print(list([1, 2, 3]))\n",
        "print(list((1, 2, 3)))"
      ],
      "execution_count": null,
      "outputs": [
        {
          "output_type": "stream",
          "text": [
            "['S', 'u', 'a', 'n']\n",
            "[1, 2, 3]\n",
            "[1, 2, 3]\n"
          ],
          "name": "stdout"
        }
      ]
    },
    {
      "cell_type": "markdown",
      "metadata": {
        "id": "J0kr_j2KatLD"
      },
      "source": [
        "### set()\n",
        "\n",
        "* `set()` 함수는 문자열, 리스트, 튜플, 집합, 딕셔너리 자료형을 집합 자료형으로 변환\n",
        "* 집합의 특성답게 요소에 대해서 순서를 고려하지 않고 변환\n",
        "* 리스트, 튜플, 집합 자료형도 집합 형태로 변환이 되며, 딕셔너리 자료형도 집합으로 변환\n",
        "* 딕셔너리 자료형은 키와 값으로 구성된 구조에서 키 값에 해당하는 것만 집합으로 변환\n"
      ]
    },
    {
      "cell_type": "code",
      "metadata": {
        "id": "zW0-GhJiavlg",
        "colab": {
          "base_uri": "https://localhost:8080/",
          "height": 111
        },
        "outputId": "5b938b9c-bb20-4f8e-b560-f6169383d169"
      },
      "source": [
        "print(set('Suan'))\n",
        "print(set([1, 2, 3]))\n",
        "print(set((1, 2, 3)))\n",
        "print(set({1, 2, 3}))\n",
        "print(set({1: 'One', 2: 'Two'}))"
      ],
      "execution_count": null,
      "outputs": [
        {
          "output_type": "stream",
          "text": [
            "{'S', 'a', 'u', 'n'}\n",
            "{1, 2, 3}\n",
            "{1, 2, 3}\n",
            "{1, 2, 3}\n",
            "{1, 2}\n"
          ],
          "name": "stdout"
        }
      ]
    },
    {
      "cell_type": "markdown",
      "metadata": {
        "id": "O3OowqxXayn7"
      },
      "source": [
        "### frozenset()\n",
        "\n",
        "* `frozenset()` 함수는 문자열을 고정 집합 형태로 변환\n",
        "* `set()` 함수는 집합의 값을 추가 및 제거 등이 가능\n",
        "* `frozenset()` 함수는 수정 불가능한 집합 자료형"
      ]
    },
    {
      "cell_type": "code",
      "metadata": {
        "id": "VLwYuHvha0ef",
        "colab": {
          "base_uri": "https://localhost:8080/",
          "height": 55
        },
        "outputId": "c4fd0133-0b8c-4d44-baa5-4edf84caa717"
      },
      "source": [
        "print(frozenset('Suan'))\n",
        "print(frozenset([1, 2, 3]))"
      ],
      "execution_count": null,
      "outputs": [
        {
          "output_type": "stream",
          "text": [
            "frozenset({'S', 'a', 'u', 'n'})\n",
            "frozenset({1, 2, 3})\n"
          ],
          "name": "stdout"
        }
      ]
    },
    {
      "cell_type": "markdown",
      "metadata": {
        "id": "c5caSaibawSN"
      },
      "source": [
        "### dict()\n",
        "\n",
        "* `dict()` 함수는 딕셔너리 자료형으로 변환하는 역할\n",
        "* (키: 값)으로 구성된 튜플의 시퀀스 형태로 값을 가짐\n"
      ]
    },
    {
      "cell_type": "code",
      "metadata": {
        "id": "60x8BRJFayPO",
        "colab": {
          "base_uri": "https://localhost:8080/",
          "height": 55
        },
        "outputId": "dc731816-f2db-4a36-8cbf-56c92f17ad6e"
      },
      "source": [
        "print(dict({1: 'One', 2: 'Two'}))\n",
        "print(dict({'One': 1, 'Two': 2}))"
      ],
      "execution_count": null,
      "outputs": [
        {
          "output_type": "stream",
          "text": [
            "{1: 'One', 2: 'Two'}\n",
            "{'One': 1, 'Two': 2}\n"
          ],
          "name": "stdout"
        }
      ]
    },
    {
      "cell_type": "markdown",
      "metadata": {
        "id": "2ACrynyca1DD"
      },
      "source": [
        "### chr()\n",
        "\n",
        "* `chr()` 함수는 정수를 문자로 변환\n",
        "* 컴퓨터에서는 문자를 처리하기 위해 각 문자마다 특정 정수값으로 매핑: ASCII(American Standard Code for Information Interchange)\n",
        "\n",
        "* `chr()` 함수는 ASCII 기준에 따라서 정수값에 해당하는 문자를 나타냄\n",
        "* 예를 들어, ASCII에서 정수 값 97은 문자 a에 매핑되어 `chr(97)`의 결과 값은 문자 a"
      ]
    },
    {
      "cell_type": "code",
      "metadata": {
        "id": "4IozRAYUa27n",
        "colab": {
          "base_uri": "https://localhost:8080/",
          "height": 92
        },
        "outputId": "61f863f8-cee3-489b-96f6-a986d95698af"
      },
      "source": [
        "print(chr(97))\n",
        "print(chr(65))\n",
        "print(chr(122))\n",
        "print(chr(90))"
      ],
      "execution_count": null,
      "outputs": [
        {
          "output_type": "stream",
          "text": [
            "a\n",
            "A\n",
            "z\n",
            "Z\n"
          ],
          "name": "stdout"
        }
      ]
    },
    {
      "cell_type": "markdown",
      "metadata": {
        "id": "pqxx-K67a3Vf"
      },
      "source": [
        "### ord()\n",
        "\n",
        "* `ord()` 함수는 `chr()` 함수와 반대로 문자를 정수 값으로 변환\n",
        "* ASCII에 맞춰서 문자 'a'에 해당하는 정수 값인 97을 출력하기"
      ]
    },
    {
      "cell_type": "code",
      "metadata": {
        "id": "Hucvh-qxa5iG",
        "colab": {
          "base_uri": "https://localhost:8080/",
          "height": 92
        },
        "outputId": "de5b8cb6-fd1b-49cf-a27c-4b65526a3ee7"
      },
      "source": [
        "print(ord('a'))\n",
        "print(ord('A'))\n",
        "print(ord('z'))\n",
        "print(ord('Z'))"
      ],
      "execution_count": null,
      "outputs": [
        {
          "output_type": "stream",
          "text": [
            "97\n",
            "65\n",
            "122\n",
            "90\n"
          ],
          "name": "stdout"
        }
      ]
    },
    {
      "cell_type": "markdown",
      "metadata": {
        "id": "0TDNXL3saLad"
      },
      "source": [
        "### bin()\n",
        "\n",
        "* `bin()` 함수는 정수를 2진수 문자열로 변환\n",
        "* 자료형을 2진수 표기인 '0b'가 붙은 형태의 문자열로 변환\n",
        "* `bin()` 함수로 `True`는 `0b1`로 출력하고, `False`는 `0b0`으로 출력하기\n",
        "* 10진수, 2진수, 8진수, 16진수 정수형도 2진수로 변환되어 출력"
      ]
    },
    {
      "cell_type": "code",
      "metadata": {
        "id": "Ia5W7GjVaNSO",
        "colab": {
          "base_uri": "https://localhost:8080/",
          "height": 129
        },
        "outputId": "a94b1b50-da2c-4045-906b-053ecea828fc"
      },
      "source": [
        "print(bin(True))\n",
        "print(bin(False))\n",
        "print(bin(10))\n",
        "print(bin(0b010))\n",
        "print(bin(0o130))\n",
        "print(bin(0xABC))"
      ],
      "execution_count": null,
      "outputs": [
        {
          "output_type": "stream",
          "text": [
            "0b1\n",
            "0b0\n",
            "0b1010\n",
            "0b10\n",
            "0b1011000\n",
            "0b101010111100\n"
          ],
          "name": "stdout"
        }
      ]
    },
    {
      "cell_type": "markdown",
      "metadata": {
        "id": "GhKuz0R7a8nh"
      },
      "source": [
        "### oct()\n",
        "\n",
        "* `oct()` 함수는 정수를 8진수 문자열로 변환\n",
        "* 불리언형, 정수형 등의 자료형을 8진수 표기인 '0o'가 붙은 형태의 문자열로 변환\n",
        "* `oct()` 함수를 이용해 `True`는 `0o1`로 출력되고, `False`는 `0o0`으로 출력하기\n",
        "* 10진수, 2진수, 8진수, 16진수 정수형도 8진수로 변환되어 출력"
      ]
    },
    {
      "cell_type": "code",
      "metadata": {
        "id": "hLc4zMe7a-L0",
        "colab": {
          "base_uri": "https://localhost:8080/",
          "height": 129
        },
        "outputId": "2ed06d5c-df7e-4cf6-be93-d1cc5b4e47bd"
      },
      "source": [
        "print(oct(True))\n",
        "print(oct(False))\n",
        "print(oct(10))\n",
        "print(oct(0b010))\n",
        "print(oct(0o130))\n",
        "print(oct(0xABC))"
      ],
      "execution_count": null,
      "outputs": [
        {
          "output_type": "stream",
          "text": [
            "0o1\n",
            "0o0\n",
            "0o12\n",
            "0o2\n",
            "0o130\n",
            "0o5274\n"
          ],
          "name": "stdout"
        }
      ]
    },
    {
      "cell_type": "markdown",
      "metadata": {
        "id": "_fRnnZfPa59a"
      },
      "source": [
        "### hex()\n",
        "\n",
        "* `hex()` 함수는 정수를 16진수 문자열로 변환\n",
        "* 주어진 자료형을 16진수 표기인 '0x'가 붙은 16진수 형태의 문자열로 변환\n",
        "* 불리언형과 정수형 모두 16진수 표기의 문자열로 변환하기\n"
      ]
    },
    {
      "cell_type": "code",
      "metadata": {
        "id": "w_hQsUVTa8Mi",
        "colab": {
          "base_uri": "https://localhost:8080/",
          "height": 129
        },
        "outputId": "da6151c7-d976-44f4-8e9b-6acbe9438f9a"
      },
      "source": [
        "print(hex(True))\n",
        "print(hex(False))\n",
        "print(hex(10))\n",
        "print(hex(0b010))\n",
        "print(hex(0o130))\n",
        "print(hex(0xABC))"
      ],
      "execution_count": null,
      "outputs": [
        {
          "output_type": "stream",
          "text": [
            "0x1\n",
            "0x0\n",
            "0xa\n",
            "0x2\n",
            "0x58\n",
            "0xabc\n"
          ],
          "name": "stdout"
        }
      ]
    },
    {
      "cell_type": "markdown",
      "metadata": {
        "id": "algkb-Zv_v3y"
      },
      "source": [
        "### bytes()\n",
        "\n",
        "* `bytes()` 함수는 자료형을 바이트형으로 변환\n",
        "* 객체를 바이트 객체로 변환"
      ]
    },
    {
      "cell_type": "code",
      "metadata": {
        "id": "fBuAnYJQ_wp0",
        "colab": {
          "base_uri": "https://localhost:8080/",
          "height": 111
        },
        "outputId": "5376a9b4-ae47-432a-93f3-b32a7a2f7517"
      },
      "source": [
        "print(bytes(True))\n",
        "print(bytes(False))\n",
        "print(bytes(10))\n",
        "print(bytes(b'Hello'))\n",
        "print(bytes([1, 2, 3]))"
      ],
      "execution_count": null,
      "outputs": [
        {
          "output_type": "stream",
          "text": [
            "b'\\x00'\n",
            "b''\n",
            "b'\\x00\\x00\\x00\\x00\\x00\\x00\\x00\\x00\\x00\\x00'\n",
            "b'Hello'\n",
            "b'\\x01\\x02\\x03'\n"
          ],
          "name": "stdout"
        }
      ]
    },
    {
      "cell_type": "markdown",
      "metadata": {
        "id": "6Ow3gwEoBhLt"
      },
      "source": [
        "### bytearray()\n",
        "\n",
        "* `bytearray()` 함수는 자료형을 변경가능한 바이트형으로 변환"
      ]
    },
    {
      "cell_type": "code",
      "metadata": {
        "id": "g81YWjlACBuI",
        "colab": {
          "base_uri": "https://localhost:8080/",
          "height": 129
        },
        "outputId": "faeb68b2-4d6b-4a34-ff45-19b81a5051a2"
      },
      "source": [
        "ba = bytearray(b'hello')\n",
        "print(ba)\n",
        "ba[0] = ord('H')\n",
        "print(ba)\n",
        "print(type(ba))\n",
        "\n",
        "ba = bytearray([1, 2, 3])\n",
        "print(ba)\n",
        "ba[0] = 4\n",
        "print(ba)\n",
        "print(type(ba))"
      ],
      "execution_count": null,
      "outputs": [
        {
          "output_type": "stream",
          "text": [
            "bytearray(b'hello')\n",
            "bytearray(b'Hello')\n",
            "<class 'bytearray'>\n",
            "bytearray(b'\\x01\\x02\\x03')\n",
            "bytearray(b'\\x04\\x02\\x03')\n",
            "<class 'bytearray'>\n"
          ],
          "name": "stdout"
        }
      ]
    },
    {
      "cell_type": "markdown",
      "metadata": {
        "id": "aP84dGJOEDpt"
      },
      "source": [
        "### memoryview()\n",
        "\n",
        "* 바이트 자료형을 메모리의 이진 데이터로 변환한 자료형"
      ]
    },
    {
      "cell_type": "code",
      "metadata": {
        "id": "MxbONoOsEEKH",
        "colab": {
          "base_uri": "https://localhost:8080/",
          "height": 73
        },
        "outputId": "9e3c2e21-e547-4f0e-f18d-41a05f11dc7c"
      },
      "source": [
        "ba = bytearray(b'hello')\n",
        "mv = memoryview(ba)\n",
        "ba[0] = 72\n",
        "print(ba)\n",
        "print(mv)\n",
        "print(type(mv))"
      ],
      "execution_count": null,
      "outputs": [
        {
          "output_type": "stream",
          "text": [
            "bytearray(b'Hello')\n",
            "<memory at 0x7fd5cb56a108>\n",
            "<class 'memoryview'>\n"
          ],
          "name": "stdout"
        }
      ]
    },
    {
      "cell_type": "markdown",
      "metadata": {
        "id": "TUtif65eQ4kN"
      },
      "source": [
        "## 자료형 계산"
      ]
    },
    {
      "cell_type": "markdown",
      "metadata": {
        "id": "C3IjTWeSRHWa"
      },
      "source": [
        "### min()\n",
        "\n",
        "* 입력된 값들 중에서 가장 작은 값을 반환하는 함수"
      ]
    },
    {
      "cell_type": "code",
      "metadata": {
        "id": "MCgOSP0qRKfn",
        "colab": {
          "base_uri": "https://localhost:8080/",
          "height": 55
        },
        "outputId": "6ed1fdac-75e8-4ac4-dab9-93992b3707e0"
      },
      "source": [
        "print(min(1, 2, 3))\n",
        "print(min([3, 4, 5]))"
      ],
      "execution_count": null,
      "outputs": [
        {
          "output_type": "stream",
          "text": [
            "1\n",
            "3\n"
          ],
          "name": "stdout"
        }
      ]
    },
    {
      "cell_type": "markdown",
      "metadata": {
        "id": "cMVIBtqRRvg0"
      },
      "source": [
        "### max()\n",
        "\n",
        "* 입력된 값들 중에서 가장 큰 값을 반환하는 함수"
      ]
    },
    {
      "cell_type": "code",
      "metadata": {
        "id": "GZfgc91LRzda",
        "colab": {
          "base_uri": "https://localhost:8080/",
          "height": 55
        },
        "outputId": "e2512ef2-4bdd-499f-cfdf-f9de9f359dfd"
      },
      "source": [
        "print(max(1, 2, 3))\n",
        "print(max([3, 4, 5]))"
      ],
      "execution_count": null,
      "outputs": [
        {
          "output_type": "stream",
          "text": [
            "3\n",
            "5\n"
          ],
          "name": "stdout"
        }
      ]
    },
    {
      "cell_type": "markdown",
      "metadata": {
        "id": "OcnIj5EjR_JJ"
      },
      "source": [
        "### sum()\n",
        "\n",
        "* 입력된 값들의 전체 합을 반환"
      ]
    },
    {
      "cell_type": "code",
      "metadata": {
        "id": "FRnME2kiSETx",
        "colab": {
          "base_uri": "https://localhost:8080/",
          "height": 55
        },
        "outputId": "6883f9f4-0887-4242-fecc-69a1e4d12e12"
      },
      "source": [
        "print(sum((1, 2, 3)))\n",
        "print(sum([3, 4, 5]))"
      ],
      "execution_count": null,
      "outputs": [
        {
          "output_type": "stream",
          "text": [
            "6\n",
            "12\n"
          ],
          "name": "stdout"
        }
      ]
    },
    {
      "cell_type": "markdown",
      "metadata": {
        "id": "6t8L1aUkSfuG"
      },
      "source": [
        "### divmod()\n",
        "\n",
        "* 나눈 값과 나머지 값을 쌍으로 반환\n",
        "* `(a // b, a % b)`와 동일한 값"
      ]
    },
    {
      "cell_type": "code",
      "metadata": {
        "id": "0tEUJTJ5Smt_",
        "colab": {
          "base_uri": "https://localhost:8080/",
          "height": 73
        },
        "outputId": "01a4f0fc-2b70-4f43-e787-9ed0b1db9766"
      },
      "source": [
        "print(divmod(3, 5))\n",
        "print(divmod(10, 5))\n",
        "print((10 // 5, 10 % 5))"
      ],
      "execution_count": null,
      "outputs": [
        {
          "output_type": "stream",
          "text": [
            "(0, 3)\n",
            "(2, 0)\n",
            "(2, 0)\n"
          ],
          "name": "stdout"
        }
      ]
    },
    {
      "cell_type": "markdown",
      "metadata": {
        "id": "bA34pYq5TOBo"
      },
      "source": [
        "### abs()\n",
        "\n",
        "* 절대값 $|x|$으로 반환 "
      ]
    },
    {
      "cell_type": "code",
      "metadata": {
        "id": "k9Tk7j77TRdM",
        "colab": {
          "base_uri": "https://localhost:8080/",
          "height": 73
        },
        "outputId": "2c8b9920-7f2b-40bf-8c52-d661aefb90d5"
      },
      "source": [
        "print(abs(-4))\n",
        "print(abs(5))\n",
        "print(abs(-10))"
      ],
      "execution_count": null,
      "outputs": [
        {
          "output_type": "stream",
          "text": [
            "4\n",
            "5\n",
            "10\n"
          ],
          "name": "stdout"
        }
      ]
    },
    {
      "cell_type": "markdown",
      "metadata": {
        "id": "um3henXBThud"
      },
      "source": [
        "### pow()\n",
        "\n",
        "* 지수승의 값 $a^b$으로 반환"
      ]
    },
    {
      "cell_type": "code",
      "metadata": {
        "id": "leZovwlVT-Yl",
        "colab": {
          "base_uri": "https://localhost:8080/",
          "height": 55
        },
        "outputId": "5b057f41-9dca-4778-9a35-f072b8a1dd19"
      },
      "source": [
        "print(pow(2, 3))\n",
        "print(pow(10, 4))"
      ],
      "execution_count": null,
      "outputs": [
        {
          "output_type": "stream",
          "text": [
            "8\n",
            "10000\n"
          ],
          "name": "stdout"
        }
      ]
    },
    {
      "cell_type": "markdown",
      "metadata": {
        "id": "W4b6TVEIU2gw"
      },
      "source": [
        "### len(s)\n",
        "\n",
        "* 다양한 시퀀스의 갯수를 반환"
      ]
    },
    {
      "cell_type": "code",
      "metadata": {
        "id": "NIzuE0EVU6yC",
        "colab": {
          "base_uri": "https://localhost:8080/",
          "height": 73
        },
        "outputId": "aaac90ee-8dbb-4d61-8d92-b32b4aa7b971"
      },
      "source": [
        "print(len(\"String\"))\n",
        "print(len((1, 2, 3)))\n",
        "print(len([4, 5]))"
      ],
      "execution_count": null,
      "outputs": [
        {
          "output_type": "stream",
          "text": [
            "6\n",
            "3\n",
            "2\n"
          ],
          "name": "stdout"
        }
      ]
    },
    {
      "cell_type": "markdown",
      "metadata": {
        "id": "Me-tvSeTVF3I"
      },
      "source": [
        "### round()\n",
        "\n",
        "* 소수점 뒤를 반올림한 값을 반환"
      ]
    },
    {
      "cell_type": "code",
      "metadata": {
        "id": "l1m2_f7dVJky",
        "colab": {
          "base_uri": "https://localhost:8080/",
          "height": 92
        },
        "outputId": "7755902c-86a5-488a-ba51-4b6ec349085f"
      },
      "source": [
        "print(round(3.14))\n",
        "print(round(3.141527, 2))\n",
        "print(round(0.6))\n",
        "print(round(0.4))"
      ],
      "execution_count": null,
      "outputs": [
        {
          "output_type": "stream",
          "text": [
            "3\n",
            "3.14\n",
            "1\n",
            "0\n"
          ],
          "name": "stdout"
        }
      ]
    },
    {
      "cell_type": "markdown",
      "metadata": {
        "id": "F39_FXWHVVKh"
      },
      "source": [
        "### all()\n",
        "\n",
        "* 모든 값이 `True` 이거나 비어있을 때 `True` 반환"
      ]
    },
    {
      "cell_type": "code",
      "metadata": {
        "id": "ndPHacrvVbeS",
        "colab": {
          "base_uri": "https://localhost:8080/",
          "height": 92
        },
        "outputId": "9c859cda-0db1-4cb9-b7a1-42c96571f8c1"
      },
      "source": [
        "print(all((1, 2, 3)))\n",
        "print(all(()))\n",
        "print(all((False, True, False)))\n",
        "print(all((False, False, False)))"
      ],
      "execution_count": null,
      "outputs": [
        {
          "output_type": "stream",
          "text": [
            "True\n",
            "True\n",
            "False\n",
            "False\n"
          ],
          "name": "stdout"
        }
      ]
    },
    {
      "cell_type": "markdown",
      "metadata": {
        "id": "fanBFnO1V0Zu"
      },
      "source": [
        "### any()\n",
        "\n",
        "* 어떤 값이 `True` 이면 `True` 반환\n",
        "* 값이 비어있으면 `False` 반환"
      ]
    },
    {
      "cell_type": "code",
      "metadata": {
        "id": "oA6TIhIoV5gF",
        "colab": {
          "base_uri": "https://localhost:8080/",
          "height": 92
        },
        "outputId": "efac7e8c-db8b-404d-c156-4462488f8c70"
      },
      "source": [
        "print(any((1, 2, 3)))\n",
        "print(any(()))\n",
        "print(any((False, True, False)))\n",
        "print(any((False, False, False)))"
      ],
      "execution_count": null,
      "outputs": [
        {
          "output_type": "stream",
          "text": [
            "True\n",
            "False\n",
            "True\n",
            "False\n"
          ],
          "name": "stdout"
        }
      ]
    },
    {
      "cell_type": "markdown",
      "metadata": {
        "id": "D_yWm1gBEo4p"
      },
      "source": [
        "\n",
        "\n",
        "---\n",
        "\n"
      ]
    },
    {
      "cell_type": "markdown",
      "metadata": {
        "id": "mypjHsFSEtLz"
      },
      "source": [
        "# 연산자(Operators)\n",
        "\n"
      ]
    },
    {
      "cell_type": "markdown",
      "metadata": {
        "id": "5vw1RQEmFpTn"
      },
      "source": [
        "## 산술 연산자(Arithmetic Operators)\n",
        "\n"
      ]
    },
    {
      "cell_type": "code",
      "metadata": {
        "id": "iaozGCpH-Sze",
        "colab": {
          "base_uri": "https://localhost:8080/",
          "height": 148
        },
        "outputId": "dc08942d-919f-4f85-8217-ffa8c5878872"
      },
      "source": [
        "a = 6\n",
        "b = 4\n",
        "print(a + b)\n",
        "print(a - b)\n",
        "print(a * b)\n",
        "print(a / b)\n",
        "print(a % b)\n",
        "print(a ** b)\n",
        "print(a //b)"
      ],
      "execution_count": null,
      "outputs": [
        {
          "output_type": "stream",
          "text": [
            "10\n",
            "2\n",
            "24\n",
            "1.5\n",
            "2\n",
            "1296\n",
            "1\n"
          ],
          "name": "stdout"
        }
      ]
    },
    {
      "cell_type": "markdown",
      "metadata": {
        "id": "BbNJjYvkSzyQ"
      },
      "source": [
        "## 비교 연산자(Comparison Operators)\n",
        "\n"
      ]
    },
    {
      "cell_type": "code",
      "metadata": {
        "id": "EZELCQFgPmgI",
        "colab": {
          "base_uri": "https://localhost:8080/",
          "height": 129
        },
        "outputId": "f3075b1c-4143-406f-9c35-c6a582831a19"
      },
      "source": [
        "a, b = 6, 4\n",
        "print(a == b)\n",
        "print(a != b)\n",
        "print(a > b)\n",
        "print(a < b)\n",
        "print(a >= b)\n",
        "print(a <= b)"
      ],
      "execution_count": null,
      "outputs": [
        {
          "output_type": "stream",
          "text": [
            "False\n",
            "True\n",
            "True\n",
            "False\n",
            "True\n",
            "False\n"
          ],
          "name": "stdout"
        }
      ]
    },
    {
      "cell_type": "markdown",
      "metadata": {
        "id": "aKigU9vxWMPE"
      },
      "source": [
        "## 할당 연산자(Assignment Operators)\n",
        "\n"
      ]
    },
    {
      "cell_type": "code",
      "metadata": {
        "id": "8kQmBvcgVZag",
        "colab": {
          "base_uri": "https://localhost:8080/",
          "height": 167
        },
        "outputId": "750ad4e5-b6ee-46bc-948c-ada6783151e1"
      },
      "source": [
        "a, b = 6, 4\n",
        "print(a, b)\n",
        "a += b\n",
        "print(a)\n",
        "a -= b\n",
        "print(a)\n",
        "a *= b\n",
        "print(a)\n",
        "a /= b\n",
        "print(a)\n",
        "a %= b\n",
        "print(a)\n",
        "a **= b\n",
        "print(a)\n",
        "a //= b\n",
        "print(a)"
      ],
      "execution_count": null,
      "outputs": [
        {
          "output_type": "stream",
          "text": [
            "6 4\n",
            "10\n",
            "6\n",
            "24\n",
            "6.0\n",
            "2.0\n",
            "16.0\n",
            "4.0\n"
          ],
          "name": "stdout"
        }
      ]
    },
    {
      "cell_type": "markdown",
      "metadata": {
        "id": "fEbvvt68ZEkR"
      },
      "source": [
        "## 비트 연산자(Bitwise Operators)\n"
      ]
    },
    {
      "cell_type": "code",
      "metadata": {
        "id": "p7Py0jU6Xb-Y",
        "colab": {
          "base_uri": "https://localhost:8080/",
          "height": 167
        },
        "outputId": "3f4806d0-03ee-4d66-e8b5-1bea146cf2c1"
      },
      "source": [
        "a, b = 6, 4\n",
        "print(bin(a))\n",
        "print(bin(b))\n",
        "print(a & b, bin(a & b))\n",
        "print(a | b, bin(a | b))\n",
        "print(a ^ b, bin(a ^ b))\n",
        "print(~a, bin(~a))\n",
        "print(a << b, bin(a << b))\n",
        "print(a >> b, bin(a >> b))"
      ],
      "execution_count": null,
      "outputs": [
        {
          "output_type": "stream",
          "text": [
            "0b110\n",
            "0b100\n",
            "4 0b100\n",
            "6 0b110\n",
            "2 0b10\n",
            "-7 -0b111\n",
            "96 0b1100000\n",
            "0 0b0\n"
          ],
          "name": "stdout"
        }
      ]
    },
    {
      "cell_type": "markdown",
      "metadata": {
        "id": "mTlDlBfHb56x"
      },
      "source": [
        "## 논리 연산자(Logical Operators)\n"
      ]
    },
    {
      "cell_type": "code",
      "metadata": {
        "id": "h_cAKWdLbRrT",
        "colab": {
          "base_uri": "https://localhost:8080/",
          "height": 129
        },
        "outputId": "9868e6a0-9467-4e5c-82e3-2116cc4de04d"
      },
      "source": [
        "print(True and True)\n",
        "print(True and False)\n",
        "print(True or False)\n",
        "print(not True)\n",
        "print(not False)\n",
        "print(not (True and False))"
      ],
      "execution_count": null,
      "outputs": [
        {
          "output_type": "stream",
          "text": [
            "True\n",
            "False\n",
            "True\n",
            "False\n",
            "True\n",
            "True\n"
          ],
          "name": "stdout"
        }
      ]
    },
    {
      "cell_type": "markdown",
      "metadata": {
        "id": "7YkZ_IM1cqO_"
      },
      "source": [
        "## 멤버 연산자(Membership Operators)\n"
      ]
    },
    {
      "cell_type": "code",
      "metadata": {
        "id": "7ZOrVkhMcfUE",
        "colab": {
          "base_uri": "https://localhost:8080/",
          "height": 92
        },
        "outputId": "00c2e22d-6027-4f94-d5be-87bd4313113e"
      },
      "source": [
        "a, b = 6, 4\n",
        "l = [2, 4, 8]\n",
        "print(a in l)\n",
        "print(b in l)\n",
        "print(a not in l)\n",
        "print(b not in l)"
      ],
      "execution_count": null,
      "outputs": [
        {
          "output_type": "stream",
          "text": [
            "False\n",
            "True\n",
            "True\n",
            "False\n"
          ],
          "name": "stdout"
        }
      ]
    },
    {
      "cell_type": "markdown",
      "metadata": {
        "id": "rolPOjSYdQvA"
      },
      "source": [
        "## 식별 연산자(Identity Operators)\n"
      ]
    },
    {
      "cell_type": "code",
      "metadata": {
        "id": "tZ5C_GI_dChN",
        "colab": {
          "base_uri": "https://localhost:8080/",
          "height": 92
        },
        "outputId": "52ff6b22-556f-49ad-ed96-39283c920ade"
      },
      "source": [
        "a, b = 6, 4\n",
        "print(a is b)\n",
        "print(a is not b)\n",
        "a, b = 5, 5\n",
        "print(a is b)\n",
        "print(a is not b)"
      ],
      "execution_count": null,
      "outputs": [
        {
          "output_type": "stream",
          "text": [
            "False\n",
            "True\n",
            "True\n",
            "False\n"
          ],
          "name": "stdout"
        }
      ]
    }
  ]
}