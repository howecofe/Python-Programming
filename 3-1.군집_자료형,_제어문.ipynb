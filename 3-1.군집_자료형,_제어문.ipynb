{
  "nbformat": 4,
  "nbformat_minor": 0,
  "metadata": {
    "colab": {
      "name": "Jiyun Lee - 3. 군집 자료형, 제어문.ipynb",
      "provenance": [],
      "collapsed_sections": []
    },
    "kernelspec": {
      "name": "python3",
      "display_name": "Python 3"
    }
  },
  "cells": [
    {
      "cell_type": "markdown",
      "metadata": {
        "id": "D8GPVyUrQo7r"
      },
      "source": [
        "### 1. words_list 라는 list 안에 love, hate, I, happy, you, am, birthday, to, from, for, me, **dog** 라는 단어가 차례로 포함되어 있다. 이 단어들을 조합하여 2개의 문장을 만드시오."
      ]
    },
    {
      "cell_type": "code",
      "metadata": {
        "id": "U47LKQekElvb",
        "colab": {
          "base_uri": "https://localhost:8080/",
          "height": 55
        },
        "outputId": "a3b82fc3-a757-4447-92b9-df866f58f861"
      },
      "source": [
        "words_list = ['love', 'hate', 'I', 'happy', 'you', 'am', 'birthday', 'to', 'from', 'for', 'me', 'dog']\n",
        "index_list = [2, 0, 10, 3, 6, 7, 4]\n",
        "\n",
        "count = 0\n",
        "sentence_1 = ''\n",
        "sentence_2 = ''\n",
        "for i in index_list:\n",
        "  if count <3:\n",
        "    sentence_1 += words_list[i] + ' '\n",
        "    count += 1\n",
        "  else:\n",
        "    sentence_2 += words_list[i] + ' '\n",
        "\n",
        "print(\"문장 1: {}\".format(sentence_1))\n",
        "print(\"문장 2: {}\".format(sentence_2))\n",
        "  "
      ],
      "execution_count": null,
      "outputs": [
        {
          "output_type": "stream",
          "text": [
            "문장 1: I love me \n",
            "문장 2: happy birthday to you \n"
          ],
          "name": "stdout"
        }
      ]
    },
    {
      "cell_type": "markdown",
      "metadata": {
        "id": "CySJTutQADOU"
      },
      "source": [
        "### 2. 어느 카페의 메뉴가 4가지 있다. Americano, Cafe latte, Green tea latte, Cafe mocha 각 메뉴의 가격은 3000원, 4000원, 4500원, 5000원일 때, 이 메뉴 목록을 dictionary로 작성하고 Cafe latte와 Cafe mocha 를 주문했을 때 결제액을 계산하는 프로그램을 작성하시오."
      ]
    },
    {
      "cell_type": "code",
      "metadata": {
        "id": "U-1zjxchEma6",
        "colab": {
          "base_uri": "https://localhost:8080/",
          "height": 36
        },
        "outputId": "23ede6ad-e31f-4f41-9f67-8397a78da37a"
      },
      "source": [
        "menu = {'Americano': 3000, 'Cafe latte': 4000, 'Green tea latte': 4500, 'Cafe mocha': 5000}\n",
        "\n",
        "order = ['Cafe latte', 'Cafe mocha']\n",
        "sum = 0\n",
        "\n",
        "for i in order:\n",
        "  if i == 'Americano':\n",
        "    sum += menu.get('Americano')\n",
        "  elif i == 'Cafe latte':\n",
        "    sum += menu.get('Cafe latte')\n",
        "  elif i == 'Green tea latte':\n",
        "    sum += menu.get('Green tea latte')\n",
        "  else:\n",
        "    sum += menu.get('Cafe mocha')\n",
        "\n",
        "print(f\"주문 금액은 {sum}원 입니다.\")"
      ],
      "execution_count": null,
      "outputs": [
        {
          "output_type": "stream",
          "text": [
            "주문 금액은 9000원 입니다.\n"
          ],
          "name": "stdout"
        }
      ]
    },
    {
      "cell_type": "markdown",
      "metadata": {
        "id": "V3hfOEUAickI"
      },
      "source": [
        "### 3. 리스트를 원소로 갖는 리스트의 각 원소들의 합을 구하는 프로그램을 작성하시오.\n",
        "\n",
        "a = [(1,2), (3,4),(6,7),(10,11)]\n",
        "\n",
        "(hint) for (n1,n2) in a:\n",
        "\n"
      ]
    },
    {
      "cell_type": "code",
      "metadata": {
        "id": "wOn4EXfYEm7q",
        "colab": {
          "base_uri": "https://localhost:8080/",
          "height": 92
        },
        "outputId": "2d9fd7de-a33c-424b-949c-16f21bba75e2"
      },
      "source": [
        "a = [(1, 2), (3, 4), (6, 7), (10, 11)]\n",
        "\n",
        "for (n1, n2) in a:\n",
        "  sum = 0\n",
        "  sum += n1 + n2\n",
        "  print(sum)"
      ],
      "execution_count": null,
      "outputs": [
        {
          "output_type": "stream",
          "text": [
            "3\n",
            "7\n",
            "13\n",
            "21\n"
          ],
          "name": "stdout"
        }
      ]
    },
    {
      "cell_type": "markdown",
      "metadata": {
        "id": "P_Di3Ue4C-wV"
      },
      "source": [
        "### 4. 10~30 사이의 홀수를 출력하는 프로그램을 작성하시오."
      ]
    },
    {
      "cell_type": "code",
      "metadata": {
        "id": "bLwIQRwoEniM",
        "colab": {
          "base_uri": "https://localhost:8080/",
          "height": 36
        },
        "outputId": "ede2ca05-b98d-4672-b8e7-15ca718e0377"
      },
      "source": [
        "sum = 0\n",
        "\n",
        "for i in range(10, 30):\n",
        "  if i % 2 == 1:\n",
        "    sum += i\n",
        "  else:\n",
        "    pass\n",
        "print(sum)"
      ],
      "execution_count": null,
      "outputs": [
        {
          "output_type": "stream",
          "text": [
            "200\n"
          ],
          "name": "stdout"
        }
      ]
    },
    {
      "cell_type": "markdown",
      "metadata": {
        "id": "_HWhDYotELJy"
      },
      "source": [
        "### 5. 2020년이 윤년인지 검사하는 프로그램을 작성하시오.\n",
        "\n",
        "\n",
        "*  400 으로 나누어 떨어지는 해는 윤년이다.\n",
        "*  4로 나누어 떨어지는 해는 윤년이다.\n",
        "*  4로 나누어 떨어지지만 100으로 나누어 떨어지는 해는 윤년이 아니다.\n",
        "\n",
        "\n"
      ]
    },
    {
      "cell_type": "code",
      "metadata": {
        "id": "jBhHnB2LEoFS",
        "colab": {
          "base_uri": "https://localhost:8080/",
          "height": 36
        },
        "outputId": "895c845c-731c-4f4e-9ca5-e5d669acbb78"
      },
      "source": [
        "year = 2020\n",
        "\n",
        "if (year % 400 == 0) | (year % 4 == 0 & year % 100 != 0):\n",
        "  print(\"%d년은 윤년입니다.\" %year)\n",
        "else:\n",
        "  print(\"%d년은 평년입니다.\" %year)"
      ],
      "execution_count": null,
      "outputs": [
        {
          "output_type": "stream",
          "text": [
            "2020년은 평년입니다.\n"
          ],
          "name": "stdout"
        }
      ]
    }
  ]
}