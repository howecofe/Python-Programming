{
  "nbformat": 4,
  "nbformat_minor": 0,
  "metadata": {
    "colab": {
      "name": "Jiyun Lee - _04 리스트, 튜플, 세트, 딕셔너리.ipynb",
      "provenance": [],
      "collapsed_sections": [],
      "toc_visible": true
    },
    "kernelspec": {
      "name": "python3",
      "display_name": "Python 3"
    }
  },
  "cells": [
    {
      "cell_type": "markdown",
      "metadata": {
        "id": "bg5ZXMV2sn1M"
      },
      "source": [
        "# 리스트, 튜플, 세트, 딕셔너리"
      ]
    },
    {
      "cell_type": "markdown",
      "metadata": {
        "id": "Lj_iZPKnCRP0"
      },
      "source": [
        "\n",
        "\n",
        "---\n",
        "\n"
      ]
    },
    {
      "cell_type": "markdown",
      "metadata": {
        "id": "aKsMBDZohTu4"
      },
      "source": [
        "## 리스트(List)\n",
        "\n"
      ]
    },
    {
      "cell_type": "code",
      "metadata": {
        "id": "qLh1E-1_hxR_",
        "colab": {
          "base_uri": "https://localhost:8080/",
          "height": 111
        },
        "outputId": "ccc696c6-8132-4931-b33b-691139d81450"
      },
      "source": [
        "print([])\n",
        "print([1, 2, 3])\n",
        "print(['One', 'Two', 'Three'])\n",
        "print([1, 'One', 2, 'Two', 3, 'Three'])\n",
        "print([1, 2, 3, ['One', 'Two', 'Three']])"
      ],
      "execution_count": null,
      "outputs": [
        {
          "output_type": "stream",
          "text": [
            "[]\n",
            "[1, 2, 3]\n",
            "['One', 'Two', 'Three']\n",
            "[1, 'One', 2, 'Two', 3, 'Three']\n",
            "[1, 2, 3, ['One', 'Two', 'Three']]\n"
          ],
          "name": "stdout"
        }
      ]
    },
    {
      "cell_type": "markdown",
      "metadata": {
        "id": "YApkWxX_Yo7K"
      },
      "source": [
        "### 리스트 인덱싱(List Indexing)\n",
        "\n",
        "* 리스트의 각 위치에 해당하는 값에 접근하기 위해서 주소 개념의 숫자를 사용"
      ]
    },
    {
      "cell_type": "code",
      "metadata": {
        "id": "DapQSgP4ZEM_",
        "colab": {
          "base_uri": "https://localhost:8080/",
          "height": 148
        },
        "outputId": "1a32c4a9-04c8-432e-df87-685b3a00269f"
      },
      "source": [
        "list = ['One', 'Two', 'Three']\n",
        "print(list)\n",
        "print(list[0])\n",
        "print(list[1])\n",
        "print(list[2])\n",
        "print(list[-1])\n",
        "print(list[-2])\n",
        "print(list[-3])"
      ],
      "execution_count": null,
      "outputs": [
        {
          "output_type": "stream",
          "text": [
            "['One', 'Two', 'Three']\n",
            "One\n",
            "Two\n",
            "Three\n",
            "Three\n",
            "Two\n",
            "One\n"
          ],
          "name": "stdout"
        }
      ]
    },
    {
      "cell_type": "markdown",
      "metadata": {
        "id": "zudx4zfHdAvz"
      },
      "source": [
        "### 중첩 리스트 인덱싱(Nested List Indexing)\n",
        "\n",
        "* 리스트 안에 리스트가 있을 경우 인덱스 접근 방법"
      ]
    },
    {
      "cell_type": "code",
      "metadata": {
        "id": "4-AbAyBsdiu4",
        "colab": {
          "base_uri": "https://localhost:8080/",
          "height": 111
        },
        "outputId": "6c42f4cd-4961-45f5-dea8-b8303c0b792f"
      },
      "source": [
        "list = [1, 2, 3, ['One', 'Two', 'Three']]\n",
        "print(list)\n",
        "print(list[3])\n",
        "print(list[3][0])\n",
        "print(list[3][1])\n",
        "print(list[3][2])"
      ],
      "execution_count": null,
      "outputs": [
        {
          "output_type": "stream",
          "text": [
            "[1, 2, 3, ['One', 'Two', 'Three']]\n",
            "['One', 'Two', 'Three']\n",
            "One\n",
            "Two\n",
            "Three\n"
          ],
          "name": "stdout"
        }
      ]
    },
    {
      "cell_type": "markdown",
      "metadata": {
        "id": "qYff3UXAd_gZ"
      },
      "source": [
        "### 리스트 슬라이싱(List Slicing)\n",
        "\n",
        "* 리스트의 인덱스를 통해서 부분만 가져올 때 사용"
      ]
    },
    {
      "cell_type": "code",
      "metadata": {
        "id": "XV6YtlM8eFZ7",
        "colab": {
          "base_uri": "https://localhost:8080/",
          "height": 92
        },
        "outputId": "8b99d770-0487-41de-bca3-e113241b7f68"
      },
      "source": [
        "list = ['One', 'Two', 'Three']\n",
        "print(list)\n",
        "print(list[0:])\n",
        "print(list[1:2])\n",
        "print(list[1:])"
      ],
      "execution_count": null,
      "outputs": [
        {
          "output_type": "stream",
          "text": [
            "['One', 'Two', 'Three']\n",
            "['One', 'Two', 'Three']\n",
            "['Two']\n",
            "['Two', 'Three']\n"
          ],
          "name": "stdout"
        }
      ]
    },
    {
      "cell_type": "markdown",
      "metadata": {
        "id": "7BBUTCoWfRFY"
      },
      "source": [
        "### 중첩 리스트 슬라이싱(Nested List Slicing)\n",
        "\n",
        "* 중첩된 리스트에서 일부분만 인덱스를 통해서 가져올 때 사용"
      ]
    },
    {
      "cell_type": "code",
      "metadata": {
        "id": "KXqdQhpminGG",
        "colab": {
          "base_uri": "https://localhost:8080/",
          "height": 92
        },
        "outputId": "67d0e6a2-04d2-4306-d6e3-93ec970cf3ff"
      },
      "source": [
        "list = [1, 2, 3, ['One', 'Two', 'Three']]\n",
        "print(list)\n",
        "print(list[2:4])\n",
        "print(list[3][2:])\n",
        "print(list[3][:2])"
      ],
      "execution_count": null,
      "outputs": [
        {
          "output_type": "stream",
          "text": [
            "[1, 2, 3, ['One', 'Two', 'Three']]\n",
            "[3, ['One', 'Two', 'Three']]\n",
            "['Three']\n",
            "['One', 'Two']\n"
          ],
          "name": "stdout"
        }
      ]
    },
    {
      "cell_type": "markdown",
      "metadata": {
        "id": "q_9BaaINjg2l"
      },
      "source": [
        "### 리스트 연산자/함수(List Operators/Function)\n",
        "\n",
        "* 더하기 + 연산자\n",
        "* 곱하기 * 연산자\n",
        "* 리스트 길이를 구하는 `len()` 함수"
      ]
    },
    {
      "cell_type": "code",
      "metadata": {
        "id": "iylo3yUBjpBW",
        "colab": {
          "base_uri": "https://localhost:8080/",
          "height": 129
        },
        "outputId": "dfb3e1dd-5d9b-4787-bb06-113c5cae37ed"
      },
      "source": [
        "list_1 = ['One', 'Two', 'Three']\n",
        "list_2 = ['Four','Five', 'Six']\n",
        "print(list_1)\n",
        "print(list_2)\n",
        "print(list_1 + list_2)\n",
        "print(list_1 * 3)\n",
        "print(len(list_1))\n",
        "print(len(list_1 * 3))"
      ],
      "execution_count": null,
      "outputs": [
        {
          "output_type": "stream",
          "text": [
            "['One', 'Two', 'Three']\n",
            "['Four', 'Five', 'Six']\n",
            "['One', 'Two', 'Three', 'Four', 'Five', 'Six']\n",
            "['One', 'Two', 'Three', 'One', 'Two', 'Three', 'One', 'Two', 'Three']\n",
            "3\n",
            "9\n"
          ],
          "name": "stdout"
        }
      ]
    },
    {
      "cell_type": "markdown",
      "metadata": {
        "id": "XTQWWsI7j-g0"
      },
      "source": [
        "### 리스트 수정(List Modify)\n",
        "\n",
        "* 리스트 인덱스 주소를 이용한 값 수정"
      ]
    },
    {
      "cell_type": "code",
      "metadata": {
        "id": "ZAvCJXhPkDIN",
        "colab": {
          "base_uri": "https://localhost:8080/",
          "height": 73
        },
        "outputId": "36dc47af-de02-486d-8034-9eec952f00a5"
      },
      "source": [
        "list = ['One', 'Two', 'Three']\n",
        "print(list)\n",
        "list[2] = 3\n",
        "print(list)\n",
        "list[1] = 2\n",
        "list[0] = 1\n",
        "print(list)"
      ],
      "execution_count": null,
      "outputs": [
        {
          "output_type": "stream",
          "text": [
            "['One', 'Two', 'Three']\n",
            "['One', 'Two', 3]\n",
            "[1, 2, 3]\n"
          ],
          "name": "stdout"
        }
      ]
    },
    {
      "cell_type": "markdown",
      "metadata": {
        "id": "OolpuGcLlHrs"
      },
      "source": [
        "### 리스트 메소드(List Methods)\n"
      ]
    },
    {
      "cell_type": "markdown",
      "metadata": {
        "id": "m5xHM2-jlQh3"
      },
      "source": [
        "#### append()\n",
        "\n",
        "* 리스트 요소 추가"
      ]
    },
    {
      "cell_type": "code",
      "metadata": {
        "id": "8AaEGUxSlU_a",
        "colab": {
          "base_uri": "https://localhost:8080/",
          "height": 55
        },
        "outputId": "9c60b263-e604-43f8-f9f0-87331558b326"
      },
      "source": [
        "list = ['One', 'Two','Three']\n",
        "list.append('Four')\n",
        "print(list)\n",
        "list.append([1, 2, 3, 4])\n",
        "print(list)"
      ],
      "execution_count": null,
      "outputs": [
        {
          "output_type": "stream",
          "text": [
            "['One', 'Two', 'Three', 'Four']\n",
            "['One', 'Two', 'Three', 'Four', [1, 2, 3, 4]]\n"
          ],
          "name": "stdout"
        }
      ]
    },
    {
      "cell_type": "markdown",
      "metadata": {
        "id": "sIkoHvkJmQjD"
      },
      "source": [
        "#### sort()\n",
        "\n",
        "* 리스트 정렬"
      ]
    },
    {
      "cell_type": "code",
      "metadata": {
        "id": "XxCsua37mU7R",
        "colab": {
          "base_uri": "https://localhost:8080/",
          "height": 92
        },
        "outputId": "576c1899-0305-4986-82f9-83c911b7c248"
      },
      "source": [
        "list = [10, 40, 20, 30]\n",
        "print(list)\n",
        "list.sort()\n",
        "print(list)\n",
        "list = ['orange', 'apple', 'banana', 'strawberry']\n",
        "print(list)\n",
        "list.sort()\n",
        "print(list)"
      ],
      "execution_count": null,
      "outputs": [
        {
          "output_type": "stream",
          "text": [
            "[10, 40, 20, 30]\n",
            "[10, 20, 30, 40]\n",
            "['orange', 'apple', 'banana', 'strawberry']\n",
            "['apple', 'banana', 'orange', 'strawberry']\n"
          ],
          "name": "stdout"
        }
      ]
    },
    {
      "cell_type": "markdown",
      "metadata": {
        "id": "YdfEfFUEmmBZ"
      },
      "source": [
        "#### reverse()\n",
        "\n",
        "* 리스트 요소 반전"
      ]
    },
    {
      "cell_type": "code",
      "metadata": {
        "id": "gaqQQwm0mrAs",
        "colab": {
          "base_uri": "https://localhost:8080/",
          "height": 55
        },
        "outputId": "2aca9e54-4754-4c16-f90a-502c73f26c62"
      },
      "source": [
        "# reverse(): 거꾸로 정렬이 아니라 요소 인덱스 반전\n",
        "list = ['orange', 'apple', 'banana', 'strawberry']\n",
        "print(list)\n",
        "list.reverse()\n",
        "print(list)"
      ],
      "execution_count": null,
      "outputs": [
        {
          "output_type": "stream",
          "text": [
            "['orange', 'apple', 'banana', 'strawberry']\n",
            "['strawberry', 'banana', 'apple', 'orange']\n"
          ],
          "name": "stdout"
        }
      ]
    },
    {
      "cell_type": "markdown",
      "metadata": {
        "id": "B9GFsndRnwor"
      },
      "source": [
        "#### index()\n",
        "\n",
        "* 리스트의 요소 값에 대한 인덱스를 반환"
      ]
    },
    {
      "cell_type": "code",
      "metadata": {
        "id": "xs1Nlc_Hn1S3",
        "colab": {
          "base_uri": "https://localhost:8080/",
          "height": 73
        },
        "outputId": "93ddf0e9-79b3-4086-f3c9-a48c522764bc"
      },
      "source": [
        "list = [10, 40, 20, 30]\n",
        "print(list)\n",
        "print(list.index(10))\n",
        "print(list.index(20))"
      ],
      "execution_count": null,
      "outputs": [
        {
          "output_type": "stream",
          "text": [
            "[10, 40, 20, 30]\n",
            "0\n",
            "2\n"
          ],
          "name": "stdout"
        }
      ]
    },
    {
      "cell_type": "markdown",
      "metadata": {
        "id": "nSuJKFcUn9UK"
      },
      "source": [
        "#### insert()\n",
        "\n",
        "* 리스트 요소 삽입"
      ]
    },
    {
      "cell_type": "code",
      "metadata": {
        "id": "3crOTMcLoAdE",
        "colab": {
          "base_uri": "https://localhost:8080/",
          "height": 73
        },
        "outputId": "4db3749d-2ce5-46b5-ae77-083a6b8dde5f"
      },
      "source": [
        "list = [10, 40, 20, 30]\n",
        "print(list)\n",
        "list.insert(4, 50)        # list.insert(원하는 위치, 값)\n",
        "print(list)\n",
        "list.insert(0, 60)\n",
        "print(list)"
      ],
      "execution_count": null,
      "outputs": [
        {
          "output_type": "stream",
          "text": [
            "[10, 40, 20, 30]\n",
            "[10, 40, 20, 30, 50]\n",
            "[60, 10, 40, 20, 30, 50]\n"
          ],
          "name": "stdout"
        }
      ]
    },
    {
      "cell_type": "markdown",
      "metadata": {
        "id": "u9_0Hh5NyXXh"
      },
      "source": [
        "#### remove()\n",
        "\n",
        "* 리스트 요소 제거"
      ]
    },
    {
      "cell_type": "code",
      "metadata": {
        "id": "55jgJF1ZyjIp",
        "colab": {
          "base_uri": "https://localhost:8080/",
          "height": 73
        },
        "outputId": "b6968e3f-3d0c-4826-cdb0-dc055f4dab02"
      },
      "source": [
        "list = [10, 40, 20, 30]\n",
        "print(list)\n",
        "list.remove(40)\n",
        "print(list)\n",
        "list.remove(30)\n",
        "print(list)"
      ],
      "execution_count": null,
      "outputs": [
        {
          "output_type": "stream",
          "text": [
            "[10, 40, 20, 30]\n",
            "[10, 20, 30]\n",
            "[10, 20]\n"
          ],
          "name": "stdout"
        }
      ]
    },
    {
      "cell_type": "markdown",
      "metadata": {
        "id": "XE2VEcqyywE4"
      },
      "source": [
        "#### del\n",
        "\n",
        "* 리스트 요소 제거 연산"
      ]
    },
    {
      "cell_type": "code",
      "metadata": {
        "id": "AMDGcMSTy7RO",
        "colab": {
          "base_uri": "https://localhost:8080/",
          "height": 73
        },
        "outputId": "2e756b6c-65a3-4f25-bf4f-d8784791e5a5"
      },
      "source": [
        "list = [10, 40, 20, 30]\n",
        "print(list)\n",
        "del list[0]               # del 리스트명[인덱스]: 값이 아니라 인덱스로 접근\n",
        "print(list)\n",
        "del list[2]\n",
        "print(list)"
      ],
      "execution_count": null,
      "outputs": [
        {
          "output_type": "stream",
          "text": [
            "[10, 40, 20, 30]\n",
            "[40, 20, 30]\n",
            "[40, 20]\n"
          ],
          "name": "stdout"
        }
      ]
    },
    {
      "cell_type": "markdown",
      "metadata": {
        "id": "0R1KumQ8zPqj"
      },
      "source": [
        "#### pop()\n",
        "\n",
        "* 리스트 요소를 방출"
      ]
    },
    {
      "cell_type": "code",
      "metadata": {
        "id": "AES7G1e-za4k",
        "colab": {
          "base_uri": "https://localhost:8080/",
          "height": 73
        },
        "outputId": "af2e34e6-1dc9-4acf-f085-0c580e44086b"
      },
      "source": [
        "list = [10, 40, 20, 30]\n",
        "print(list)\n",
        "list.pop()\n",
        "print(list)\n",
        "list.pop(0)\n",
        "print(list)"
      ],
      "execution_count": null,
      "outputs": [
        {
          "output_type": "stream",
          "text": [
            "[10, 40, 20, 30]\n",
            "[10, 40, 20]\n",
            "[40, 20]\n"
          ],
          "name": "stdout"
        }
      ]
    },
    {
      "cell_type": "markdown",
      "metadata": {
        "id": "BnKMoBtrzkUP"
      },
      "source": [
        "#### count()\n",
        "\n",
        "* 리스트 요소의 갯수 계산"
      ]
    },
    {
      "cell_type": "code",
      "metadata": {
        "id": "iv13N4uWznsm",
        "colab": {
          "base_uri": "https://localhost:8080/",
          "height": 73
        },
        "outputId": "3bba6fe9-bf26-43a1-9635-7cb74dadd386"
      },
      "source": [
        "list = [10, 20, 20, 30, 30, 30]\n",
        "print(list)\n",
        "print(list.count(30))\n",
        "print(list.count(20))"
      ],
      "execution_count": null,
      "outputs": [
        {
          "output_type": "stream",
          "text": [
            "[10, 20, 20, 30, 30, 30]\n",
            "3\n",
            "2\n"
          ],
          "name": "stdout"
        }
      ]
    },
    {
      "cell_type": "markdown",
      "metadata": {
        "id": "sI87ApvJzxcM"
      },
      "source": [
        "#### extend()\n",
        "\n",
        "* 리스트 확장"
      ]
    },
    {
      "cell_type": "code",
      "metadata": {
        "id": "0q944_Znz0XJ",
        "colab": {
          "base_uri": "https://localhost:8080/",
          "height": 55
        },
        "outputId": "36c00cd2-2318-4875-b9b0-f662f42e22cf"
      },
      "source": [
        "list = [10, 40, 20, 30]\n",
        "print(list)\n",
        "list.extend([50, 60])\n",
        "print(list)"
      ],
      "execution_count": null,
      "outputs": [
        {
          "output_type": "stream",
          "text": [
            "[10, 40, 20, 30]\n",
            "[10, 40, 20, 30, 50, 60]\n"
          ],
          "name": "stdout"
        }
      ]
    },
    {
      "cell_type": "markdown",
      "metadata": {
        "id": "PzXHy8FxoW5l"
      },
      "source": [
        "\n",
        "\n",
        "---\n",
        "\n"
      ]
    },
    {
      "cell_type": "markdown",
      "metadata": {
        "id": "d38eO6_roX5E"
      },
      "source": [
        "## 튜플(Tuple)\n",
        "\n",
        "* 리스트와 유사하지만 변경 불가능한 시퀀스 자료형\n",
        "* 하나의 변수에 여러 값 할당 가능\n",
        "* ‘(‘와 ‘)’를 사용하여 표현"
      ]
    },
    {
      "cell_type": "code",
      "metadata": {
        "id": "1s9_Z7hQ0Ft0",
        "colab": {
          "base_uri": "https://localhost:8080/",
          "height": 111
        },
        "outputId": "cec7f156-c3b8-4974-b13b-6371ed50a38a"
      },
      "source": [
        "print(())\n",
        "print((1, 2, 3))\n",
        "print(('One', 'Two', 'Three'))\n",
        "print((1, 'One', 2, 'Two', 3, 'Three'))\n",
        "print((1, 2, 3, ('One', 'Two', 'Three')))"
      ],
      "execution_count": null,
      "outputs": [
        {
          "output_type": "stream",
          "text": [
            "()\n",
            "(1, 2, 3)\n",
            "('One', 'Two', 'Three')\n",
            "(1, 'One', 2, 'Two', 3, 'Three')\n",
            "(1, 2, 3, ('One', 'Two', 'Three'))\n"
          ],
          "name": "stdout"
        }
      ]
    },
    {
      "cell_type": "markdown",
      "metadata": {
        "id": "e3TE7eO00UKJ"
      },
      "source": [
        "### 튜플 인덱싱(Tuple Indexing)\n",
        "\n",
        "* 튜플의 각 위치에 해당하는 값에 접근하기 위해서 주소 개념의 숫자를 사용"
      ]
    },
    {
      "cell_type": "code",
      "metadata": {
        "id": "_usfNdhc0a_7",
        "colab": {
          "base_uri": "https://localhost:8080/",
          "height": 73
        },
        "outputId": "c56d69f2-030d-4c9e-ca30-60484e900d78"
      },
      "source": [
        "tuple = ('One', 'Two', 'Three')\n",
        "print(tuple)\n",
        "print(tuple[0])\n",
        "print(tuple[-1])"
      ],
      "execution_count": null,
      "outputs": [
        {
          "output_type": "stream",
          "text": [
            "('One', 'Two', 'Three')\n",
            "One\n",
            "Three\n"
          ],
          "name": "stdout"
        }
      ]
    },
    {
      "cell_type": "markdown",
      "metadata": {
        "id": "bFGXVZ8-05z2"
      },
      "source": [
        "### 중첩 튜플 인덱싱(Nested Tuple Indexing)\n",
        "\n",
        "* 튜플 안에 튜플이 중첩되어 있을 경우, 인덱스 접근 방법"
      ]
    },
    {
      "cell_type": "code",
      "metadata": {
        "id": "eq996H91097z",
        "colab": {
          "base_uri": "https://localhost:8080/",
          "height": 73
        },
        "outputId": "14242210-77e1-4da6-897d-98a9b5402077"
      },
      "source": [
        "tuple = (1, 2, 3, ('One', 'Two', 'Three'))\n",
        "print(tuple)\n",
        "print(tuple[3])\n",
        "print(tuple[3][1])"
      ],
      "execution_count": null,
      "outputs": [
        {
          "output_type": "stream",
          "text": [
            "(1, 2, 3, ('One', 'Two', 'Three'))\n",
            "('One', 'Two', 'Three')\n",
            "Two\n"
          ],
          "name": "stdout"
        }
      ]
    },
    {
      "cell_type": "markdown",
      "metadata": {
        "id": "nYYF6L223714"
      },
      "source": [
        "### 튜플 슬라이싱(Tuple Slicing)\n",
        "\n",
        "* 튜플의 인덱스를 통해서 부분만 가져올 때 사용"
      ]
    },
    {
      "cell_type": "code",
      "metadata": {
        "id": "J0lgz4SR67d8",
        "colab": {
          "base_uri": "https://localhost:8080/",
          "height": 92
        },
        "outputId": "866d959d-b3a4-4dcf-bcad-0692ac8ae21f"
      },
      "source": [
        "tuple = ('One', 'Two','Three')\n",
        "print(tuple)\n",
        "print(tuple[0:])\n",
        "print(tuple[1:2])\n",
        "print(tuple[1:])"
      ],
      "execution_count": null,
      "outputs": [
        {
          "output_type": "stream",
          "text": [
            "('One', 'Two', 'Three')\n",
            "('One', 'Two', 'Three')\n",
            "('Two',)\n",
            "('Two', 'Three')\n"
          ],
          "name": "stdout"
        }
      ]
    },
    {
      "cell_type": "markdown",
      "metadata": {
        "id": "ddlDZ-iH7JI0"
      },
      "source": [
        "### 중첩 튜플 슬라이싱(Nested Tuple Slicing)\n",
        "\n",
        "* 중첩된 튜플에서 일부분만 인덱스를 통해서 가져올 때 사용"
      ]
    },
    {
      "cell_type": "code",
      "metadata": {
        "id": "2GeXCqV37Nc3",
        "colab": {
          "base_uri": "https://localhost:8080/",
          "height": 92
        },
        "outputId": "d0ca6b57-ac9c-4534-a8bc-3f94ce4fc828"
      },
      "source": [
        "tuple = (1, 2, 3, ('One', 'Two', 'Three'))\n",
        "print(tuple)\n",
        "print(tuple[3])\n",
        "print(tuple[3][2:])\n",
        "print(tuple[3][:2])"
      ],
      "execution_count": null,
      "outputs": [
        {
          "output_type": "stream",
          "text": [
            "(1, 2, 3, ('One', 'Two', 'Three'))\n",
            "('One', 'Two', 'Three')\n",
            "('Three',)\n",
            "('One', 'Two')\n"
          ],
          "name": "stdout"
        }
      ]
    },
    {
      "cell_type": "markdown",
      "metadata": {
        "id": "V7H6n4Ps7u5M"
      },
      "source": [
        "### 튜플 연산자/함수(Tuple Operators/Function)\n",
        "\n",
        "* 더하기 + 연산\n",
        "* 곱하기 * 연산\n",
        "* 튜플 길이를 구하는 `len()` 함수\n",
        "\n"
      ]
    },
    {
      "cell_type": "code",
      "metadata": {
        "id": "QJstv3_T9LiY",
        "colab": {
          "base_uri": "https://localhost:8080/",
          "height": 129
        },
        "outputId": "7cb86c6c-adfb-451f-bde2-39336a6778cc"
      },
      "source": [
        "tuple_1 = ('One', 'Two', 'Three')\n",
        "tuple_2 = ('Four', 'Five', 'Six')\n",
        "print(tuple_1)\n",
        "print(tuple_2)\n",
        "print(tuple_1 + tuple_2)\n",
        "print(tuple_1 * 3)\n",
        "print(len(tuple_1))\n",
        "print(len(tuple_1 + tuple_2))"
      ],
      "execution_count": null,
      "outputs": [
        {
          "output_type": "stream",
          "text": [
            "('One', 'Two', 'Three')\n",
            "('Four', 'Five', 'Six')\n",
            "('One', 'Two', 'Three', 'Four', 'Five', 'Six')\n",
            "('One', 'Two', 'Three', 'One', 'Two', 'Three', 'One', 'Two', 'Three')\n",
            "3\n",
            "6\n"
          ],
          "name": "stdout"
        }
      ]
    },
    {
      "cell_type": "markdown",
      "metadata": {
        "id": "-drrAXi3xY3y"
      },
      "source": [
        "\n",
        "\n",
        "---\n",
        "\n"
      ]
    },
    {
      "cell_type": "markdown",
      "metadata": {
        "id": "zXbENjlMCrkU"
      },
      "source": [
        "## 세트(Set)\n",
        "\n",
        "* 데이터 중복을 허용하지 않는 구조\n",
        "* 순서가 없는 데이터 집합을 위한 구조\n",
        "* 인덱싱으로 값을 접근할 수 없음"
      ]
    },
    {
      "cell_type": "code",
      "metadata": {
        "id": "Rqyuh9dNC_FZ",
        "colab": {
          "base_uri": "https://localhost:8080/",
          "height": 73
        },
        "outputId": "7a9be2da-7139-4100-a562-07f3ee588c06"
      },
      "source": [
        "print({})\n",
        "print({'One', 'Two', 'Three'})\n",
        "print({10, 20, 30, 40})"
      ],
      "execution_count": null,
      "outputs": [
        {
          "output_type": "stream",
          "text": [
            "{}\n",
            "{'Three', 'One', 'Two'}\n",
            "{40, 10, 20, 30}\n"
          ],
          "name": "stdout"
        }
      ]
    },
    {
      "cell_type": "markdown",
      "metadata": {
        "id": "QerabWfwCvtt"
      },
      "source": [
        "### 세트 연산자(Set Operators)\n",
        "\n",
        "* 교집합: &\n",
        "* 합집합: |\n",
        "* 차집합: -\n",
        "* 여집합: ^"
      ]
    },
    {
      "cell_type": "code",
      "metadata": {
        "id": "22ALZ21LE60j",
        "colab": {
          "base_uri": "https://localhost:8080/",
          "height": 129
        },
        "outputId": "9a2f72f9-318b-41aa-f8ed-b71f275dce95"
      },
      "source": [
        "set_1 = {10, 20, 20, 30}\n",
        "set_2 = {30, 30, 40, 50}\n",
        "print(set_1)\n",
        "print(set_2)\n",
        "print(set_1 & set_2)\n",
        "print(set_1 | set_2)\n",
        "print(set_1 - set_2)\n",
        "print(set_1 ^ set_2)"
      ],
      "execution_count": null,
      "outputs": [
        {
          "output_type": "stream",
          "text": [
            "{10, 20, 30}\n",
            "{40, 50, 30}\n",
            "{30}\n",
            "{50, 20, 40, 10, 30}\n",
            "{10, 20}\n",
            "{40, 10, 50, 20}\n"
          ],
          "name": "stdout"
        }
      ]
    },
    {
      "cell_type": "markdown",
      "metadata": {
        "id": "of4Jq8l-McX7"
      },
      "source": [
        "### 세트 메소드(Set Methods)\n",
        "\n",
        "* 교집합: intersection()\n",
        "* 합집합: union()\n",
        "* 차집합: difference()\n",
        "* 여집합: symmetric_difference()"
      ]
    },
    {
      "cell_type": "code",
      "metadata": {
        "id": "w4JB__zpL_BW",
        "colab": {
          "base_uri": "https://localhost:8080/",
          "height": 129
        },
        "outputId": "0925b5d9-4244-4177-ccfd-91566fabecfc"
      },
      "source": [
        "set_1 = {10, 20, 20, 30}\n",
        "set_2 = {30, 30, 40, 50}\n",
        "print(set_1)\n",
        "print(set_2)\n",
        "print(set_1.intersection(set_2))\n",
        "print(set_1.union(set_2))\n",
        "print(set_1.difference(set_2))\n",
        "print(set_1.symmetric_difference(set_2))"
      ],
      "execution_count": null,
      "outputs": [
        {
          "output_type": "stream",
          "text": [
            "{10, 20, 30}\n",
            "{40, 50, 30}\n",
            "{30}\n",
            "{50, 20, 40, 10, 30}\n",
            "{10, 20}\n",
            "{40, 10, 50, 20}\n"
          ],
          "name": "stdout"
        }
      ]
    },
    {
      "cell_type": "markdown",
      "metadata": {
        "id": "lcdJvb_vFiKf"
      },
      "source": [
        "* 요소 추가: add()\n",
        "* 여러 요소 추가: update()\n",
        "* 요소 제거: remove()\n",
        "* 요소 제거: discard()\n",
        "* 모든 요소 제거: clear()"
      ]
    },
    {
      "cell_type": "code",
      "metadata": {
        "id": "xlo8NoTeF0dV",
        "colab": {
          "base_uri": "https://localhost:8080/",
          "height": 129
        },
        "outputId": "f18d2db7-12b0-4307-c64f-313ce0e1a39c"
      },
      "source": [
        "set = {10, 20, 30, 40}\n",
        "print(set)\n",
        "\n",
        "# 단일 요소 추가\n",
        "set.add(50)\n",
        "print(set)\n",
        "\n",
        "# 여러 요소 추가\n",
        "set.update([60, 70])\n",
        "print(set)\n",
        "\n",
        "set.remove(70)\n",
        "set.remove(60)\n",
        "print(set)\n",
        "\n",
        "set.discard(30)\n",
        "print(set)\n",
        "\n",
        "set.clear()\n",
        "print(set)"
      ],
      "execution_count": null,
      "outputs": [
        {
          "output_type": "stream",
          "text": [
            "{40, 10, 20, 30}\n",
            "{40, 10, 50, 20, 30}\n",
            "{70, 40, 10, 50, 20, 60, 30}\n",
            "{40, 10, 50, 20, 30}\n",
            "{40, 10, 50, 20}\n",
            "set()\n"
          ],
          "name": "stdout"
        }
      ]
    },
    {
      "cell_type": "markdown",
      "metadata": {
        "id": "0BWIlqrPCr__"
      },
      "source": [
        "\n",
        "\n",
        "---\n",
        "\n"
      ]
    },
    {
      "cell_type": "markdown",
      "metadata": {
        "id": "ZfKg8LniN113"
      },
      "source": [
        "## 딕셔너리(Dictionary)\n",
        "\n",
        "* 키(key)와 값(value)의 쌍으로 구성된 데이터\n",
        "* 순서가 없는 데이터\n",
        "* 키를 통해 값을 얻음\n",
        "* 동일한 키가 있을경우 덮어씀"
      ]
    },
    {
      "cell_type": "code",
      "metadata": {
        "id": "Ij33VNSGN7_D",
        "colab": {
          "base_uri": "https://localhost:8080/",
          "height": 55
        },
        "outputId": "c0f92630-4672-44bd-f9ad-fe42f459b234"
      },
      "source": [
        "dic = {1: 'One', 2: 'Two', 3: 'Three'}\n",
        "print(dic)\n",
        "\n",
        "dic = {1: 'One', 2: 'Two', 3: 'Three', 1: 'One', 2: 'Two', 3: 'Three'}\n",
        "print(dic)"
      ],
      "execution_count": null,
      "outputs": [
        {
          "output_type": "stream",
          "text": [
            "{1: 'One', 2: 'Two', 3: 'Three'}\n",
            "{1: 'One', 2: 'Two', 3: 'Three'}\n"
          ],
          "name": "stdout"
        }
      ]
    },
    {
      "cell_type": "markdown",
      "metadata": {
        "id": "Vq8tORypPmPX"
      },
      "source": [
        "### 딕셔너리 요소 추가/삭제\n",
        "\n",
        "* 딕셔너리의 해당 키 값에 값을 추가하여 요소 추가\n",
        "* del을 이용하여 요소 제거"
      ]
    },
    {
      "cell_type": "code",
      "metadata": {
        "id": "zjBqbHUhPjUX",
        "colab": {
          "base_uri": "https://localhost:8080/",
          "height": 111
        },
        "outputId": "00da477c-3e7f-4b5e-d7fb-92aea7043ba2"
      },
      "source": [
        "dic = {1: 'One', 2: 'Two', 3: 'Three'}\n",
        "print(dic)\n",
        "print(dic[2])        # 인덱스가 아닌 키로 접근\n",
        "dic[4] = 'Four'\n",
        "print(dic)\n",
        "dic[5] = 'Five'\n",
        "print(dic)\n",
        "del dic[4]\n",
        "print(dic)"
      ],
      "execution_count": null,
      "outputs": [
        {
          "output_type": "stream",
          "text": [
            "{1: 'One', 2: 'Two', 3: 'Three'}\n",
            "Two\n",
            "{1: 'One', 2: 'Two', 3: 'Three', 4: 'Four'}\n",
            "{1: 'One', 2: 'Two', 3: 'Three', 4: 'Four', 5: 'Five'}\n",
            "{1: 'One', 2: 'Two', 3: 'Three', 5: 'Five'}\n"
          ],
          "name": "stdout"
        }
      ]
    },
    {
      "cell_type": "markdown",
      "metadata": {
        "id": "SlUKOt2tSatr"
      },
      "source": [
        "### 딕셔너리 메소드(Dictionary Methods)\n"
      ]
    },
    {
      "cell_type": "code",
      "metadata": {
        "id": "JjF0-2zFP4vN",
        "colab": {
          "base_uri": "https://localhost:8080/",
          "height": 167
        },
        "outputId": "1028f35e-2501-4eec-c00a-0077ec69fb79"
      },
      "source": [
        "dic = {1: 'One', 2: 'Two', 3: 'Three'}\n",
        "print(dic)\n",
        "print(dic.keys())\n",
        "print(dic.values())\n",
        "print(dic.items())\n",
        "print(dic.get(2))\n",
        "print(dic.pop(3))\n",
        "print(dic)\n",
        "dic.clear()\n",
        "print(dic)"
      ],
      "execution_count": null,
      "outputs": [
        {
          "output_type": "stream",
          "text": [
            "{1: 'One', 2: 'Two', 3: 'Three'}\n",
            "dict_keys([1, 2, 3])\n",
            "dict_values(['One', 'Two', 'Three'])\n",
            "dict_items([(1, 'One'), (2, 'Two'), (3, 'Three')])\n",
            "Two\n",
            "Three\n",
            "{1: 'One', 2: 'Two'}\n",
            "{}\n"
          ],
          "name": "stdout"
        }
      ]
    }
  ]
}