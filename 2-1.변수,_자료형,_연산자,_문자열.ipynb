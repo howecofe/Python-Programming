{
  "nbformat": 4,
  "nbformat_minor": 0,
  "metadata": {
    "colab": {
      "name": "Jiyun Lee - 2. 변수, 자료형, 연산자, 문자열",
      "provenance": [],
      "collapsed_sections": []
    },
    "kernelspec": {
      "name": "python3",
      "display_name": "Python 3"
    }
  },
  "cells": [
    {
      "cell_type": "markdown",
      "metadata": {
        "id": "BDWKG_OyeNk1"
      },
      "source": [
        "### 1. 반지름(r)이 5인 원의 넓이(area)를 제곱 연산자를 이용하여 구하는 프로그램을 작성하시오. (원주율은 3.14)"
      ]
    },
    {
      "cell_type": "code",
      "metadata": {
        "id": "awFE5M8Lb-Mi",
        "colab": {
          "base_uri": "https://localhost:8080/",
          "height": 36
        },
        "outputId": "3d6d879d-fecb-4225-9071-f43d5f82718b"
      },
      "source": [
        "r = 5\n",
        "area = r ** 2 * 3.14\n",
        "print(area)"
      ],
      "execution_count": null,
      "outputs": [
        {
          "output_type": "stream",
          "text": [
            "78.5\n"
          ],
          "name": "stdout"
        }
      ]
    },
    {
      "cell_type": "markdown",
      "metadata": {
        "id": "gq9tX5XhewVn"
      },
      "source": [
        "### 2. 변수 x, y 에 11, 22 를 각각 대입하고, 다른 변수 z를 이용하여 두 수를 교환하는 프로그램을 작성하시오."
      ]
    },
    {
      "cell_type": "code",
      "metadata": {
        "id": "yTA9LC7eb_Nh",
        "colab": {
          "base_uri": "https://localhost:8080/",
          "height": 55
        },
        "outputId": "c0399490-8310-4a60-b5c9-75f68c18525e"
      },
      "source": [
        "x, y = 11, 22\n",
        "z = x\n",
        "x = y\n",
        "y = z\n",
        "print(\"x =\", x, \"\\ny =\", y)"
      ],
      "execution_count": null,
      "outputs": [
        {
          "output_type": "stream",
          "text": [
            "x = 22 \n",
            "y = 11\n"
          ],
          "name": "stdout"
        }
      ]
    },
    {
      "cell_type": "markdown",
      "metadata": {
        "id": "vT6--DXzY783"
      },
      "source": [
        "### 3. 다음 코드의 실행 결과를 확인하시오.\n",
        "\n",
        "`>>>` python = 'python is easy programming language.'\n",
        "\n",
        "`>>>` python[10:25]\n"
      ]
    },
    {
      "cell_type": "code",
      "metadata": {
        "id": "p_3YMrU7cAGs",
        "colab": {
          "base_uri": "https://localhost:8080/",
          "height": 36
        },
        "outputId": "73711f9b-0f80-4f1f-d1d4-adae5a2d766d"
      },
      "source": [
        "python = 'python is easy programming language.'\n",
        "print(python[10:25])"
      ],
      "execution_count": null,
      "outputs": [
        {
          "output_type": "stream",
          "text": [
            "easy programmin\n"
          ],
          "name": "stdout"
        }
      ]
    },
    {
      "cell_type": "markdown",
      "metadata": {
        "id": "u9cspxVCbjev"
      },
      "source": [
        "### 4. name, age, location 변수를 생성하고 각각 'Kevin', 25, 'New York'을 대입한 후, 변수를 이용하여 아래와 같은 문장이 출력하는 코드를 작성하시오.\n",
        "Hello! My name is Kevin. I'm from New York. I am 25 years old. "
      ]
    },
    {
      "cell_type": "code",
      "metadata": {
        "id": "6ztm5oyOcAq9",
        "colab": {
          "base_uri": "https://localhost:8080/",
          "height": 36
        },
        "outputId": "f4568c84-0f49-4a2a-f70f-86d2e50a1a3d"
      },
      "source": [
        "name = 'Kevin'\n",
        "age = 25\n",
        "location = 'New York'\n",
        "print(f\"Hello! My name is {name}. I'm from {location}. I am {age} years old.\")"
      ],
      "execution_count": null,
      "outputs": [
        {
          "output_type": "stream",
          "text": [
            "Hello! My name is Kevin. I'm from New York. I am 25 years old.\n"
          ],
          "name": "stdout"
        }
      ]
    },
    {
      "cell_type": "markdown",
      "metadata": {
        "id": "RKLDllUzdO9H"
      },
      "source": [
        "### 5. 변수 string1 은 'red apple', 변수 string2는 'yellow banana'의 문자열을 담고 있다. 문자열 인덱싱을 이용하여 'red banana', 'yellow apple'을 출력해 보자."
      ]
    },
    {
      "cell_type": "code",
      "metadata": {
        "id": "MNKzxfpacB1z",
        "colab": {
          "base_uri": "https://localhost:8080/",
          "height": 148
        },
        "outputId": "8c3b19cb-8b84-4f5c-d8d8-c4cb39202101"
      },
      "source": [
        "string1 = 'red apple'\n",
        "string2 = 'yellow banana'\n",
        "\n",
        "print(\"<문자열 인덱싱 이용>\")\n",
        "r = string1[0] + string1[1] + string1[2]\n",
        "b = string2[-6] + string2[-5] + string2[-4] + string2[-3] + string2[-2] + string2[-1]\n",
        "y = string2[0] + string2[1] + string2[2] + string2[3] + string2[4] + string2[5]\n",
        "a = string1[-5] + string1[-4] + string1[-3] + string1[-2] + string1[-1]\n",
        "print(r, b)\n",
        "print(y, a)\n",
        "\n",
        "print(\"\\n<문자열 슬라이싱 이용>\")\n",
        "print(string1[:3], string2[-6:])\n",
        "print(string2[:6], string1[4:])"
      ],
      "execution_count": null,
      "outputs": [
        {
          "output_type": "stream",
          "text": [
            "<문자열 인덱싱 이용>\n",
            "red banana\n",
            "yellow apple\n",
            "\n",
            "<문자열 슬라이싱 이용>\n",
            "red banana\n",
            "yellow apple\n"
          ],
          "name": "stdout"
        }
      ]
    }
  ]
}