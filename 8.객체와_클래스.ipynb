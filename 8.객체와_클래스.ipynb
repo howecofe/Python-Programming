{
  "nbformat": 4,
  "nbformat_minor": 0,
  "metadata": {
    "colab": {
      "name": "Jiyun Lee - _08 객체와 클래스.ipynb",
      "provenance": [],
      "collapsed_sections": [],
      "toc_visible": true
    },
    "kernelspec": {
      "name": "python3",
      "display_name": "Python 3"
    }
  },
  "cells": [
    {
      "cell_type": "markdown",
      "metadata": {
        "id": "bg5ZXMV2sn1M"
      },
      "source": [
        "# 객체와 클래스"
      ]
    },
    {
      "cell_type": "markdown",
      "metadata": {
        "id": "Lj_iZPKnCRP0"
      },
      "source": [
        "\n",
        "\n",
        "---\n",
        "\n"
      ]
    },
    {
      "cell_type": "markdown",
      "metadata": {
        "id": "zXbENjlMCrkU"
      },
      "source": [
        "## 객체(Object)\n",
        "\n"
      ]
    },
    {
      "cell_type": "markdown",
      "metadata": {
        "id": "41GeF0a5KMPU"
      },
      "source": [
        "### 객체 지향 프로그래밍(Object Oriented Programming)\n",
        "\n"
      ]
    },
    {
      "cell_type": "markdown",
      "metadata": {
        "id": "qQc_0nwV1YyE"
      },
      "source": [
        "## 클래스(Class)\n",
        "\n"
      ]
    },
    {
      "cell_type": "markdown",
      "metadata": {
        "id": "u91KX7n6K1Qx"
      },
      "source": [
        "### Book 클래스 정의\n",
        "\n",
        "* 클래스 이름: Book\n",
        "* 속성\n",
        "  + 저자: author\n",
        "  + 책 이름: name\n",
        "  + 출판사: publisher\n",
        "  + 발행일: date\n",
        "\n"
      ]
    },
    {
      "cell_type": "code",
      "metadata": {
        "id": "VIauKM25w6Aw"
      },
      "source": [
        "class Book(object):\n",
        "  author = \"\"\n",
        "  title = \"\"\n",
        "  publisher = \"\"\n",
        "  date = \"\""
      ],
      "execution_count": null,
      "outputs": []
    },
    {
      "cell_type": "code",
      "metadata": {
        "id": "oboUm_0ZmkwC",
        "colab": {
          "base_uri": "https://localhost:8080/",
          "height": 55
        },
        "outputId": "0d7b33e8-c054-4315-9ece-81115ac95685"
      },
      "source": [
        "book = Book()\n",
        "book.author = \"Suan\"\n",
        "print(book.author)\n",
        "book.title = \"Python Programming\"\n",
        "print(book.title)"
      ],
      "execution_count": null,
      "outputs": [
        {
          "output_type": "stream",
          "text": [
            "Suan\n",
            "Python Programming\n"
          ],
          "name": "stdout"
        }
      ]
    },
    {
      "cell_type": "markdown",
      "metadata": {
        "id": "b0ybpBx4B-NI"
      },
      "source": [
        "### Book 클래스 메소드 정의\n",
        "\n",
        "* 메소드\n",
        "  + 책 정보 출력: `print_info(self)`\n",
        "  + `self`가 있어야만 실제로 인스턴스가 사용할 수 있는 메소드로 선언\n",
        "  + `print_info(self)`에서 `self`는 실제적으로 `book` 인스턴스를 의미\n",
        "  + 메소드 안에서 속성 값을 사용하지 않을 경우에는 `self` 생략 가능"
      ]
    },
    {
      "cell_type": "code",
      "metadata": {
        "id": "bvq4rgKACKGh"
      },
      "source": [
        "class Book(object):\n",
        "  author = \"\"\n",
        "  title = \"\"\n",
        "  publisher = \"\"\n",
        "  date = \"\"\n",
        "\n",
        "  def print_info(self):\n",
        "    print(\"Author:\", self.author)\n",
        "    print(\"Title:\", self.title)"
      ],
      "execution_count": null,
      "outputs": []
    },
    {
      "cell_type": "code",
      "metadata": {
        "id": "QLYRU__lmoQx",
        "colab": {
          "base_uri": "https://localhost:8080/",
          "height": 55
        },
        "outputId": "7666b875-e0a1-4018-c5bf-6de83c4b79ed"
      },
      "source": [
        "book = Book()\n",
        "book.author = \"Suan\"\n",
        "book.title = \"Python Programming\"\n",
        "book.print_info()"
      ],
      "execution_count": null,
      "outputs": [
        {
          "output_type": "stream",
          "text": [
            "Author: Suan\n",
            "Title: Python Programming\n"
          ],
          "name": "stdout"
        }
      ]
    },
    {
      "cell_type": "markdown",
      "metadata": {
        "id": "8x-oWtbBxCpE"
      },
      "source": [
        "## 인스턴스 속성(Instance Attribute)\n",
        "\n",
        "* 인스턴스 속성은 객체로부터 인스턴스가 생성된 후에 인스턴스에서 활용하는 속성\n",
        "\n",
        "\n"
      ]
    },
    {
      "cell_type": "markdown",
      "metadata": {
        "id": "GbFr5qM78B41"
      },
      "source": [
        "### Book 인스턴스 속성\n",
        "\n",
        "* `Book` 클래스에서 생성된 인스턴스 `b1`에서 속성을 활용"
      ]
    },
    {
      "cell_type": "code",
      "metadata": {
        "id": "A25zZg3vjmk0"
      },
      "source": [
        "class Book(object):\n",
        "  author = \"\"\n",
        "  title = \"\"\n",
        "  publisher = \"\"\n",
        "  date = \"\"\n",
        "\n",
        "  def print_info(self):\n",
        "    print(\"Author:\", self.author)\n",
        "    print(\"Title:\", self.title)\n",
        "    print(\"Publisher:\", self.publisher)\n",
        "    print(\"Date:\", self.date)"
      ],
      "execution_count": null,
      "outputs": []
    },
    {
      "cell_type": "code",
      "metadata": {
        "id": "h-Ja0er-oZpe",
        "colab": {
          "base_uri": "https://localhost:8080/",
          "height": 92
        },
        "outputId": "74866a75-fda2-43eb-bed6-4a62f2bba724"
      },
      "source": [
        "b1 = Book()\n",
        "b1.author = \"Suan\"\n",
        "b1.title = \"Python Programming\"\n",
        "b1.publisher = \"Colab\"\n",
        "b1.date = \"2020\"\n",
        "b1.print_info()"
      ],
      "execution_count": null,
      "outputs": [
        {
          "output_type": "stream",
          "text": [
            "Author: Suan\n",
            "Title: Python Programming\n",
            "Publisher: Colab\n",
            "Date: 2020\n"
          ],
          "name": "stdout"
        }
      ]
    },
    {
      "cell_type": "markdown",
      "metadata": {
        "id": "QJg6wYdSHKFh"
      },
      "source": [
        "## 클래스 속성(Class Attribute)\n",
        "\n",
        "* 클래스 속성은 클래스 자체에서 사용되는 속성\n",
        "\n",
        "\n"
      ]
    },
    {
      "cell_type": "markdown",
      "metadata": {
        "id": "vCwxB_lyIv5D"
      },
      "source": [
        "### Book 클래스 속성\n",
        "\n",
        "* Book 클래스 자체에서 사용되는 속성"
      ]
    },
    {
      "cell_type": "code",
      "metadata": {
        "id": "YH4BbYHookXd"
      },
      "source": [
        "class Book(object):\n",
        "  author = \"\"\n",
        "  title = \"\"\n",
        "  publisher = \"\"\n",
        "  date = \"\"\n",
        "\n",
        "  def print_info(self):\n",
        "    print(\"Author:\", self.author)\n",
        "    print(\"Title:\", self.title)\n",
        "    print(\"Publisher:\", self.publisher)\n",
        "    print(\"Date:\", self.date)"
      ],
      "execution_count": null,
      "outputs": []
    },
    {
      "cell_type": "code",
      "metadata": {
        "id": "YBLwbRcrogBc",
        "colab": {
          "base_uri": "https://localhost:8080/",
          "height": 92
        },
        "outputId": "791e5c6c-297d-4461-8df8-f4b5473b6e5d"
      },
      "source": [
        "b1 = Book()\n",
        "Book.author = \"Suan\"\n",
        "Book.title = \"Python Programming\"\n",
        "Book.publisher = \"Colab\"\n",
        "Book.date = \"2020\"\n",
        "b1.print_info()"
      ],
      "execution_count": null,
      "outputs": [
        {
          "output_type": "stream",
          "text": [
            "Author: Suan\n",
            "Title: Python Programming\n",
            "Publisher: Colab\n",
            "Date: 2020\n"
          ],
          "name": "stdout"
        }
      ]
    },
    {
      "cell_type": "markdown",
      "metadata": {
        "id": "5rb7_sHfotYO"
      },
      "source": [
        "## 인스턴스 속성와 클래스 속성의 활용\n",
        "\n",
        "* 인스턴스 속성과 클래스 속성을 목적에 맞도록 나누어서 활용\n",
        "\n"
      ]
    },
    {
      "cell_type": "markdown",
      "metadata": {
        "id": "jp55uMrGpYsv"
      },
      "source": [
        "### Book 인스턴스 속성과 클래스 속성\n",
        "\n",
        "* 인스턴스 속성\n",
        "  + 저자: author\n",
        "  + 제목: title\n",
        "  + 출판사: publisher\n",
        "  + 발행일: date\n",
        "* 클래스 속성\n",
        "  + 수량: count"
      ]
    },
    {
      "cell_type": "code",
      "metadata": {
        "id": "6FJ2zFwepLrv"
      },
      "source": [
        "class Book(object):\n",
        "  author = \"\"\n",
        "  title = \"\"\n",
        "  publisher = \"\"\n",
        "  date = \"\"\n",
        "  count = 0\n",
        "\n",
        "  def print_info(self):\n",
        "    print(\"Author:\", self.author)\n",
        "    print(\"Title:\", self.title)\n",
        "    print(\"Publisher:\", self.publisher)\n",
        "    print(\"Date:\", self.date)"
      ],
      "execution_count": null,
      "outputs": []
    },
    {
      "cell_type": "code",
      "metadata": {
        "id": "QidaPjC2pthz",
        "colab": {
          "base_uri": "https://localhost:8080/",
          "height": 111
        },
        "outputId": "64a5f073-efe9-40ab-c377-f02375006759"
      },
      "source": [
        "b1 = Book()\n",
        "Book.count += 1\n",
        "b1.author = \"Suan\"\n",
        "b1.title = \"Python Programming\"\n",
        "b1.publisher = \"Colab\"\n",
        "b1.date = \"2020\"\n",
        "b1.print_info()\n",
        "print(\"Number of Books:\", str(Book.count))"
      ],
      "execution_count": null,
      "outputs": [
        {
          "output_type": "stream",
          "text": [
            "Author: Suan\n",
            "Title: Python Programming\n",
            "Publisher: Colab\n",
            "Date: 2020\n",
            "Number of Books: 1\n"
          ],
          "name": "stdout"
        }
      ]
    },
    {
      "cell_type": "markdown",
      "metadata": {
        "id": "wfmzBAGRBtWi"
      },
      "source": [
        "## 클래스 매직 메소드(Class Masic Methods)\n"
      ]
    },
    {
      "cell_type": "markdown",
      "metadata": {
        "id": "EZwYD92qt4gh"
      },
      "source": [
        "### `__init__()`\n",
        "\n",
        "* `__init__()` 메소드를 이용하여 클래스의 속성들을 초기화"
      ]
    },
    {
      "cell_type": "code",
      "metadata": {
        "id": "_nq6-s-qBwio"
      },
      "source": [
        "class Book(object):\n",
        "  count = 0\n",
        "\n",
        "  def __init__(self, author, title, publisher, date):\n",
        "    self.author = author\n",
        "    self.title = title\n",
        "    self.publisher = publisher\n",
        "    self.date = date\n",
        "    Book.count += 1\n",
        "\n",
        "  def print_info(self):\n",
        "    print(\"Author:\", self.author)\n",
        "    print(\"Title:\", self.title)\n",
        "    print(\"Publisher:\", self.publisher)\n",
        "    print(\"Date:\", self.date)"
      ],
      "execution_count": null,
      "outputs": []
    },
    {
      "cell_type": "code",
      "metadata": {
        "id": "oQknTy7Mul4a",
        "colab": {
          "base_uri": "https://localhost:8080/",
          "height": 111
        },
        "outputId": "0e42d330-be65-40a8-815c-2e37623b6b88"
      },
      "source": [
        "book = Book(\"Suan\", \"Python Programming\", \"Colab\", \"2020\")\n",
        "book.print_info()\n",
        "print(\"Number of Books:\", str(Book.count))"
      ],
      "execution_count": null,
      "outputs": [
        {
          "output_type": "stream",
          "text": [
            "Author: Suan\n",
            "Title: Python Programming\n",
            "Publisher: Colab\n",
            "Date: 2020\n",
            "Number of Books: 5\n"
          ],
          "name": "stdout"
        }
      ]
    },
    {
      "cell_type": "markdown",
      "metadata": {
        "id": "gTRPQI5cu_vU"
      },
      "source": [
        "### `__str__()`\n",
        "\n",
        "* `__str__()` 메소드를 이용하여 인스턴스 출력"
      ]
    },
    {
      "cell_type": "code",
      "metadata": {
        "id": "QYd5z8z2vIq2"
      },
      "source": [
        "class Book(object):\n",
        "  count = 0\n",
        "\n",
        "  def __init__(self, author, title, publisher, date):\n",
        "    self.author = author\n",
        "    self.title = title\n",
        "    self.publisher = publisher\n",
        "    self.date = date\n",
        "    Book.count += 1\n",
        "\n",
        "  def __str__(self):\n",
        "    return (\"Author:\" + self.author + \\\n",
        "            \"\\nTitle:\" + self.title + \\\n",
        "            \"\\nPublisher:\" + self.publisher + \\\n",
        "            \"\\nDate:\" + self.date)"
      ],
      "execution_count": null,
      "outputs": []
    },
    {
      "cell_type": "code",
      "metadata": {
        "id": "eECQWpfkvimX",
        "colab": {
          "base_uri": "https://localhost:8080/",
          "height": 111
        },
        "outputId": "340161b1-af87-40c6-d3d9-668f68704a84"
      },
      "source": [
        "book = Book(\"Suan\", \"Python Programming\", \"Colab\", \"2020\")\n",
        "print(book) #__str__ 출력\n",
        "print(\"Number of Books:\", str(Book.count))"
      ],
      "execution_count": null,
      "outputs": [
        {
          "output_type": "stream",
          "text": [
            "Author:Suan\n",
            "Title:Python Programming\n",
            "Publisher:Colab\n",
            "Date:2020\n",
            "Number of Books: 1\n"
          ],
          "name": "stdout"
        }
      ]
    },
    {
      "cell_type": "markdown",
      "metadata": {
        "id": "400E5EtqwBq3"
      },
      "source": [
        "### 매직 메소드 예제\n",
        "\n",
        "* Line 클래스"
      ]
    },
    {
      "cell_type": "code",
      "metadata": {
        "id": "XFXm9WwCwcUD"
      },
      "source": [
        "class Line(object):\n",
        "  length = 0\n",
        "\n",
        "  def __init__(self, length):\n",
        "    self.length = length\n",
        "    print(self.length, \"길이의 선 생성\")\n",
        "\n",
        "  def __del__(self):\n",
        "    print(self.length, \"길이의 선 제거\")\n",
        "\n",
        "  def __repr__(self): #print(인스턴스)\n",
        "    return str(self.length)\n",
        "\n",
        "  def __add__(self, other): #self: 자기 자신 other: 다른 인스턴스\n",
        "    return self.length + other.length\n",
        "\n",
        "  def __lt__(self, other):\n",
        "    return self.length < other.length\n",
        "\n",
        "  def __le__(self, other):\n",
        "    return self.length <= other.length\n",
        "\n",
        "  def __gt__(self, other):\n",
        "    return self.length > other.length\n",
        "\n",
        "  def __ge__(self, other):\n",
        "    return self.length >= other.length\n",
        "\n",
        "  def __eq__(self, other):\n",
        "    return self.length == other.length\n",
        "\n",
        "  def __ne__(self, other):\n",
        "    return self.length != other.length"
      ],
      "execution_count": null,
      "outputs": []
    },
    {
      "cell_type": "code",
      "metadata": {
        "id": "nFThopZjxPRK",
        "colab": {
          "base_uri": "https://localhost:8080/",
          "height": 167
        },
        "outputId": "5aba7032-a292-4a9a-a37f-ce2b27763fea"
      },
      "source": [
        "l1 = Line(10)\n",
        "print(l1)\n",
        "\n",
        "l2 = Line(20)\n",
        "print(l2)\n",
        "\n",
        "print(\"선의 합:\", l1 + l2)\n",
        "\n",
        "if l1 < l2:\n",
        "  print(l1, '<', l2)\n",
        "elif l1 <= l2:\n",
        "  print(l1, '<=', l2)\n",
        "elif l1 > l2:\n",
        "  print(l1, '>', l2)\n",
        "elif l1 >= 12:\n",
        "  print(l1, '>=', l2)\n",
        "elif l1 == 12:\n",
        "  print(l1, '==', l2)\n",
        "elif l1 != 12:\n",
        "  print(l1, '!=', l2)\n",
        "else:\n",
        "  pass\n",
        "\n",
        "del(l1)\n",
        "del(l2)"
      ],
      "execution_count": null,
      "outputs": [
        {
          "output_type": "stream",
          "text": [
            "10 길이의 선 생성\n",
            "10\n",
            "20 길이의 선 생성\n",
            "20\n",
            "선의 합: 30\n",
            "10 < 20\n",
            "10 길이의 선 제거\n",
            "20 길이의 선 제거\n"
          ],
          "name": "stdout"
        }
      ]
    },
    {
      "cell_type": "markdown",
      "metadata": {
        "id": "7rnSGoFCxvKK"
      },
      "source": [
        "### 가시성 예제\n",
        "\n",
        "* `__items` 속성은 Box 객체 외부에서 보이지 않도록 캡슐화와 정보 은닉이 가능\n",
        "* 외부에서 `__items` 속성에 접근하면 속성 오류 발생"
      ]
    },
    {
      "cell_type": "code",
      "metadata": {
        "id": "DTrIbq53x3ZI"
      },
      "source": [
        "class Box(object):\n",
        "  def __init__(self, name):\n",
        "    self.name = name\n",
        "    self.__items = []\n",
        "\n",
        "  def add_item(self, item):\n",
        "    self.__items.append(item)\n",
        "    print(\"아이템 추가\")\n",
        "    \n",
        "  def get_number_of_items(self):\n",
        "    return len(self.__items)"
      ],
      "execution_count": null,
      "outputs": []
    },
    {
      "cell_type": "code",
      "metadata": {
        "id": "AU5wHppgyLbh",
        "colab": {
          "base_uri": "https://localhost:8080/",
          "height": 92
        },
        "outputId": "7c790388-3f5d-4ec1-a3e8-04104f0633b6"
      },
      "source": [
        "box = Box(\"Box\")\n",
        "box.add_item(\"Item1\")\n",
        "box.add_item(\"Item2\")\n",
        "print(box.name)\n",
        "print(box.get_number_of_items())\n",
        "#print(box.__items)"
      ],
      "execution_count": null,
      "outputs": [
        {
          "output_type": "stream",
          "text": [
            "아이템 추가\n",
            "아이템 추가\n",
            "Box\n",
            "2\n"
          ],
          "name": "stdout"
        }
      ]
    },
    {
      "cell_type": "markdown",
      "metadata": {
        "id": "Gid0aLGUBx9D"
      },
      "source": [
        "## 클래스 상속(Class Inheritance)\n"
      ]
    },
    {
      "cell_type": "code",
      "metadata": {
        "id": "QFIEB2XP1XsW"
      },
      "source": [
        "class SuperClass(object):\n",
        "  pass\n",
        "\n",
        "class SubClass(SuperClass):\n",
        "  pass"
      ],
      "execution_count": null,
      "outputs": []
    },
    {
      "cell_type": "markdown",
      "metadata": {
        "id": "YILvez-k05pV"
      },
      "source": [
        "### 메소드 오버라이딩(Method Overriding)\n",
        "\n",
        "\n"
      ]
    },
    {
      "cell_type": "code",
      "metadata": {
        "id": "np_aylDHzSXs"
      },
      "source": [
        "class SuperClass(object):\n",
        "  def method(self):\n",
        "    pass\n",
        "\n",
        "class SubClass1(SuperClass):\n",
        "  def method(self):\n",
        "    print(\"Method Overriding\")\n",
        "\n",
        "class SubClass2(SuperClass):\n",
        "  pass"
      ],
      "execution_count": null,
      "outputs": []
    },
    {
      "cell_type": "code",
      "metadata": {
        "id": "HCPloTpu2tJf",
        "colab": {
          "base_uri": "https://localhost:8080/",
          "height": 36
        },
        "outputId": "8db20d66-05c1-4e87-9891-02d7c4167b40"
      },
      "source": [
        "sub1 = SubClass1()\n",
        "sub2 = SubClass2()\n",
        "\n",
        "sub1.method()\n",
        "sub2.method() #상속받았기 때문에 정의된 게 없어도 오류X"
      ],
      "execution_count": null,
      "outputs": [
        {
          "output_type": "stream",
          "text": [
            "Method Overriding\n"
          ],
          "name": "stdout"
        }
      ]
    },
    {
      "cell_type": "markdown",
      "metadata": {
        "id": "5JcJXHiUyqmt"
      },
      "source": [
        "### 클래스 상속, 메소드 오버라이딩 예제\n",
        "\n",
        "* Vehicle 클래스를 상속받아 Car 클래스와 Truck 클래스 생성\n",
        "* Car 클래스와 Truck 클래스는 up_speed 메소드를 오버라이딩\n",
        "* Car 클래스는 속도가 240 초과되면 240으로 조정\n",
        "* Truck 클래스는 속도가 180 초과되면 180으로 조정"
      ]
    },
    {
      "cell_type": "code",
      "metadata": {
        "id": "WAQOF_BcB2ww"
      },
      "source": [
        "class Vehicle(object):\n",
        "  speed = 0\n",
        "  def up_speed(self, value):\n",
        "    self.speed += value\n",
        "\n",
        "  def down_speed(self, value):\n",
        "    self.speed -= value\n",
        "  \n",
        "  def print_speed(self):\n",
        "    print(\"Speed:\", str(self.speed))\n",
        "\n",
        "class Car(Vehicle):\n",
        "  def up_speed(self, value):\n",
        "    self.speed += value\n",
        "    if self.speed > 240: self.speed = 240\n",
        "\n",
        "class Truck(Vehicle):\n",
        "  def up_speed(self, value):\n",
        "    self.speed += value\n",
        "    if self.speed > 180: self.speed = 180"
      ],
      "execution_count": null,
      "outputs": []
    },
    {
      "cell_type": "code",
      "metadata": {
        "id": "xjlG-ZDM3tXw",
        "colab": {
          "base_uri": "https://localhost:8080/",
          "height": 55
        },
        "outputId": "fc5fa19f-e0ae-4679-ed76-7a13bbf94ebf"
      },
      "source": [
        "car = Car()\n",
        "car.up_speed(300)\n",
        "car.print_speed()\n",
        "\n",
        "truck = Truck()\n",
        "truck.up_speed(200)\n",
        "truck.print_speed()"
      ],
      "execution_count": null,
      "outputs": [
        {
          "output_type": "stream",
          "text": [
            "Speed: 240\n",
            "Speed: 180\n"
          ],
          "name": "stdout"
        }
      ]
    }
  ]
}